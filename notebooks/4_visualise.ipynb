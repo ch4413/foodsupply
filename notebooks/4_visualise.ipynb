{
 "cells": [
  {
   "cell_type": "markdown",
   "metadata": {},
   "source": [
    "### Visualise data"
   ]
  },
  {
   "cell_type": "code",
   "execution_count": 130,
   "metadata": {},
   "outputs": [],
   "source": [
    "import pandas as pd\n",
    "import seaborn as sns\n",
    "import matplotlib.pyplot as plt"
   ]
  },
  {
   "cell_type": "code",
   "execution_count": 41,
   "metadata": {},
   "outputs": [],
   "source": [
    "final_data = pd.read_csv('../data/final_data.csv')"
   ]
  },
  {
   "cell_type": "code",
   "execution_count": 42,
   "metadata": {},
   "outputs": [],
   "source": [
    "final_data['calendar_date'] = pd.to_datetime(final_data['calendar_date'], format='%Y-%m-%d')"
   ]
  },
  {
   "cell_type": "code",
   "execution_count": 43,
   "metadata": {},
   "outputs": [],
   "source": [
    "metrics = ['calendar_date', 'depot_store_id','product_waste', 'product_stockout', 'depot_waste', \n",
    "           'forecast_waste', 'forecast_stockout', 'waste_prediction_waste',\n",
    "          'waste_prediction_stockout', 'stock_waste', 'stock_stockout', 'negative_stockfile']"
   ]
  },
  {
   "cell_type": "code",
   "execution_count": 64,
   "metadata": {},
   "outputs": [
    {
     "data": {
      "text/html": [
       "<div>\n",
       "<style scoped>\n",
       "    .dataframe tbody tr th:only-of-type {\n",
       "        vertical-align: middle;\n",
       "    }\n",
       "\n",
       "    .dataframe tbody tr th {\n",
       "        vertical-align: top;\n",
       "    }\n",
       "\n",
       "    .dataframe thead th {\n",
       "        text-align: right;\n",
       "    }\n",
       "</style>\n",
       "<table border=\"1\" class=\"dataframe\">\n",
       "  <thead>\n",
       "    <tr style=\"text-align: right;\">\n",
       "      <th></th>\n",
       "      <th>calendar_date</th>\n",
       "      <th>depot_store_id</th>\n",
       "      <th>product_waste</th>\n",
       "      <th>product_stockout</th>\n",
       "      <th>depot_waste</th>\n",
       "      <th>forecast_waste</th>\n",
       "      <th>forecast_stockout</th>\n",
       "      <th>waste_prediction_waste</th>\n",
       "      <th>waste_prediction_stockout</th>\n",
       "      <th>stock_waste</th>\n",
       "      <th>stock_stockout</th>\n",
       "      <th>negative_stockfile</th>\n",
       "    </tr>\n",
       "  </thead>\n",
       "  <tbody>\n",
       "    <tr>\n",
       "      <th>0</th>\n",
       "      <td>2018-07-07</td>\n",
       "      <td>5173.0</td>\n",
       "      <td>False</td>\n",
       "      <td>False</td>\n",
       "      <td>True</td>\n",
       "      <td>False</td>\n",
       "      <td>True</td>\n",
       "      <td>False</td>\n",
       "      <td>False</td>\n",
       "      <td>False</td>\n",
       "      <td>False</td>\n",
       "      <td>False</td>\n",
       "    </tr>\n",
       "    <tr>\n",
       "      <th>1</th>\n",
       "      <td>2018-07-07</td>\n",
       "      <td>5908.0</td>\n",
       "      <td>False</td>\n",
       "      <td>False</td>\n",
       "      <td>False</td>\n",
       "      <td>False</td>\n",
       "      <td>True</td>\n",
       "      <td>True</td>\n",
       "      <td>False</td>\n",
       "      <td>False</td>\n",
       "      <td>False</td>\n",
       "      <td>False</td>\n",
       "    </tr>\n",
       "    <tr>\n",
       "      <th>2</th>\n",
       "      <td>2018-07-07</td>\n",
       "      <td>5173.0</td>\n",
       "      <td>False</td>\n",
       "      <td>False</td>\n",
       "      <td>False</td>\n",
       "      <td>False</td>\n",
       "      <td>True</td>\n",
       "      <td>True</td>\n",
       "      <td>False</td>\n",
       "      <td>False</td>\n",
       "      <td>False</td>\n",
       "      <td>False</td>\n",
       "    </tr>\n",
       "    <tr>\n",
       "      <th>3</th>\n",
       "      <td>2018-07-07</td>\n",
       "      <td>5380.0</td>\n",
       "      <td>False</td>\n",
       "      <td>False</td>\n",
       "      <td>False</td>\n",
       "      <td>False</td>\n",
       "      <td>False</td>\n",
       "      <td>False</td>\n",
       "      <td>False</td>\n",
       "      <td>False</td>\n",
       "      <td>False</td>\n",
       "      <td>False</td>\n",
       "    </tr>\n",
       "    <tr>\n",
       "      <th>4</th>\n",
       "      <td>2018-07-07</td>\n",
       "      <td>5212.0</td>\n",
       "      <td>False</td>\n",
       "      <td>False</td>\n",
       "      <td>False</td>\n",
       "      <td>False</td>\n",
       "      <td>True</td>\n",
       "      <td>False</td>\n",
       "      <td>True</td>\n",
       "      <td>False</td>\n",
       "      <td>False</td>\n",
       "      <td>False</td>\n",
       "    </tr>\n",
       "    <tr>\n",
       "      <th>...</th>\n",
       "      <td>...</td>\n",
       "      <td>...</td>\n",
       "      <td>...</td>\n",
       "      <td>...</td>\n",
       "      <td>...</td>\n",
       "      <td>...</td>\n",
       "      <td>...</td>\n",
       "      <td>...</td>\n",
       "      <td>...</td>\n",
       "      <td>...</td>\n",
       "      <td>...</td>\n",
       "      <td>...</td>\n",
       "    </tr>\n",
       "    <tr>\n",
       "      <th>1334778</th>\n",
       "      <td>2018-08-06</td>\n",
       "      <td>5908.0</td>\n",
       "      <td>False</td>\n",
       "      <td>False</td>\n",
       "      <td>False</td>\n",
       "      <td>False</td>\n",
       "      <td>False</td>\n",
       "      <td>True</td>\n",
       "      <td>False</td>\n",
       "      <td>False</td>\n",
       "      <td>False</td>\n",
       "      <td>False</td>\n",
       "    </tr>\n",
       "    <tr>\n",
       "      <th>1334779</th>\n",
       "      <td>2018-08-06</td>\n",
       "      <td>5173.0</td>\n",
       "      <td>False</td>\n",
       "      <td>False</td>\n",
       "      <td>False</td>\n",
       "      <td>True</td>\n",
       "      <td>False</td>\n",
       "      <td>True</td>\n",
       "      <td>False</td>\n",
       "      <td>False</td>\n",
       "      <td>False</td>\n",
       "      <td>False</td>\n",
       "    </tr>\n",
       "    <tr>\n",
       "      <th>1334780</th>\n",
       "      <td>2018-08-06</td>\n",
       "      <td>6567.0</td>\n",
       "      <td>False</td>\n",
       "      <td>False</td>\n",
       "      <td>False</td>\n",
       "      <td>True</td>\n",
       "      <td>False</td>\n",
       "      <td>True</td>\n",
       "      <td>False</td>\n",
       "      <td>False</td>\n",
       "      <td>False</td>\n",
       "      <td>False</td>\n",
       "    </tr>\n",
       "    <tr>\n",
       "      <th>1334781</th>\n",
       "      <td>2018-08-06</td>\n",
       "      <td>5212.0</td>\n",
       "      <td>False</td>\n",
       "      <td>False</td>\n",
       "      <td>False</td>\n",
       "      <td>False</td>\n",
       "      <td>False</td>\n",
       "      <td>True</td>\n",
       "      <td>True</td>\n",
       "      <td>False</td>\n",
       "      <td>False</td>\n",
       "      <td>False</td>\n",
       "    </tr>\n",
       "    <tr>\n",
       "      <th>1334782</th>\n",
       "      <td>2018-08-06</td>\n",
       "      <td>5652.0</td>\n",
       "      <td>False</td>\n",
       "      <td>False</td>\n",
       "      <td>False</td>\n",
       "      <td>False</td>\n",
       "      <td>False</td>\n",
       "      <td>True</td>\n",
       "      <td>False</td>\n",
       "      <td>False</td>\n",
       "      <td>False</td>\n",
       "      <td>False</td>\n",
       "    </tr>\n",
       "  </tbody>\n",
       "</table>\n",
       "<p>1334783 rows × 12 columns</p>\n",
       "</div>"
      ],
      "text/plain": [
       "        calendar_date  depot_store_id  product_waste  product_stockout  \\\n",
       "0          2018-07-07          5173.0          False             False   \n",
       "1          2018-07-07          5908.0          False             False   \n",
       "2          2018-07-07          5173.0          False             False   \n",
       "3          2018-07-07          5380.0          False             False   \n",
       "4          2018-07-07          5212.0          False             False   \n",
       "...               ...             ...            ...               ...   \n",
       "1334778    2018-08-06          5908.0          False             False   \n",
       "1334779    2018-08-06          5173.0          False             False   \n",
       "1334780    2018-08-06          6567.0          False             False   \n",
       "1334781    2018-08-06          5212.0          False             False   \n",
       "1334782    2018-08-06          5652.0          False             False   \n",
       "\n",
       "         depot_waste  forecast_waste  forecast_stockout  \\\n",
       "0               True           False               True   \n",
       "1              False           False               True   \n",
       "2              False           False               True   \n",
       "3              False           False              False   \n",
       "4              False           False               True   \n",
       "...              ...             ...                ...   \n",
       "1334778        False           False              False   \n",
       "1334779        False            True              False   \n",
       "1334780        False            True              False   \n",
       "1334781        False           False              False   \n",
       "1334782        False           False              False   \n",
       "\n",
       "         waste_prediction_waste  waste_prediction_stockout  stock_waste  \\\n",
       "0                         False                      False        False   \n",
       "1                          True                      False        False   \n",
       "2                          True                      False        False   \n",
       "3                         False                      False        False   \n",
       "4                         False                       True        False   \n",
       "...                         ...                        ...          ...   \n",
       "1334778                    True                      False        False   \n",
       "1334779                    True                      False        False   \n",
       "1334780                    True                      False        False   \n",
       "1334781                    True                       True        False   \n",
       "1334782                    True                      False        False   \n",
       "\n",
       "         stock_stockout  negative_stockfile  \n",
       "0                 False               False  \n",
       "1                 False               False  \n",
       "2                 False               False  \n",
       "3                 False               False  \n",
       "4                 False               False  \n",
       "...                 ...                 ...  \n",
       "1334778           False               False  \n",
       "1334779           False               False  \n",
       "1334780           False               False  \n",
       "1334781           False               False  \n",
       "1334782           False               False  \n",
       "\n",
       "[1334783 rows x 12 columns]"
      ]
     },
     "execution_count": 64,
     "metadata": {},
     "output_type": "execute_result"
    }
   ],
   "source": [
    "final_data[metrics]"
   ]
  },
  {
   "cell_type": "code",
   "execution_count": 127,
   "metadata": {},
   "outputs": [],
   "source": [
    "forew_by_date = final_data.groupby('calendar_date')['forecast_waste'].sum().reset_index()"
   ]
  },
  {
   "cell_type": "code",
   "execution_count": 137,
   "metadata": {},
   "outputs": [],
   "source": [
    "forew_by_date['dow'] = forew_by_date['calendar_date'].dt.day_name()"
   ]
  },
  {
   "cell_type": "code",
   "execution_count": 138,
   "metadata": {},
   "outputs": [
    {
     "data": {
      "text/plain": [
       "<matplotlib.axes._subplots.AxesSubplot at 0x1a220b4c50>"
      ]
     },
     "execution_count": 138,
     "metadata": {},
     "output_type": "execute_result"
    },
    {
     "data": {
      "image/png": "[encoded data removed]",
      "text/plain": [
       "<Figure size 432x288 with 1 Axes>"
      ]
     },
     "metadata": {},
     "output_type": "display_data"
    }
   ],
   "source": [
    "forew_by_date.set_index('calendar_date')['forecast_waste'].plot()"
   ]
  },
  {
   "cell_type": "code",
   "execution_count": 139,
   "metadata": {},
   "outputs": [
    {
     "data": {
      "text/plain": [
       "[]"
      ]
     },
     "execution_count": 139,
     "metadata": {},
     "output_type": "execute_result"
    },
    {
     "data": {
      "image/png": "[encoded data removed]",
      "text/plain": [
       "<Figure size 432x288 with 1 Axes>"
      ]
     },
     "metadata": {},
     "output_type": "display_data"
    }
   ],
   "source": [
    "#fig=plt.figure(figsize=(18, 16), dpi= 80, facecolor='w', edgecolor='k')\n",
    "\n",
    "sns.set_context(\"paper\")\n",
    "sns.axes_style(\"whitegrid\")\n",
    "sns.set_style(\"ticks\",{\"xtick.major.size\":8,\n",
    "                       \"ytick.major.size\":8})\n",
    "sns.lineplot(x=\"calendar_date\", y=\"forecast_waste\",\n",
    "                     data=forew_by_date)\n",
    "plt.title(\"Forecast Waste Counts through July for each Depot\")\n",
    "plt.ylabel(\"Forecast Waste Count\")\n",
    "plt.xlabel(\"Days in July\") \n",
    "plt.xticks(forew_by_date['calendar_date'], rotation='90')\n",
    "plt.plot()"
   ]
  },
  {
   "cell_type": "code",
   "execution_count": 140,
   "metadata": {},
   "outputs": [
    {
     "data": {
      "text/html": [
       "<div>\n",
       "<style scoped>\n",
       "    .dataframe tbody tr th:only-of-type {\n",
       "        vertical-align: middle;\n",
       "    }\n",
       "\n",
       "    .dataframe tbody tr th {\n",
       "        vertical-align: top;\n",
       "    }\n",
       "\n",
       "    .dataframe thead th {\n",
       "        text-align: right;\n",
       "    }\n",
       "</style>\n",
       "<table border=\"1\" class=\"dataframe\">\n",
       "  <thead>\n",
       "    <tr style=\"text-align: right;\">\n",
       "      <th></th>\n",
       "      <th>dow</th>\n",
       "      <th>forecast_waste</th>\n",
       "    </tr>\n",
       "  </thead>\n",
       "  <tbody>\n",
       "    <tr>\n",
       "      <th>0</th>\n",
       "      <td>Friday</td>\n",
       "      <td>38968.0</td>\n",
       "    </tr>\n",
       "    <tr>\n",
       "      <th>1</th>\n",
       "      <td>Monday</td>\n",
       "      <td>38957.0</td>\n",
       "    </tr>\n",
       "    <tr>\n",
       "      <th>2</th>\n",
       "      <td>Saturday</td>\n",
       "      <td>29635.0</td>\n",
       "    </tr>\n",
       "    <tr>\n",
       "      <th>3</th>\n",
       "      <td>Sunday</td>\n",
       "      <td>41760.0</td>\n",
       "    </tr>\n",
       "    <tr>\n",
       "      <th>4</th>\n",
       "      <td>Thursday</td>\n",
       "      <td>34635.0</td>\n",
       "    </tr>\n",
       "    <tr>\n",
       "      <th>5</th>\n",
       "      <td>Tuesday</td>\n",
       "      <td>32304.0</td>\n",
       "    </tr>\n",
       "    <tr>\n",
       "      <th>6</th>\n",
       "      <td>Wednesday</td>\n",
       "      <td>31590.0</td>\n",
       "    </tr>\n",
       "  </tbody>\n",
       "</table>\n",
       "</div>"
      ],
      "text/plain": [
       "         dow  forecast_waste\n",
       "0     Friday         38968.0\n",
       "1     Monday         38957.0\n",
       "2   Saturday         29635.0\n",
       "3     Sunday         41760.0\n",
       "4   Thursday         34635.0\n",
       "5    Tuesday         32304.0\n",
       "6  Wednesday         31590.0"
      ]
     },
     "execution_count": 140,
     "metadata": {},
     "output_type": "execute_result"
    }
   ],
   "source": [
    "forew_by_date.groupby('dow')['forecast_waste'].sum().reset_index()"
   ]
  },
  {
   "cell_type": "code",
   "execution_count": 143,
   "metadata": {},
   "outputs": [
    {
     "data": {
      "text/plain": [
       "[]"
      ]
     },
     "execution_count": 143,
     "metadata": {},
     "output_type": "execute_result"
    },
    {
     "data": {
      "image/png": "[encoded data removed]",
      "text/plain": [
       "<Figure size 432x288 with 1 Axes>"
      ]
     },
     "metadata": {},
     "output_type": "display_data"
    }
   ],
   "source": [
    "sns.set_context(\"paper\")\n",
    "sns.axes_style(\"whitegrid\")\n",
    "sns.set_style(\"ticks\",{\"xtick.major.size\":8,\n",
    "                       \"ytick.major.size\":8})\n",
    "sns.set_context('paper')\n",
    "sns.barplot(x='dow', y='forecast_waste', data=forew_by_date)\n",
    "\n",
    "plt.title(\"Total Forecast Waste Days\")\n",
    "plt.ylabel(\"Forecast Waste Days \")\n",
    "plt.xlabel(\"Days of the week\") \n",
    "#plt.xticks(forew_by_date['calendar_date'], rotation='90')\n",
    "plt.plot()"
   ]
  },
  {
   "cell_type": "code",
   "execution_count": null,
   "metadata": {},
   "outputs": [],
   "source": []
  }
 ],
 "metadata": {
  "kernelspec": {
   "display_name": "Python 3",
   "language": "python",
   "name": "python3"
  },
  "language_info": {
   "codemirror_mode": {
    "name": "ipython",
    "version": 3
   },
   "file_extension": ".py",
   "mimetype": "text/x-python",
   "name": "python",
   "nbconvert_exporter": "python",
   "pygments_lexer": "ipython3",
   "version": "3.7.6"
  }
 },
 "nbformat": 4,
 "nbformat_minor": 4
}

{
 "cells": [
  {
   "cell_type": "markdown",
   "metadata": {},
   "source": [
    "### Data Checks"
   ]
  },
  {
   "cell_type": "markdown",
   "metadata": {},
   "source": [
    "Check keys: the key is made of `upc`, `calendar_date`, `store_id`, `geography_id`\n",
    "\n",
    "* Which products are in all files? Only include products which we have complete data set for\n",
    "* Do store IDs appear in mulitple geographys?\n",
    "* Is `calendar_date` consistent across all files. Only include date range where we have all data."
   ]
  },
  {
   "cell_type": "code",
   "execution_count": 1,
   "metadata": {},
   "outputs": [],
   "source": [
    "import pandas as pd"
   ]
  },
  {
   "cell_type": "code",
   "execution_count": 3,
   "metadata": {},
   "outputs": [],
   "source": [
    "fore = pd.read_csv('../data/Case Study - Forecast Data.txt', sep='\\t', encoding='utf-16',\n",
    "                  parse_dates=['calendar_date'])"
   ]
  },
  {
   "cell_type": "code",
   "execution_count": 4,
   "metadata": {},
   "outputs": [],
   "source": [
    "depot = pd.read_csv('../data/Case Study - Depot Data.txt', sep='\\t', encoding='utf-16',\n",
    "                   parse_dates=['calendar_date'])"
   ]
  },
  {
   "cell_type": "code",
   "execution_count": 5,
   "metadata": {},
   "outputs": [],
   "source": [
    "instore = pd.read_csv('../data/Case Study - In Store Data.txt', sep='\\t', encoding='utf-16',\n",
    "                     parse_dates=['calendar_date'])"
   ]
  },
  {
   "cell_type": "code",
   "execution_count": 6,
   "metadata": {},
   "outputs": [],
   "source": [
    "cinv = pd.read_csv('../data/Case Study - Closing Inventory.txt', sep='\\t', encoding='utf-16',\n",
    "                   parse_dates=['calendar_date'])"
   ]
  },
  {
   "cell_type": "markdown",
   "metadata": {},
   "source": [
    "### What are the shapes of the data?"
   ]
  },
  {
   "cell_type": "code",
   "execution_count": 7,
   "metadata": {},
   "outputs": [
    {
     "data": {
      "text/plain": [
       "(2648539, 34)"
      ]
     },
     "execution_count": 7,
     "metadata": {},
     "output_type": "execute_result"
    }
   ],
   "source": [
    "fore.shape"
   ]
  },
  {
   "cell_type": "code",
   "execution_count": 8,
   "metadata": {},
   "outputs": [
    {
     "data": {
      "text/plain": [
       "True"
      ]
     },
     "execution_count": 8,
     "metadata": {},
     "output_type": "execute_result"
    }
   ],
   "source": [
    "fore.shape[0] == depot.shape[0] == cinv.shape[0] == instore.shape[0]"
   ]
  },
  {
   "cell_type": "markdown",
   "metadata": {},
   "source": [
    "All are the same shape"
   ]
  },
  {
   "cell_type": "markdown",
   "metadata": {},
   "source": [
    "#### Date range"
   ]
  },
  {
   "cell_type": "code",
   "execution_count": 10,
   "metadata": {},
   "outputs": [],
   "source": [
    "def return_daterange(df):\n",
    "    return df['calendar_date'].min(), df['calendar_date'].max()"
   ]
  },
  {
   "cell_type": "code",
   "execution_count": 12,
   "metadata": {},
   "outputs": [
    {
     "data": {
      "text/plain": [
       "((Timestamp('2018-01-08 00:00:00'), Timestamp('2018-12-07 00:00:00')),\n",
       " (Timestamp('2018-01-08 00:00:00'), Timestamp('2018-12-07 00:00:00')),\n",
       " (Timestamp('2018-01-08 00:00:00'), Timestamp('2018-12-07 00:00:00')),\n",
       " (Timestamp('2018-01-08 00:00:00'), Timestamp('2018-12-07 00:00:00')))"
      ]
     },
     "execution_count": 12,
     "metadata": {},
     "output_type": "execute_result"
    }
   ],
   "source": [
    "return_daterange(fore), return_daterange(depot), return_daterange(cinv), return_daterange(instore)"
   ]
  },
  {
   "cell_type": "markdown",
   "metadata": {},
   "source": [
    "#### Stores in multiple geographies?"
   ]
  },
  {
   "cell_type": "code",
   "execution_count": 13,
   "metadata": {},
   "outputs": [
    {
     "data": {
      "text/plain": [
       "True    623\n",
       "Name: geography_id, dtype: int64"
      ]
     },
     "execution_count": 13,
     "metadata": {},
     "output_type": "execute_result"
    }
   ],
   "source": [
    "(fore.groupby('store_id')['geography_id'].nunique() == 1).value_counts()"
   ]
  },
  {
   "cell_type": "code",
   "execution_count": 14,
   "metadata": {},
   "outputs": [
    {
     "data": {
      "text/plain": [
       "True    623\n",
       "Name: geography_id, dtype: int64"
      ]
     },
     "execution_count": 14,
     "metadata": {},
     "output_type": "execute_result"
    }
   ],
   "source": [
    "(cinv.groupby('store_id')['geography_id'].nunique() == 1).value_counts()"
   ]
  },
  {
   "cell_type": "code",
   "execution_count": 15,
   "metadata": {},
   "outputs": [
    {
     "data": {
      "text/plain": [
       "(143, 1)"
      ]
     },
     "execution_count": 15,
     "metadata": {},
     "output_type": "execute_result"
    }
   ],
   "source": [
    "pd.merge(pd.DataFrame(fore['upc'].drop_duplicates()), pd.DataFrame(depot['upc'].drop_duplicates()), how='outer').shape"
   ]
  },
  {
   "cell_type": "markdown",
   "metadata": {},
   "source": [
    "All files have:\n",
    "* dates between 08.01.2018 and 07.12.2018\n",
    "* Store IDs that only one appear in one geography\n",
    "* 143 products"
   ]
  },
  {
   "cell_type": "markdown",
   "metadata": {},
   "source": [
    "#### Is Closing Inv the same In Store?"
   ]
  },
  {
   "cell_type": "code",
   "execution_count": 16,
   "metadata": {},
   "outputs": [
    {
     "data": {
      "text/html": [
       "<div>\n",
       "<style scoped>\n",
       "    .dataframe tbody tr th:only-of-type {\n",
       "        vertical-align: middle;\n",
       "    }\n",
       "\n",
       "    .dataframe tbody tr th {\n",
       "        vertical-align: top;\n",
       "    }\n",
       "\n",
       "    .dataframe thead th {\n",
       "        text-align: right;\n",
       "    }\n",
       "</style>\n",
       "<table border=\"1\" class=\"dataframe\">\n",
       "  <thead>\n",
       "    <tr style=\"text-align: right;\">\n",
       "      <th></th>\n",
       "      <th>False</th>\n",
       "      <th>True</th>\n",
       "    </tr>\n",
       "  </thead>\n",
       "  <tbody>\n",
       "    <tr>\n",
       "      <th>upc</th>\n",
       "      <td>NaN</td>\n",
       "      <td>2648539.0</td>\n",
       "    </tr>\n",
       "    <tr>\n",
       "      <th>calendar_date</th>\n",
       "      <td>NaN</td>\n",
       "      <td>2648539.0</td>\n",
       "    </tr>\n",
       "    <tr>\n",
       "      <th>calendar_id</th>\n",
       "      <td>NaN</td>\n",
       "      <td>2648539.0</td>\n",
       "    </tr>\n",
       "    <tr>\n",
       "      <th>store_id</th>\n",
       "      <td>NaN</td>\n",
       "      <td>2648539.0</td>\n",
       "    </tr>\n",
       "    <tr>\n",
       "      <th>geography_id</th>\n",
       "      <td>NaN</td>\n",
       "      <td>2648539.0</td>\n",
       "    </tr>\n",
       "    <tr>\n",
       "      <th>shelf_life</th>\n",
       "      <td>NaN</td>\n",
       "      <td>2648539.0</td>\n",
       "    </tr>\n",
       "    <tr>\n",
       "      <th>units_per_tray</th>\n",
       "      <td>NaN</td>\n",
       "      <td>2648539.0</td>\n",
       "    </tr>\n",
       "    <tr>\n",
       "      <th>closing_inventory_min_neg_over_shelf_life_minus_2_days</th>\n",
       "      <td>2554345.0</td>\n",
       "      <td>94194.0</td>\n",
       "    </tr>\n",
       "    <tr>\n",
       "      <th>closing_inventory_neg_count_over_1_day</th>\n",
       "      <td>NaN</td>\n",
       "      <td>2648539.0</td>\n",
       "    </tr>\n",
       "    <tr>\n",
       "      <th>closing_inventory_neg_count_over_shelf_life_minus_2_days</th>\n",
       "      <td>NaN</td>\n",
       "      <td>2648539.0</td>\n",
       "    </tr>\n",
       "    <tr>\n",
       "      <th>closing_inventory_on_day</th>\n",
       "      <td>856078.0</td>\n",
       "      <td>1792461.0</td>\n",
       "    </tr>\n",
       "  </tbody>\n",
       "</table>\n",
       "</div>"
      ],
      "text/plain": [
       "                                                        False      True \n",
       "upc                                                       NaN  2648539.0\n",
       "calendar_date                                             NaN  2648539.0\n",
       "calendar_id                                               NaN  2648539.0\n",
       "store_id                                                  NaN  2648539.0\n",
       "geography_id                                              NaN  2648539.0\n",
       "shelf_life                                                NaN  2648539.0\n",
       "units_per_tray                                            NaN  2648539.0\n",
       "closing_inventory_min_neg_over_shelf_life_minus...  2554345.0    94194.0\n",
       "closing_inventory_neg_count_over_1_day                    NaN  2648539.0\n",
       "closing_inventory_neg_count_over_shelf_life_min...        NaN  2648539.0\n",
       "closing_inventory_on_day                             856078.0  1792461.0"
      ]
     },
     "execution_count": 16,
     "metadata": {},
     "output_type": "execute_result"
    }
   ],
   "source": [
    "(cinv == instore[cinv.columns]).apply(lambda x: x.value_counts()).transpose()"
   ]
  },
  {
   "cell_type": "markdown",
   "metadata": {},
   "source": [
    "**Note:** Closing Inventory and In Store are identical except for:\n",
    "* closing_inventory_min_neg_over_shelf_life_minus_2_days\n",
    "* closing_inventory_on_day\n",
    "\n",
    "Join these to final data with `cinv` prefix"
   ]
  },
  {
   "cell_type": "markdown",
   "metadata": {},
   "source": [
    "**Note2:** the files are the same. The only differences are from NA values failing match."
   ]
  },
  {
   "cell_type": "markdown",
   "metadata": {},
   "source": [
    "### Forecast data"
   ]
  },
  {
   "cell_type": "code",
   "execution_count": 23,
   "metadata": {},
   "outputs": [
    {
     "data": {
      "text/plain": [
       " 0.00      61705\n",
       "-6.00      45957\n",
       "-4.00      45739\n",
       "-8.00      45176\n",
       "-2.00      43568\n",
       "           ...  \n",
       " 40.52         1\n",
       " 40.73         1\n",
       "-62.51         1\n",
       "-62.74         1\n",
       " 403.00        1\n",
       "Name: actual_store_need_over_lead_time, Length: 11574, dtype: int64"
      ]
     },
     "execution_count": 23,
     "metadata": {},
     "output_type": "execute_result"
    }
   ],
   "source": [
    "fore['actual_store_need_over_lead_time']"
   ]
  },
  {
   "cell_type": "markdown",
   "metadata": {},
   "source": [
    "### Forecast\n",
    "\n",
    "* No negative: forecast demand, waste prediction"
   ]
  },
  {
   "cell_type": "code",
   "execution_count": 35,
   "metadata": {},
   "outputs": [
    {
     "data": {
      "text/plain": [
       "(0.0, 0.0)"
      ]
     },
     "execution_count": 35,
     "metadata": {},
     "output_type": "execute_result"
    }
   ],
   "source": [
    "fore['forecast_demand_on_day'].min(), fore['predicted_waste_on_day'].min()"
   ]
  },
  {
   "cell_type": "markdown",
   "metadata": {},
   "source": [
    "### Depot"
   ]
  },
  {
   "cell_type": "markdown",
   "metadata": {},
   "source": [
    "* depot_delivered_qty_on_day should be positive\n",
    "* depot_lvl_required_qty_over_supplier_lead_time many negative? Is this right?"
   ]
  },
  {
   "cell_type": "code",
   "execution_count": 42,
   "metadata": {},
   "outputs": [
    {
     "data": {
      "text/plain": [
       "False    2648464\n",
       "True          75\n",
       "Name: depot_delivered_qty_on_day, dtype: int64"
      ]
     },
     "execution_count": 42,
     "metadata": {},
     "output_type": "execute_result"
    }
   ],
   "source": [
    "(depot['depot_delivered_qty_on_day'] < 0).value_counts()"
   ]
  },
  {
   "cell_type": "markdown",
   "metadata": {},
   "source": [
    "Remove negative depot_delivered_qty_on_day rows from data"
   ]
  },
  {
   "cell_type": "code",
   "execution_count": 45,
   "metadata": {},
   "outputs": [
    {
     "data": {
      "text/plain": [
       "False    2149185\n",
       "True      499354\n",
       "Name: depot_lvl_required_qty_over_supplier_lead_time, dtype: int64"
      ]
     },
     "execution_count": 45,
     "metadata": {},
     "output_type": "execute_result"
    }
   ],
   "source": [
    "(depot['depot_lvl_required_qty_over_supplier_lead_time'] < 0).value_counts()"
   ]
  },
  {
   "cell_type": "code",
   "execution_count": 49,
   "metadata": {},
   "outputs": [
    {
     "data": {
      "text/plain": [
       "False    2648539\n",
       "Name: depot_ordered_qty_over_supplier_lead_time, dtype: int64"
      ]
     },
     "execution_count": 49,
     "metadata": {},
     "output_type": "execute_result"
    }
   ],
   "source": [
    "(depot['depot_ordered_qty_over_supplier_lead_time'] < 0).value_counts()"
   ]
  },
  {
   "cell_type": "markdown",
   "metadata": {},
   "source": [
    "### In Store\n",
    "\n",
    "* waste_value_on_day cannot be negative. How does a fraction of waste work? Is this a tray unit, the effect of the reduced price?\n",
    "* stock_out_ind_on_day & ranging_indicator_on_day should be 0 or 1 and mutually exclusive"
   ]
  },
  {
   "cell_type": "code",
   "execution_count": 56,
   "metadata": {},
   "outputs": [
    {
     "data": {
      "text/plain": [
       "False    2648537\n",
       "True           2\n",
       "Name: waste_value_on_day, dtype: int64"
      ]
     },
     "execution_count": 56,
     "metadata": {},
     "output_type": "execute_result"
    }
   ],
   "source": [
    "(instore['waste_value_on_day'] < 0 ).value_counts()"
   ]
  },
  {
   "cell_type": "code",
   "execution_count": 61,
   "metadata": {},
   "outputs": [
    {
     "data": {
      "text/plain": [
       "1.0    1650382\n",
       "2.0     130273\n",
       "0.0      11806\n",
       "dtype: int64"
      ]
     },
     "execution_count": 61,
     "metadata": {},
     "output_type": "execute_result"
    }
   ],
   "source": [
    "(instore['stock_out_ind_on_day'] + instore['ranging_indicator_on_day']).value_counts()"
   ]
  },
  {
   "cell_type": "markdown",
   "metadata": {},
   "source": [
    "Remove rows which do not equal 1 (0 and 2)"
   ]
  },
  {
   "cell_type": "markdown",
   "metadata": {},
   "source": [
    "### Closing Inventory"
   ]
  },
  {
   "cell_type": "markdown",
   "metadata": {},
   "source": [
    "* Second column called closing_inventory_on_day"
   ]
  },
  {
   "cell_type": "code",
   "execution_count": 88,
   "metadata": {},
   "outputs": [
    {
     "data": {
      "text/plain": [
       "True     1792461\n",
       "False     856078\n",
       "Name: closing_inventory_on_day, dtype: int64"
      ]
     },
     "execution_count": 88,
     "metadata": {},
     "output_type": "execute_result"
    }
   ],
   "source": [
    "(instore['closing_inventory_on_day'] == cinv['closing_inventory_on_day']).value_counts()"
   ]
  },
  {
   "cell_type": "code",
   "execution_count": 89,
   "metadata": {},
   "outputs": [
    {
     "data": {
      "text/plain": [
       "False    1792461\n",
       "True      856078\n",
       "Name: closing_inventory_on_day, dtype: int64"
      ]
     },
     "execution_count": 89,
     "metadata": {},
     "output_type": "execute_result"
    }
   ],
   "source": [
    "instore['closing_inventory_on_day'].isna().value_counts()"
   ]
  },
  {
   "cell_type": "code",
   "execution_count": 91,
   "metadata": {},
   "outputs": [
    {
     "data": {
      "text/plain": [
       "False    1792461\n",
       "True      856078\n",
       "Name: closing_inventory_on_day, dtype: int64"
      ]
     },
     "execution_count": 91,
     "metadata": {},
     "output_type": "execute_result"
    }
   ],
   "source": [
    "cinv['closing_inventory_on_day'].isna().value_counts()"
   ]
  },
  {
   "cell_type": "markdown",
   "metadata": {},
   "source": [
    "They are the same column"
   ]
  },
  {
   "cell_type": "code",
   "execution_count": 101,
   "metadata": {},
   "outputs": [
    {
     "data": {
      "text/plain": [
       "False    2612704\n",
       "True       35835\n",
       "Name: closing_inventory_on_day, dtype: int64"
      ]
     },
     "execution_count": 101,
     "metadata": {},
     "output_type": "execute_result"
    }
   ],
   "source": [
    "(cinv['closing_inventory_on_day'] < 0).value_counts()"
   ]
  },
  {
   "cell_type": "markdown",
   "metadata": {},
   "source": [
    "Can't have a negative closing inventory"
   ]
  },
  {
   "cell_type": "markdown",
   "metadata": {},
   "source": [
    "### Next: \n",
    "1. depot_delivered_qty_on_day remove where negative\n",
    "2. closing_inventory_on_day remove where negative\n",
    "3. waste_value_on_day remove where negative\n",
    "4. Remove rows where (instore['stock_out_ind_on_day'] + instore['ranging_indicator_on_day']) != 1"
   ]
  }
 ],
 "metadata": {
  "kernelspec": {
   "display_name": "Python 3",
   "language": "python",
   "name": "python3"
  },
  "language_info": {
   "codemirror_mode": {
    "name": "ipython",
    "version": 3
   },
   "file_extension": ".py",
   "mimetype": "text/x-python",
   "name": "python",
   "nbconvert_exporter": "python",
   "pygments_lexer": "ipython3",
   "version": "3.7.6"
  }
 },
 "nbformat": 4,
 "nbformat_minor": 4
}

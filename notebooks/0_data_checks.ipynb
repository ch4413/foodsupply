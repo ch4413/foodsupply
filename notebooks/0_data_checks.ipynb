{
 "cells": [
  {
   "cell_type": "markdown",
   "metadata": {},
   "source": [
    "### Data Checks"
   ]
  },
  {
   "cell_type": "markdown",
   "metadata": {},
   "source": [
    "Check keys: the key is made of `upc`, `calendar_date`, `store_id`, `geography_id`\n",
    "\n",
    "* Which products are in all files? Only include products which we have complete data set for\n",
    "* Do store IDs appear in mulitple geographys?\n",
    "* Is `calendar_date` consistent across all files. Only include date range where we have all data."
   ]
  },
  {
   "cell_type": "code",
   "execution_count": 1,
   "metadata": {},
   "outputs": [],
   "source": [
    "import pandas as pd\n",
    "import seaborn as sns\n",
    "from scipy import stats\n",
    "import numpy as np"
   ]
  },
  {
   "cell_type": "code",
   "execution_count": 2,
   "metadata": {},
   "outputs": [],
   "source": [
    "dateparse = lambda x: pd.datetime.strptime(x, '%Y%m%d')"
   ]
  },
  {
   "cell_type": "code",
   "execution_count": 3,
   "metadata": {},
   "outputs": [
    {
     "name": "stderr",
     "output_type": "stream",
     "text": [
      "/opt/anaconda3/lib/python3.7/site-packages/ipykernel_launcher.py:1: FutureWarning: The pandas.datetime class is deprecated and will be removed from pandas in a future version. Import from datetime module instead.\n",
      "  \"\"\"Entry point for launching an IPython kernel.\n"
     ]
    }
   ],
   "source": [
    "fore = pd.read_csv('../data/Case Study - Forecast Data.txt', sep='\\t', encoding='utf-16',\n",
    "                   parse_dates=['calendar_id'], date_parser=dateparse)"
   ]
  },
  {
   "cell_type": "code",
   "execution_count": 4,
   "metadata": {},
   "outputs": [
    {
     "name": "stderr",
     "output_type": "stream",
     "text": [
      "/opt/anaconda3/lib/python3.7/site-packages/ipykernel_launcher.py:1: FutureWarning: The pandas.datetime class is deprecated and will be removed from pandas in a future version. Import from datetime module instead.\n",
      "  \"\"\"Entry point for launching an IPython kernel.\n"
     ]
    }
   ],
   "source": [
    "depot = pd.read_csv('../data/Case Study - Depot Data.txt', sep='\\t', encoding='utf-16',\n",
    "                    parse_dates=['calendar_id'], date_parser=dateparse)"
   ]
  },
  {
   "cell_type": "code",
   "execution_count": 5,
   "metadata": {},
   "outputs": [
    {
     "name": "stderr",
     "output_type": "stream",
     "text": [
      "/opt/anaconda3/lib/python3.7/site-packages/ipykernel_launcher.py:1: FutureWarning: The pandas.datetime class is deprecated and will be removed from pandas in a future version. Import from datetime module instead.\n",
      "  \"\"\"Entry point for launching an IPython kernel.\n"
     ]
    }
   ],
   "source": [
    "instore = pd.read_csv('../data/Case Study - In Store Data.txt', sep='\\t', encoding='utf-16',\n",
    "                      parse_dates=['calendar_id'], date_parser=dateparse)"
   ]
  },
  {
   "cell_type": "code",
   "execution_count": 6,
   "metadata": {},
   "outputs": [
    {
     "name": "stderr",
     "output_type": "stream",
     "text": [
      "/opt/anaconda3/lib/python3.7/site-packages/ipykernel_launcher.py:1: FutureWarning: The pandas.datetime class is deprecated and will be removed from pandas in a future version. Import from datetime module instead.\n",
      "  \"\"\"Entry point for launching an IPython kernel.\n"
     ]
    }
   ],
   "source": [
    "cinv = pd.read_csv('../data/Case Study - Closing Inventory.txt', sep='\\t', encoding='utf-16',\n",
    "                   parse_dates=['calendar_id'], date_parser=dateparse)"
   ]
  },
  {
   "cell_type": "markdown",
   "metadata": {},
   "source": [
    "### What are the shapes of the data?"
   ]
  },
  {
   "cell_type": "code",
   "execution_count": 7,
   "metadata": {},
   "outputs": [
    {
     "data": {
      "text/plain": [
       "(2648539, 34)"
      ]
     },
     "execution_count": 7,
     "metadata": {},
     "output_type": "execute_result"
    }
   ],
   "source": [
    "fore.shape"
   ]
  },
  {
   "cell_type": "code",
   "execution_count": 11,
   "metadata": {},
   "outputs": [
    {
     "data": {
      "text/plain": [
       "True"
      ]
     },
     "execution_count": 11,
     "metadata": {},
     "output_type": "execute_result"
    }
   ],
   "source": [
    "fore.shape[0] == depot.shape[0] == cinv.shape[0] == instore.shape[0]"
   ]
  },
  {
   "cell_type": "markdown",
   "metadata": {},
   "source": [
    "All are the same shape"
   ]
  },
  {
   "cell_type": "markdown",
   "metadata": {},
   "source": [
    "#### Date range"
   ]
  },
  {
   "cell_type": "code",
   "execution_count": 15,
   "metadata": {},
   "outputs": [],
   "source": [
    "def return_daterange(df):\n",
    "    return df['calendar_id'].min(), df['calendar_id'].max()"
   ]
  },
  {
   "cell_type": "code",
   "execution_count": 16,
   "metadata": {},
   "outputs": [
    {
     "data": {
      "text/plain": [
       "((Timestamp('2018-07-07 00:00:00'), Timestamp('2018-08-06 00:00:00')),\n",
       " (Timestamp('2018-07-07 00:00:00'), Timestamp('2018-08-06 00:00:00')),\n",
       " (Timestamp('2018-07-07 00:00:00'), Timestamp('2018-08-06 00:00:00')),\n",
       " (Timestamp('2018-07-07 00:00:00'), Timestamp('2018-08-06 00:00:00')))"
      ]
     },
     "execution_count": 16,
     "metadata": {},
     "output_type": "execute_result"
    }
   ],
   "source": [
    "return_daterange(fore), return_daterange(depot), return_daterange(cinv), return_daterange(instore)"
   ]
  },
  {
   "cell_type": "code",
   "execution_count": 17,
   "metadata": {},
   "outputs": [
    {
     "data": {
      "text/plain": [
       "array(['2018-07-07T00:00:00.000000000', '2018-07-08T00:00:00.000000000',\n",
       "       '2018-07-09T00:00:00.000000000', '2018-07-10T00:00:00.000000000',\n",
       "       '2018-07-11T00:00:00.000000000', '2018-07-12T00:00:00.000000000',\n",
       "       '2018-07-13T00:00:00.000000000', '2018-07-14T00:00:00.000000000',\n",
       "       '2018-07-15T00:00:00.000000000', '2018-07-16T00:00:00.000000000',\n",
       "       '2018-07-17T00:00:00.000000000', '2018-07-18T00:00:00.000000000',\n",
       "       '2018-07-19T00:00:00.000000000', '2018-07-20T00:00:00.000000000',\n",
       "       '2018-07-21T00:00:00.000000000', '2018-07-22T00:00:00.000000000',\n",
       "       '2018-07-23T00:00:00.000000000', '2018-07-24T00:00:00.000000000',\n",
       "       '2018-07-25T00:00:00.000000000', '2018-07-26T00:00:00.000000000',\n",
       "       '2018-07-27T00:00:00.000000000', '2018-07-28T00:00:00.000000000',\n",
       "       '2018-07-29T00:00:00.000000000', '2018-07-30T00:00:00.000000000',\n",
       "       '2018-07-31T00:00:00.000000000', '2018-08-01T00:00:00.000000000',\n",
       "       '2018-08-02T00:00:00.000000000', '2018-08-03T00:00:00.000000000',\n",
       "       '2018-08-04T00:00:00.000000000', '2018-08-05T00:00:00.000000000',\n",
       "       '2018-08-06T00:00:00.000000000'], dtype='datetime64[ns]')"
      ]
     },
     "execution_count": 17,
     "metadata": {},
     "output_type": "execute_result"
    }
   ],
   "source": [
    "instore['calendar_id'].unique()"
   ]
  },
  {
   "cell_type": "markdown",
   "metadata": {},
   "source": [
    "#### Stores in multiple geographies?"
   ]
  },
  {
   "cell_type": "code",
   "execution_count": 18,
   "metadata": {},
   "outputs": [
    {
     "data": {
      "text/plain": [
       "True    623\n",
       "Name: geography_id, dtype: int64"
      ]
     },
     "execution_count": 18,
     "metadata": {},
     "output_type": "execute_result"
    }
   ],
   "source": [
    "(fore.groupby('store_id')['geography_id'].nunique() == 1).value_counts()"
   ]
  },
  {
   "cell_type": "code",
   "execution_count": 19,
   "metadata": {},
   "outputs": [
    {
     "data": {
      "text/plain": [
       "True    623\n",
       "Name: geography_id, dtype: int64"
      ]
     },
     "execution_count": 19,
     "metadata": {},
     "output_type": "execute_result"
    }
   ],
   "source": [
    "(cinv.groupby('store_id')['geography_id'].nunique() == 1).value_counts()"
   ]
  },
  {
   "cell_type": "code",
   "execution_count": 20,
   "metadata": {},
   "outputs": [
    {
     "data": {
      "text/plain": [
       "(143, 1)"
      ]
     },
     "execution_count": 20,
     "metadata": {},
     "output_type": "execute_result"
    }
   ],
   "source": [
    "pd.merge(pd.DataFrame(fore['upc'].drop_duplicates()), pd.DataFrame(depot['upc'].drop_duplicates()), how='outer').shape"
   ]
  },
  {
   "cell_type": "markdown",
   "metadata": {},
   "source": [
    "All files have:\n",
    "* dates between 08.01.2018 and 07.12.2018\n",
    "* Store IDs that only one appear in one geography\n",
    "* 143 products"
   ]
  },
  {
   "cell_type": "markdown",
   "metadata": {},
   "source": [
    "#### Is Closing Inv the same In Store?"
   ]
  },
  {
   "cell_type": "code",
   "execution_count": 21,
   "metadata": {},
   "outputs": [
    {
     "data": {
      "text/html": [
       "<div>\n",
       "<style scoped>\n",
       "    .dataframe tbody tr th:only-of-type {\n",
       "        vertical-align: middle;\n",
       "    }\n",
       "\n",
       "    .dataframe tbody tr th {\n",
       "        vertical-align: top;\n",
       "    }\n",
       "\n",
       "    .dataframe thead th {\n",
       "        text-align: right;\n",
       "    }\n",
       "</style>\n",
       "<table border=\"1\" class=\"dataframe\">\n",
       "  <thead>\n",
       "    <tr style=\"text-align: right;\">\n",
       "      <th></th>\n",
       "      <th>False</th>\n",
       "      <th>True</th>\n",
       "    </tr>\n",
       "  </thead>\n",
       "  <tbody>\n",
       "    <tr>\n",
       "      <th>upc</th>\n",
       "      <td>NaN</td>\n",
       "      <td>2648539.0</td>\n",
       "    </tr>\n",
       "    <tr>\n",
       "      <th>calendar_date</th>\n",
       "      <td>NaN</td>\n",
       "      <td>2648539.0</td>\n",
       "    </tr>\n",
       "    <tr>\n",
       "      <th>calendar_id</th>\n",
       "      <td>NaN</td>\n",
       "      <td>2648539.0</td>\n",
       "    </tr>\n",
       "    <tr>\n",
       "      <th>store_id</th>\n",
       "      <td>NaN</td>\n",
       "      <td>2648539.0</td>\n",
       "    </tr>\n",
       "    <tr>\n",
       "      <th>geography_id</th>\n",
       "      <td>NaN</td>\n",
       "      <td>2648539.0</td>\n",
       "    </tr>\n",
       "    <tr>\n",
       "      <th>shelf_life</th>\n",
       "      <td>NaN</td>\n",
       "      <td>2648539.0</td>\n",
       "    </tr>\n",
       "    <tr>\n",
       "      <th>units_per_tray</th>\n",
       "      <td>NaN</td>\n",
       "      <td>2648539.0</td>\n",
       "    </tr>\n",
       "    <tr>\n",
       "      <th>closing_inventory_min_neg_over_shelf_life_minus_2_days</th>\n",
       "      <td>2554345.0</td>\n",
       "      <td>94194.0</td>\n",
       "    </tr>\n",
       "    <tr>\n",
       "      <th>closing_inventory_neg_count_over_1_day</th>\n",
       "      <td>NaN</td>\n",
       "      <td>2648539.0</td>\n",
       "    </tr>\n",
       "    <tr>\n",
       "      <th>closing_inventory_neg_count_over_shelf_life_minus_2_days</th>\n",
       "      <td>NaN</td>\n",
       "      <td>2648539.0</td>\n",
       "    </tr>\n",
       "    <tr>\n",
       "      <th>closing_inventory_on_day</th>\n",
       "      <td>856078.0</td>\n",
       "      <td>1792461.0</td>\n",
       "    </tr>\n",
       "  </tbody>\n",
       "</table>\n",
       "</div>"
      ],
      "text/plain": [
       "                                                        False      True \n",
       "upc                                                       NaN  2648539.0\n",
       "calendar_date                                             NaN  2648539.0\n",
       "calendar_id                                               NaN  2648539.0\n",
       "store_id                                                  NaN  2648539.0\n",
       "geography_id                                              NaN  2648539.0\n",
       "shelf_life                                                NaN  2648539.0\n",
       "units_per_tray                                            NaN  2648539.0\n",
       "closing_inventory_min_neg_over_shelf_life_minus...  2554345.0    94194.0\n",
       "closing_inventory_neg_count_over_1_day                    NaN  2648539.0\n",
       "closing_inventory_neg_count_over_shelf_life_min...        NaN  2648539.0\n",
       "closing_inventory_on_day                             856078.0  1792461.0"
      ]
     },
     "execution_count": 21,
     "metadata": {},
     "output_type": "execute_result"
    }
   ],
   "source": [
    "(cinv == instore[cinv.columns]).apply(lambda x: x.value_counts()).transpose()"
   ]
  },
  {
   "cell_type": "markdown",
   "metadata": {},
   "source": [
    "**Note:** Closing Inventory and In Store are identical except for:\n",
    "* closing_inventory_min_neg_over_shelf_life_minus_2_days\n",
    "* closing_inventory_on_day\n",
    "\n",
    "Join these to final data with `cinv` prefix"
   ]
  },
  {
   "cell_type": "markdown",
   "metadata": {},
   "source": [
    "**Note2:** the files are the same. The only differences are from NA values failing match."
   ]
  },
  {
   "cell_type": "markdown",
   "metadata": {},
   "source": [
    "### Forecast data"
   ]
  },
  {
   "cell_type": "markdown",
   "metadata": {},
   "source": [
    "### Forecast\n",
    "\n",
    "* No negative: forecast demand, waste prediction"
   ]
  },
  {
   "cell_type": "code",
   "execution_count": 22,
   "metadata": {},
   "outputs": [
    {
     "data": {
      "text/plain": [
       "(0.0, 0.0)"
      ]
     },
     "execution_count": 22,
     "metadata": {},
     "output_type": "execute_result"
    }
   ],
   "source": [
    "fore['forecast_demand_on_day'].min(), fore['predicted_waste_on_day'].min()"
   ]
  },
  {
   "cell_type": "markdown",
   "metadata": {},
   "source": [
    "### Depot"
   ]
  },
  {
   "cell_type": "markdown",
   "metadata": {},
   "source": [
    "* depot_delivered_qty_on_day should be positive\n",
    "* depot_lvl_required_qty_over_supplier_lead_time many negative? Is this right?"
   ]
  },
  {
   "cell_type": "code",
   "execution_count": 23,
   "metadata": {},
   "outputs": [
    {
     "data": {
      "text/plain": [
       "False    2648464\n",
       "True          75\n",
       "Name: depot_delivered_qty_on_day, dtype: int64"
      ]
     },
     "execution_count": 23,
     "metadata": {},
     "output_type": "execute_result"
    }
   ],
   "source": [
    "(depot['depot_delivered_qty_on_day'] < 0).value_counts()"
   ]
  },
  {
   "cell_type": "markdown",
   "metadata": {},
   "source": [
    "Remove negative depot_delivered_qty_on_day rows from data"
   ]
  },
  {
   "cell_type": "code",
   "execution_count": 24,
   "metadata": {},
   "outputs": [
    {
     "data": {
      "text/plain": [
       "False    2149185\n",
       "True      499354\n",
       "Name: depot_lvl_required_qty_over_supplier_lead_time, dtype: int64"
      ]
     },
     "execution_count": 24,
     "metadata": {},
     "output_type": "execute_result"
    }
   ],
   "source": [
    "(depot['depot_lvl_required_qty_over_supplier_lead_time'] < 0).value_counts()"
   ]
  },
  {
   "cell_type": "code",
   "execution_count": 25,
   "metadata": {},
   "outputs": [
    {
     "data": {
      "text/plain": [
       "False    2648539\n",
       "Name: depot_ordered_qty_over_supplier_lead_time, dtype: int64"
      ]
     },
     "execution_count": 25,
     "metadata": {},
     "output_type": "execute_result"
    }
   ],
   "source": [
    "(depot['depot_ordered_qty_over_supplier_lead_time'] < 0).value_counts()"
   ]
  },
  {
   "cell_type": "markdown",
   "metadata": {},
   "source": [
    "### In Store\n",
    "\n",
    "* waste_value_on_day cannot be negative. How does a fraction of waste work? Is this a tray unit, the effect of the reduced price?\n",
    "* **Removed:** stock_out_ind_on_day & ranging_indicator_on_day should be 0 or 1 and mutually exclusive. Misunderstanding of meaning"
   ]
  },
  {
   "cell_type": "code",
   "execution_count": 26,
   "metadata": {},
   "outputs": [
    {
     "data": {
      "text/plain": [
       "False    2648537\n",
       "True           2\n",
       "Name: waste_value_on_day, dtype: int64"
      ]
     },
     "execution_count": 26,
     "metadata": {},
     "output_type": "execute_result"
    }
   ],
   "source": [
    "(instore['waste_value_on_day'] < 0 ).value_counts()"
   ]
  },
  {
   "cell_type": "code",
   "execution_count": 27,
   "metadata": {},
   "outputs": [
    {
     "data": {
      "text/plain": [
       "1.0    1650382\n",
       "2.0     130273\n",
       "0.0      11806\n",
       "dtype: int64"
      ]
     },
     "execution_count": 27,
     "metadata": {},
     "output_type": "execute_result"
    }
   ],
   "source": [
    "(instore['stock_out_ind_on_day'] + instore['ranging_indicator_on_day']).value_counts()"
   ]
  },
  {
   "cell_type": "markdown",
   "metadata": {},
   "source": [
    "Remove rows which do not equal 1 (0 and 2)"
   ]
  },
  {
   "cell_type": "markdown",
   "metadata": {},
   "source": [
    "### Closing Inventory"
   ]
  },
  {
   "cell_type": "markdown",
   "metadata": {},
   "source": [
    "* Second column called closing_inventory_on_day"
   ]
  },
  {
   "cell_type": "code",
   "execution_count": 28,
   "metadata": {},
   "outputs": [
    {
     "data": {
      "text/plain": [
       "True     1792461\n",
       "False     856078\n",
       "Name: closing_inventory_on_day, dtype: int64"
      ]
     },
     "execution_count": 28,
     "metadata": {},
     "output_type": "execute_result"
    }
   ],
   "source": [
    "(instore['closing_inventory_on_day'] == cinv['closing_inventory_on_day']).value_counts()"
   ]
  },
  {
   "cell_type": "code",
   "execution_count": 29,
   "metadata": {},
   "outputs": [
    {
     "data": {
      "text/plain": [
       "False    1792461\n",
       "True      856078\n",
       "Name: closing_inventory_on_day, dtype: int64"
      ]
     },
     "execution_count": 29,
     "metadata": {},
     "output_type": "execute_result"
    }
   ],
   "source": [
    "instore['closing_inventory_on_day'].isna().value_counts()"
   ]
  },
  {
   "cell_type": "code",
   "execution_count": 30,
   "metadata": {},
   "outputs": [
    {
     "data": {
      "text/plain": [
       "False    1792461\n",
       "True      856078\n",
       "Name: closing_inventory_on_day, dtype: int64"
      ]
     },
     "execution_count": 30,
     "metadata": {},
     "output_type": "execute_result"
    }
   ],
   "source": [
    "cinv['closing_inventory_on_day'].isna().value_counts()"
   ]
  },
  {
   "cell_type": "markdown",
   "metadata": {},
   "source": [
    "They are the same column"
   ]
  },
  {
   "cell_type": "code",
   "execution_count": 31,
   "metadata": {},
   "outputs": [
    {
     "data": {
      "text/plain": [
       "False    2612704\n",
       "True       35835\n",
       "Name: closing_inventory_on_day, dtype: int64"
      ]
     },
     "execution_count": 31,
     "metadata": {},
     "output_type": "execute_result"
    }
   ],
   "source": [
    "(cinv['closing_inventory_on_day'] < 0).value_counts()"
   ]
  },
  {
   "cell_type": "markdown",
   "metadata": {},
   "source": [
    "Can't have a negative closing inventory"
   ]
  },
  {
   "cell_type": "markdown",
   "metadata": {},
   "source": [
    "### Review Outliers\n",
    "\n",
    "Look at `sales_value_on_day`"
   ]
  },
  {
   "cell_type": "code",
   "execution_count": 32,
   "metadata": {},
   "outputs": [
    {
     "data": {
      "text/plain": [
       "<matplotlib.axes._subplots.AxesSubplot at 0x104027350>"
      ]
     },
     "execution_count": 32,
     "metadata": {},
     "output_type": "execute_result"
    },
    {
     "data": {
      "image/png": "[encoded data removed]",
      "text/plain": [
       "<Figure size 432x288 with 1 Axes>"
      ]
     },
     "metadata": {
      "needs_background": "light"
     },
     "output_type": "display_data"
    }
   ],
   "source": [
    "instore['sales_value_on_day'].hist(bins=200)"
   ]
  },
  {
   "cell_type": "markdown",
   "metadata": {},
   "source": [
    "#### Store-level and product-level review"
   ]
  },
  {
   "cell_type": "code",
   "execution_count": 33,
   "metadata": {},
   "outputs": [],
   "source": [
    "store_product = instore[(instore['upc']==155915) & (instore['store_id']==1312)]"
   ]
  },
  {
   "cell_type": "code",
   "execution_count": 34,
   "metadata": {},
   "outputs": [],
   "source": [
    "z_scores = pd.DataFrame(stats.zscore(store_product['sales_value_on_day'], nan_policy='omit'))"
   ]
  },
  {
   "cell_type": "code",
   "execution_count": 35,
   "metadata": {},
   "outputs": [
    {
     "data": {
      "text/plain": [
       "array([[<matplotlib.axes._subplots.AxesSubplot object at 0x103fee090>]],\n",
       "      dtype=object)"
      ]
     },
     "execution_count": 35,
     "metadata": {},
     "output_type": "execute_result"
    },
    {
     "data": {
      "image/png": "[encoded data removed]",
      "text/plain": [
       "<Figure size 432x288 with 1 Axes>"
      ]
     },
     "metadata": {
      "needs_background": "light"
     },
     "output_type": "display_data"
    }
   ],
   "source": [
    "z_scores.hist()"
   ]
  },
  {
   "cell_type": "code",
   "execution_count": 36,
   "metadata": {},
   "outputs": [],
   "source": [
    "def outlier_rows(df, col):\n",
    "    z_scores = pd.DataFrame(stats.zscore(df[col], nan_policy='omit'))\n",
    "    return df.reset_index()[(z_scores[0] > 3)].drop(['index'], axis=1)"
   ]
  },
  {
   "cell_type": "code",
   "execution_count": 37,
   "metadata": {},
   "outputs": [],
   "source": [
    "store = instore[(instore['store_id']==1312)]"
   ]
  },
  {
   "cell_type": "code",
   "execution_count": 38,
   "metadata": {},
   "outputs": [
    {
     "data": {
      "text/plain": [
       "(4384, 26)"
      ]
     },
     "execution_count": 38,
     "metadata": {},
     "output_type": "execute_result"
    }
   ],
   "source": [
    "store.shape"
   ]
  },
  {
   "cell_type": "code",
   "execution_count": 39,
   "metadata": {},
   "outputs": [
    {
     "name": "stderr",
     "output_type": "stream",
     "text": [
      "/opt/anaconda3/lib/python3.7/site-packages/scipy/stats/stats.py:2413: RuntimeWarning: Mean of empty slice\n",
      "  mns = np.nanmean(a=a, axis=axis, keepdims=True)\n",
      "/opt/anaconda3/lib/python3.7/site-packages/numpy/lib/nanfunctions.py:1667: RuntimeWarning: Degrees of freedom <= 0 for slice.\n",
      "  keepdims=keepdims)\n"
     ]
    },
    {
     "data": {
      "text/html": [
       "<div>\n",
       "<style scoped>\n",
       "    .dataframe tbody tr th:only-of-type {\n",
       "        vertical-align: middle;\n",
       "    }\n",
       "\n",
       "    .dataframe tbody tr th {\n",
       "        vertical-align: top;\n",
       "    }\n",
       "\n",
       "    .dataframe thead th {\n",
       "        text-align: right;\n",
       "    }\n",
       "</style>\n",
       "<table border=\"1\" class=\"dataframe\">\n",
       "  <thead>\n",
       "    <tr style=\"text-align: right;\">\n",
       "      <th></th>\n",
       "      <th>upc</th>\n",
       "      <th>calendar_date</th>\n",
       "      <th>calendar_id</th>\n",
       "      <th>store_id</th>\n",
       "      <th>geography_id</th>\n",
       "      <th>shelf_life</th>\n",
       "      <th>units_per_tray</th>\n",
       "      <th>cal_gross_sales_qty_on_day</th>\n",
       "      <th>closing_inventory_min_neg_over_shelf_life_minus_2_days</th>\n",
       "      <th>closing_inventory_neg_count_over_1_day</th>\n",
       "      <th>...</th>\n",
       "      <th>sales_qty_over_lead_time</th>\n",
       "      <th>sales_qty_over_shelf_life</th>\n",
       "      <th>sales_value_on_day</th>\n",
       "      <th>stock_adj_over_shelf_life_exclude_event_date</th>\n",
       "      <th>stock_out_ind_on_day</th>\n",
       "      <th>stockfile_adjust_neg_count_over_minus_1_day</th>\n",
       "      <th>stockfile_adjust_qty_at_minus_1_day</th>\n",
       "      <th>stockfile_adjust_qty_at_plus_1_day</th>\n",
       "      <th>stockfile_adjust_qty_on_day</th>\n",
       "      <th>waste_value_on_day</th>\n",
       "    </tr>\n",
       "  </thead>\n",
       "  <tbody>\n",
       "    <tr>\n",
       "      <th>0</th>\n",
       "      <td>109024</td>\n",
       "      <td>20/07/2018 00:00:00</td>\n",
       "      <td>2018-07-20</td>\n",
       "      <td>1312</td>\n",
       "      <td>4212</td>\n",
       "      <td>6</td>\n",
       "      <td>16</td>\n",
       "      <td>72.0</td>\n",
       "      <td>NaN</td>\n",
       "      <td>0</td>\n",
       "      <td>...</td>\n",
       "      <td>104.0</td>\n",
       "      <td>183.0</td>\n",
       "      <td>144.00</td>\n",
       "      <td>-1.0</td>\n",
       "      <td>0.0</td>\n",
       "      <td>0</td>\n",
       "      <td>NaN</td>\n",
       "      <td>NaN</td>\n",
       "      <td>NaN</td>\n",
       "      <td>0.0</td>\n",
       "    </tr>\n",
       "    <tr>\n",
       "      <th>1</th>\n",
       "      <td>146654</td>\n",
       "      <td>23/07/2018 00:00:00</td>\n",
       "      <td>2018-07-23</td>\n",
       "      <td>1312</td>\n",
       "      <td>4212</td>\n",
       "      <td>7</td>\n",
       "      <td>12</td>\n",
       "      <td>6.0</td>\n",
       "      <td>NaN</td>\n",
       "      <td>0</td>\n",
       "      <td>...</td>\n",
       "      <td>7.0</td>\n",
       "      <td>15.0</td>\n",
       "      <td>9.00</td>\n",
       "      <td>-1.0</td>\n",
       "      <td>0.0</td>\n",
       "      <td>0</td>\n",
       "      <td>NaN</td>\n",
       "      <td>NaN</td>\n",
       "      <td>NaN</td>\n",
       "      <td>0.0</td>\n",
       "    </tr>\n",
       "    <tr>\n",
       "      <th>2</th>\n",
       "      <td>154741</td>\n",
       "      <td>11/07/2018 00:00:00</td>\n",
       "      <td>2018-07-11</td>\n",
       "      <td>1312</td>\n",
       "      <td>4212</td>\n",
       "      <td>7</td>\n",
       "      <td>12</td>\n",
       "      <td>16.0</td>\n",
       "      <td>NaN</td>\n",
       "      <td>0</td>\n",
       "      <td>...</td>\n",
       "      <td>23.0</td>\n",
       "      <td>49.0</td>\n",
       "      <td>68.00</td>\n",
       "      <td>0.0</td>\n",
       "      <td>0.0</td>\n",
       "      <td>0</td>\n",
       "      <td>NaN</td>\n",
       "      <td>NaN</td>\n",
       "      <td>NaN</td>\n",
       "      <td>0.0</td>\n",
       "    </tr>\n",
       "    <tr>\n",
       "      <th>3</th>\n",
       "      <td>155090</td>\n",
       "      <td>14/07/2018 00:00:00</td>\n",
       "      <td>2018-07-14</td>\n",
       "      <td>1312</td>\n",
       "      <td>4212</td>\n",
       "      <td>14</td>\n",
       "      <td>24</td>\n",
       "      <td>16.0</td>\n",
       "      <td>NaN</td>\n",
       "      <td>0</td>\n",
       "      <td>...</td>\n",
       "      <td>27.0</td>\n",
       "      <td>55.0</td>\n",
       "      <td>128.00</td>\n",
       "      <td>-14.0</td>\n",
       "      <td>0.0</td>\n",
       "      <td>0</td>\n",
       "      <td>NaN</td>\n",
       "      <td>NaN</td>\n",
       "      <td>NaN</td>\n",
       "      <td>0.0</td>\n",
       "    </tr>\n",
       "    <tr>\n",
       "      <th>4</th>\n",
       "      <td>155915</td>\n",
       "      <td>07/07/2018 00:00:00</td>\n",
       "      <td>2018-07-07</td>\n",
       "      <td>1312</td>\n",
       "      <td>4212</td>\n",
       "      <td>7</td>\n",
       "      <td>14</td>\n",
       "      <td>106.0</td>\n",
       "      <td>NaN</td>\n",
       "      <td>0</td>\n",
       "      <td>...</td>\n",
       "      <td>106.0</td>\n",
       "      <td>106.0</td>\n",
       "      <td>371.00</td>\n",
       "      <td>0.0</td>\n",
       "      <td>0.0</td>\n",
       "      <td>0</td>\n",
       "      <td>NaN</td>\n",
       "      <td>NaN</td>\n",
       "      <td>NaN</td>\n",
       "      <td>3.5</td>\n",
       "    </tr>\n",
       "    <tr>\n",
       "      <th>5</th>\n",
       "      <td>156066</td>\n",
       "      <td>27/07/2018 00:00:00</td>\n",
       "      <td>2018-07-27</td>\n",
       "      <td>1312</td>\n",
       "      <td>4212</td>\n",
       "      <td>14</td>\n",
       "      <td>12</td>\n",
       "      <td>6.0</td>\n",
       "      <td>NaN</td>\n",
       "      <td>0</td>\n",
       "      <td>...</td>\n",
       "      <td>7.0</td>\n",
       "      <td>23.0</td>\n",
       "      <td>36.00</td>\n",
       "      <td>0.0</td>\n",
       "      <td>0.0</td>\n",
       "      <td>0</td>\n",
       "      <td>NaN</td>\n",
       "      <td>NaN</td>\n",
       "      <td>NaN</td>\n",
       "      <td>0.0</td>\n",
       "    </tr>\n",
       "    <tr>\n",
       "      <th>6</th>\n",
       "      <td>187190</td>\n",
       "      <td>28/07/2018 00:00:00</td>\n",
       "      <td>2018-07-28</td>\n",
       "      <td>1312</td>\n",
       "      <td>4212</td>\n",
       "      <td>10</td>\n",
       "      <td>5</td>\n",
       "      <td>28.0</td>\n",
       "      <td>NaN</td>\n",
       "      <td>0</td>\n",
       "      <td>...</td>\n",
       "      <td>39.0</td>\n",
       "      <td>146.0</td>\n",
       "      <td>14.00</td>\n",
       "      <td>0.0</td>\n",
       "      <td>0.0</td>\n",
       "      <td>0</td>\n",
       "      <td>NaN</td>\n",
       "      <td>NaN</td>\n",
       "      <td>NaN</td>\n",
       "      <td>0.0</td>\n",
       "    </tr>\n",
       "    <tr>\n",
       "      <th>7</th>\n",
       "      <td>196819</td>\n",
       "      <td>14/07/2018 00:00:00</td>\n",
       "      <td>2018-07-14</td>\n",
       "      <td>1312</td>\n",
       "      <td>4212</td>\n",
       "      <td>3</td>\n",
       "      <td>12</td>\n",
       "      <td>58.0</td>\n",
       "      <td>NaN</td>\n",
       "      <td>0</td>\n",
       "      <td>...</td>\n",
       "      <td>99.0</td>\n",
       "      <td>170.0</td>\n",
       "      <td>127.60</td>\n",
       "      <td>0.0</td>\n",
       "      <td>0.0</td>\n",
       "      <td>0</td>\n",
       "      <td>NaN</td>\n",
       "      <td>NaN</td>\n",
       "      <td>NaN</td>\n",
       "      <td>0.0</td>\n",
       "    </tr>\n",
       "    <tr>\n",
       "      <th>8</th>\n",
       "      <td>225380</td>\n",
       "      <td>14/07/2018 00:00:00</td>\n",
       "      <td>2018-07-14</td>\n",
       "      <td>1312</td>\n",
       "      <td>4212</td>\n",
       "      <td>7</td>\n",
       "      <td>8</td>\n",
       "      <td>77.0</td>\n",
       "      <td>NaN</td>\n",
       "      <td>0</td>\n",
       "      <td>...</td>\n",
       "      <td>126.0</td>\n",
       "      <td>319.0</td>\n",
       "      <td>308.00</td>\n",
       "      <td>0.0</td>\n",
       "      <td>0.0</td>\n",
       "      <td>0</td>\n",
       "      <td>NaN</td>\n",
       "      <td>NaN</td>\n",
       "      <td>NaN</td>\n",
       "      <td>0.0</td>\n",
       "    </tr>\n",
       "    <tr>\n",
       "      <th>9</th>\n",
       "      <td>255110</td>\n",
       "      <td>04/08/2018 00:00:00</td>\n",
       "      <td>2018-08-04</td>\n",
       "      <td>1312</td>\n",
       "      <td>4212</td>\n",
       "      <td>7</td>\n",
       "      <td>6</td>\n",
       "      <td>13.0</td>\n",
       "      <td>NaN</td>\n",
       "      <td>0</td>\n",
       "      <td>...</td>\n",
       "      <td>18.0</td>\n",
       "      <td>48.0</td>\n",
       "      <td>91.00</td>\n",
       "      <td>0.0</td>\n",
       "      <td>0.0</td>\n",
       "      <td>0</td>\n",
       "      <td>NaN</td>\n",
       "      <td>NaN</td>\n",
       "      <td>NaN</td>\n",
       "      <td>0.0</td>\n",
       "    </tr>\n",
       "    <tr>\n",
       "      <th>10</th>\n",
       "      <td>284905</td>\n",
       "      <td>21/07/2018 00:00:00</td>\n",
       "      <td>2018-07-21</td>\n",
       "      <td>1312</td>\n",
       "      <td>4212</td>\n",
       "      <td>6</td>\n",
       "      <td>2</td>\n",
       "      <td>8.0</td>\n",
       "      <td>NaN</td>\n",
       "      <td>0</td>\n",
       "      <td>...</td>\n",
       "      <td>10.0</td>\n",
       "      <td>20.0</td>\n",
       "      <td>48.00</td>\n",
       "      <td>-1.0</td>\n",
       "      <td>1.0</td>\n",
       "      <td>0</td>\n",
       "      <td>NaN</td>\n",
       "      <td>NaN</td>\n",
       "      <td>NaN</td>\n",
       "      <td>0.0</td>\n",
       "    </tr>\n",
       "    <tr>\n",
       "      <th>11</th>\n",
       "      <td>466769</td>\n",
       "      <td>06/08/2018 00:00:00</td>\n",
       "      <td>2018-08-06</td>\n",
       "      <td>1312</td>\n",
       "      <td>4212</td>\n",
       "      <td>5</td>\n",
       "      <td>12</td>\n",
       "      <td>16.0</td>\n",
       "      <td>NaN</td>\n",
       "      <td>0</td>\n",
       "      <td>...</td>\n",
       "      <td>18.0</td>\n",
       "      <td>46.0</td>\n",
       "      <td>72.00</td>\n",
       "      <td>0.0</td>\n",
       "      <td>0.0</td>\n",
       "      <td>0</td>\n",
       "      <td>NaN</td>\n",
       "      <td>0.0</td>\n",
       "      <td>18.0</td>\n",
       "      <td>0.0</td>\n",
       "    </tr>\n",
       "    <tr>\n",
       "      <th>12</th>\n",
       "      <td>558020</td>\n",
       "      <td>21/07/2018 00:00:00</td>\n",
       "      <td>2018-07-21</td>\n",
       "      <td>1312</td>\n",
       "      <td>4212</td>\n",
       "      <td>5</td>\n",
       "      <td>6</td>\n",
       "      <td>7.0</td>\n",
       "      <td>NaN</td>\n",
       "      <td>0</td>\n",
       "      <td>...</td>\n",
       "      <td>10.0</td>\n",
       "      <td>24.0</td>\n",
       "      <td>43.52</td>\n",
       "      <td>-1.0</td>\n",
       "      <td>0.0</td>\n",
       "      <td>0</td>\n",
       "      <td>NaN</td>\n",
       "      <td>NaN</td>\n",
       "      <td>NaN</td>\n",
       "      <td>0.0</td>\n",
       "    </tr>\n",
       "    <tr>\n",
       "      <th>13</th>\n",
       "      <td>783057</td>\n",
       "      <td>17/07/2018 00:00:00</td>\n",
       "      <td>2018-07-17</td>\n",
       "      <td>1312</td>\n",
       "      <td>4212</td>\n",
       "      <td>5</td>\n",
       "      <td>8</td>\n",
       "      <td>15.0</td>\n",
       "      <td>NaN</td>\n",
       "      <td>0</td>\n",
       "      <td>...</td>\n",
       "      <td>18.0</td>\n",
       "      <td>33.0</td>\n",
       "      <td>67.50</td>\n",
       "      <td>0.0</td>\n",
       "      <td>0.0</td>\n",
       "      <td>0</td>\n",
       "      <td>NaN</td>\n",
       "      <td>NaN</td>\n",
       "      <td>NaN</td>\n",
       "      <td>0.0</td>\n",
       "    </tr>\n",
       "    <tr>\n",
       "      <th>14</th>\n",
       "      <td>812726</td>\n",
       "      <td>07/07/2018 00:00:00</td>\n",
       "      <td>2018-07-07</td>\n",
       "      <td>1312</td>\n",
       "      <td>4212</td>\n",
       "      <td>3</td>\n",
       "      <td>20</td>\n",
       "      <td>573.0</td>\n",
       "      <td>NaN</td>\n",
       "      <td>0</td>\n",
       "      <td>...</td>\n",
       "      <td>573.0</td>\n",
       "      <td>573.0</td>\n",
       "      <td>1146.00</td>\n",
       "      <td>0.0</td>\n",
       "      <td>0.0</td>\n",
       "      <td>0</td>\n",
       "      <td>NaN</td>\n",
       "      <td>NaN</td>\n",
       "      <td>NaN</td>\n",
       "      <td>242.0</td>\n",
       "    </tr>\n",
       "    <tr>\n",
       "      <th>15</th>\n",
       "      <td>817271</td>\n",
       "      <td>13/07/2018 00:00:00</td>\n",
       "      <td>2018-07-13</td>\n",
       "      <td>1312</td>\n",
       "      <td>4212</td>\n",
       "      <td>5</td>\n",
       "      <td>12</td>\n",
       "      <td>30.0</td>\n",
       "      <td>NaN</td>\n",
       "      <td>0</td>\n",
       "      <td>...</td>\n",
       "      <td>45.0</td>\n",
       "      <td>88.0</td>\n",
       "      <td>75.00</td>\n",
       "      <td>0.0</td>\n",
       "      <td>0.0</td>\n",
       "      <td>0</td>\n",
       "      <td>NaN</td>\n",
       "      <td>NaN</td>\n",
       "      <td>NaN</td>\n",
       "      <td>0.0</td>\n",
       "    </tr>\n",
       "    <tr>\n",
       "      <th>16</th>\n",
       "      <td>851053</td>\n",
       "      <td>29/07/2018 00:00:00</td>\n",
       "      <td>2018-07-29</td>\n",
       "      <td>1312</td>\n",
       "      <td>4212</td>\n",
       "      <td>6</td>\n",
       "      <td>9</td>\n",
       "      <td>42.0</td>\n",
       "      <td>NaN</td>\n",
       "      <td>0</td>\n",
       "      <td>...</td>\n",
       "      <td>64.0</td>\n",
       "      <td>123.0</td>\n",
       "      <td>73.50</td>\n",
       "      <td>0.0</td>\n",
       "      <td>0.0</td>\n",
       "      <td>0</td>\n",
       "      <td>NaN</td>\n",
       "      <td>NaN</td>\n",
       "      <td>NaN</td>\n",
       "      <td>0.0</td>\n",
       "    </tr>\n",
       "    <tr>\n",
       "      <th>17</th>\n",
       "      <td>901383</td>\n",
       "      <td>04/08/2018 00:00:00</td>\n",
       "      <td>2018-08-04</td>\n",
       "      <td>1312</td>\n",
       "      <td>4212</td>\n",
       "      <td>9</td>\n",
       "      <td>36</td>\n",
       "      <td>121.0</td>\n",
       "      <td>NaN</td>\n",
       "      <td>0</td>\n",
       "      <td>...</td>\n",
       "      <td>205.0</td>\n",
       "      <td>727.0</td>\n",
       "      <td>72.60</td>\n",
       "      <td>-37.0</td>\n",
       "      <td>0.0</td>\n",
       "      <td>0</td>\n",
       "      <td>NaN</td>\n",
       "      <td>NaN</td>\n",
       "      <td>NaN</td>\n",
       "      <td>0.0</td>\n",
       "    </tr>\n",
       "    <tr>\n",
       "      <th>18</th>\n",
       "      <td>981651</td>\n",
       "      <td>13/07/2018 00:00:00</td>\n",
       "      <td>2018-07-13</td>\n",
       "      <td>1312</td>\n",
       "      <td>4212</td>\n",
       "      <td>2</td>\n",
       "      <td>3</td>\n",
       "      <td>9.0</td>\n",
       "      <td>NaN</td>\n",
       "      <td>0</td>\n",
       "      <td>...</td>\n",
       "      <td>13.0</td>\n",
       "      <td>16.0</td>\n",
       "      <td>25.20</td>\n",
       "      <td>0.0</td>\n",
       "      <td>0.0</td>\n",
       "      <td>0</td>\n",
       "      <td>NaN</td>\n",
       "      <td>NaN</td>\n",
       "      <td>NaN</td>\n",
       "      <td>0.0</td>\n",
       "    </tr>\n",
       "  </tbody>\n",
       "</table>\n",
       "<p>19 rows × 26 columns</p>\n",
       "</div>"
      ],
      "text/plain": [
       "       upc        calendar_date calendar_id  store_id  geography_id  \\\n",
       "0   109024  20/07/2018 00:00:00  2018-07-20      1312          4212   \n",
       "1   146654  23/07/2018 00:00:00  2018-07-23      1312          4212   \n",
       "2   154741  11/07/2018 00:00:00  2018-07-11      1312          4212   \n",
       "3   155090  14/07/2018 00:00:00  2018-07-14      1312          4212   \n",
       "4   155915  07/07/2018 00:00:00  2018-07-07      1312          4212   \n",
       "5   156066  27/07/2018 00:00:00  2018-07-27      1312          4212   \n",
       "6   187190  28/07/2018 00:00:00  2018-07-28      1312          4212   \n",
       "7   196819  14/07/2018 00:00:00  2018-07-14      1312          4212   \n",
       "8   225380  14/07/2018 00:00:00  2018-07-14      1312          4212   \n",
       "9   255110  04/08/2018 00:00:00  2018-08-04      1312          4212   \n",
       "10  284905  21/07/2018 00:00:00  2018-07-21      1312          4212   \n",
       "11  466769  06/08/2018 00:00:00  2018-08-06      1312          4212   \n",
       "12  558020  21/07/2018 00:00:00  2018-07-21      1312          4212   \n",
       "13  783057  17/07/2018 00:00:00  2018-07-17      1312          4212   \n",
       "14  812726  07/07/2018 00:00:00  2018-07-07      1312          4212   \n",
       "15  817271  13/07/2018 00:00:00  2018-07-13      1312          4212   \n",
       "16  851053  29/07/2018 00:00:00  2018-07-29      1312          4212   \n",
       "17  901383  04/08/2018 00:00:00  2018-08-04      1312          4212   \n",
       "18  981651  13/07/2018 00:00:00  2018-07-13      1312          4212   \n",
       "\n",
       "    shelf_life  units_per_tray  cal_gross_sales_qty_on_day  \\\n",
       "0            6              16                        72.0   \n",
       "1            7              12                         6.0   \n",
       "2            7              12                        16.0   \n",
       "3           14              24                        16.0   \n",
       "4            7              14                       106.0   \n",
       "5           14              12                         6.0   \n",
       "6           10               5                        28.0   \n",
       "7            3              12                        58.0   \n",
       "8            7               8                        77.0   \n",
       "9            7               6                        13.0   \n",
       "10           6               2                         8.0   \n",
       "11           5              12                        16.0   \n",
       "12           5               6                         7.0   \n",
       "13           5               8                        15.0   \n",
       "14           3              20                       573.0   \n",
       "15           5              12                        30.0   \n",
       "16           6               9                        42.0   \n",
       "17           9              36                       121.0   \n",
       "18           2               3                         9.0   \n",
       "\n",
       "    closing_inventory_min_neg_over_shelf_life_minus_2_days  \\\n",
       "0                                                 NaN        \n",
       "1                                                 NaN        \n",
       "2                                                 NaN        \n",
       "3                                                 NaN        \n",
       "4                                                 NaN        \n",
       "5                                                 NaN        \n",
       "6                                                 NaN        \n",
       "7                                                 NaN        \n",
       "8                                                 NaN        \n",
       "9                                                 NaN        \n",
       "10                                                NaN        \n",
       "11                                                NaN        \n",
       "12                                                NaN        \n",
       "13                                                NaN        \n",
       "14                                                NaN        \n",
       "15                                                NaN        \n",
       "16                                                NaN        \n",
       "17                                                NaN        \n",
       "18                                                NaN        \n",
       "\n",
       "    closing_inventory_neg_count_over_1_day  ...  sales_qty_over_lead_time  \\\n",
       "0                                        0  ...                     104.0   \n",
       "1                                        0  ...                       7.0   \n",
       "2                                        0  ...                      23.0   \n",
       "3                                        0  ...                      27.0   \n",
       "4                                        0  ...                     106.0   \n",
       "5                                        0  ...                       7.0   \n",
       "6                                        0  ...                      39.0   \n",
       "7                                        0  ...                      99.0   \n",
       "8                                        0  ...                     126.0   \n",
       "9                                        0  ...                      18.0   \n",
       "10                                       0  ...                      10.0   \n",
       "11                                       0  ...                      18.0   \n",
       "12                                       0  ...                      10.0   \n",
       "13                                       0  ...                      18.0   \n",
       "14                                       0  ...                     573.0   \n",
       "15                                       0  ...                      45.0   \n",
       "16                                       0  ...                      64.0   \n",
       "17                                       0  ...                     205.0   \n",
       "18                                       0  ...                      13.0   \n",
       "\n",
       "    sales_qty_over_shelf_life  sales_value_on_day  \\\n",
       "0                       183.0              144.00   \n",
       "1                        15.0                9.00   \n",
       "2                        49.0               68.00   \n",
       "3                        55.0              128.00   \n",
       "4                       106.0              371.00   \n",
       "5                        23.0               36.00   \n",
       "6                       146.0               14.00   \n",
       "7                       170.0              127.60   \n",
       "8                       319.0              308.00   \n",
       "9                        48.0               91.00   \n",
       "10                       20.0               48.00   \n",
       "11                       46.0               72.00   \n",
       "12                       24.0               43.52   \n",
       "13                       33.0               67.50   \n",
       "14                      573.0             1146.00   \n",
       "15                       88.0               75.00   \n",
       "16                      123.0               73.50   \n",
       "17                      727.0               72.60   \n",
       "18                       16.0               25.20   \n",
       "\n",
       "    stock_adj_over_shelf_life_exclude_event_date  stock_out_ind_on_day  \\\n",
       "0                                           -1.0                   0.0   \n",
       "1                                           -1.0                   0.0   \n",
       "2                                            0.0                   0.0   \n",
       "3                                          -14.0                   0.0   \n",
       "4                                            0.0                   0.0   \n",
       "5                                            0.0                   0.0   \n",
       "6                                            0.0                   0.0   \n",
       "7                                            0.0                   0.0   \n",
       "8                                            0.0                   0.0   \n",
       "9                                            0.0                   0.0   \n",
       "10                                          -1.0                   1.0   \n",
       "11                                           0.0                   0.0   \n",
       "12                                          -1.0                   0.0   \n",
       "13                                           0.0                   0.0   \n",
       "14                                           0.0                   0.0   \n",
       "15                                           0.0                   0.0   \n",
       "16                                           0.0                   0.0   \n",
       "17                                         -37.0                   0.0   \n",
       "18                                           0.0                   0.0   \n",
       "\n",
       "    stockfile_adjust_neg_count_over_minus_1_day  \\\n",
       "0                                             0   \n",
       "1                                             0   \n",
       "2                                             0   \n",
       "3                                             0   \n",
       "4                                             0   \n",
       "5                                             0   \n",
       "6                                             0   \n",
       "7                                             0   \n",
       "8                                             0   \n",
       "9                                             0   \n",
       "10                                            0   \n",
       "11                                            0   \n",
       "12                                            0   \n",
       "13                                            0   \n",
       "14                                            0   \n",
       "15                                            0   \n",
       "16                                            0   \n",
       "17                                            0   \n",
       "18                                            0   \n",
       "\n",
       "    stockfile_adjust_qty_at_minus_1_day  stockfile_adjust_qty_at_plus_1_day  \\\n",
       "0                                   NaN                                 NaN   \n",
       "1                                   NaN                                 NaN   \n",
       "2                                   NaN                                 NaN   \n",
       "3                                   NaN                                 NaN   \n",
       "4                                   NaN                                 NaN   \n",
       "5                                   NaN                                 NaN   \n",
       "6                                   NaN                                 NaN   \n",
       "7                                   NaN                                 NaN   \n",
       "8                                   NaN                                 NaN   \n",
       "9                                   NaN                                 NaN   \n",
       "10                                  NaN                                 NaN   \n",
       "11                                  NaN                                 0.0   \n",
       "12                                  NaN                                 NaN   \n",
       "13                                  NaN                                 NaN   \n",
       "14                                  NaN                                 NaN   \n",
       "15                                  NaN                                 NaN   \n",
       "16                                  NaN                                 NaN   \n",
       "17                                  NaN                                 NaN   \n",
       "18                                  NaN                                 NaN   \n",
       "\n",
       "    stockfile_adjust_qty_on_day  waste_value_on_day  \n",
       "0                           NaN                 0.0  \n",
       "1                           NaN                 0.0  \n",
       "2                           NaN                 0.0  \n",
       "3                           NaN                 0.0  \n",
       "4                           NaN                 3.5  \n",
       "5                           NaN                 0.0  \n",
       "6                           NaN                 0.0  \n",
       "7                           NaN                 0.0  \n",
       "8                           NaN                 0.0  \n",
       "9                           NaN                 0.0  \n",
       "10                          NaN                 0.0  \n",
       "11                         18.0                 0.0  \n",
       "12                          NaN                 0.0  \n",
       "13                          NaN                 0.0  \n",
       "14                          NaN               242.0  \n",
       "15                          NaN                 0.0  \n",
       "16                          NaN                 0.0  \n",
       "17                          NaN                 0.0  \n",
       "18                          NaN                 0.0  \n",
       "\n",
       "[19 rows x 26 columns]"
      ]
     },
     "execution_count": 39,
     "metadata": {},
     "output_type": "execute_result"
    }
   ],
   "source": [
    "store.groupby(['upc', 'store_id']).apply(outlier_rows, ('sales_value_on_day')).reset_index(drop=True)"
   ]
  },
  {
   "cell_type": "code",
   "execution_count": 40,
   "metadata": {},
   "outputs": [
    {
     "data": {
      "text/html": [
       "<div>\n",
       "<style scoped>\n",
       "    .dataframe tbody tr th:only-of-type {\n",
       "        vertical-align: middle;\n",
       "    }\n",
       "\n",
       "    .dataframe tbody tr th {\n",
       "        vertical-align: top;\n",
       "    }\n",
       "\n",
       "    .dataframe thead th {\n",
       "        text-align: right;\n",
       "    }\n",
       "</style>\n",
       "<table border=\"1\" class=\"dataframe\">\n",
       "  <thead>\n",
       "    <tr style=\"text-align: right;\">\n",
       "      <th></th>\n",
       "      <th>upc</th>\n",
       "      <th>calendar_date</th>\n",
       "      <th>calendar_id</th>\n",
       "      <th>store_id</th>\n",
       "      <th>geography_id</th>\n",
       "      <th>shelf_life</th>\n",
       "      <th>units_per_tray</th>\n",
       "      <th>cal_gross_sales_qty_on_day</th>\n",
       "      <th>closing_inventory_min_neg_over_shelf_life_minus_2_days</th>\n",
       "      <th>closing_inventory_neg_count_over_1_day</th>\n",
       "      <th>...</th>\n",
       "      <th>sales_qty_over_lead_time</th>\n",
       "      <th>sales_qty_over_shelf_life</th>\n",
       "      <th>sales_value_on_day</th>\n",
       "      <th>stock_adj_over_shelf_life_exclude_event_date</th>\n",
       "      <th>stock_out_ind_on_day</th>\n",
       "      <th>stockfile_adjust_neg_count_over_minus_1_day</th>\n",
       "      <th>stockfile_adjust_qty_at_minus_1_day</th>\n",
       "      <th>stockfile_adjust_qty_at_plus_1_day</th>\n",
       "      <th>stockfile_adjust_qty_on_day</th>\n",
       "      <th>waste_value_on_day</th>\n",
       "    </tr>\n",
       "  </thead>\n",
       "  <tbody>\n",
       "    <tr>\n",
       "      <th>0</th>\n",
       "      <td>155915</td>\n",
       "      <td>07/07/2018 00:00:00</td>\n",
       "      <td>2018-07-07</td>\n",
       "      <td>1312</td>\n",
       "      <td>4212</td>\n",
       "      <td>7</td>\n",
       "      <td>14</td>\n",
       "      <td>106.0</td>\n",
       "      <td>NaN</td>\n",
       "      <td>0</td>\n",
       "      <td>...</td>\n",
       "      <td>106.0</td>\n",
       "      <td>106.0</td>\n",
       "      <td>371.0</td>\n",
       "      <td>0.0</td>\n",
       "      <td>0.0</td>\n",
       "      <td>0</td>\n",
       "      <td>NaN</td>\n",
       "      <td>NaN</td>\n",
       "      <td>NaN</td>\n",
       "      <td>3.5</td>\n",
       "    </tr>\n",
       "  </tbody>\n",
       "</table>\n",
       "<p>1 rows × 26 columns</p>\n",
       "</div>"
      ],
      "text/plain": [
       "      upc        calendar_date calendar_id  store_id  geography_id  \\\n",
       "0  155915  07/07/2018 00:00:00  2018-07-07      1312          4212   \n",
       "\n",
       "   shelf_life  units_per_tray  cal_gross_sales_qty_on_day  \\\n",
       "0           7              14                       106.0   \n",
       "\n",
       "   closing_inventory_min_neg_over_shelf_life_minus_2_days  \\\n",
       "0                                                NaN        \n",
       "\n",
       "   closing_inventory_neg_count_over_1_day  ...  sales_qty_over_lead_time  \\\n",
       "0                                       0  ...                     106.0   \n",
       "\n",
       "   sales_qty_over_shelf_life  sales_value_on_day  \\\n",
       "0                      106.0               371.0   \n",
       "\n",
       "   stock_adj_over_shelf_life_exclude_event_date  stock_out_ind_on_day  \\\n",
       "0                                           0.0                   0.0   \n",
       "\n",
       "   stockfile_adjust_neg_count_over_minus_1_day  \\\n",
       "0                                            0   \n",
       "\n",
       "   stockfile_adjust_qty_at_minus_1_day  stockfile_adjust_qty_at_plus_1_day  \\\n",
       "0                                  NaN                                 NaN   \n",
       "\n",
       "   stockfile_adjust_qty_on_day  waste_value_on_day  \n",
       "0                          NaN                 3.5  \n",
       "\n",
       "[1 rows x 26 columns]"
      ]
     },
     "execution_count": 40,
     "metadata": {},
     "output_type": "execute_result"
    }
   ],
   "source": [
    "# Sales 3 standard deviations above the mean sales\n",
    "\n",
    "outlier_rows(store_product, 'sales_value_on_day')"
   ]
  },
  {
   "cell_type": "markdown",
   "metadata": {},
   "source": [
    "### Next: \n",
    "1. depot_delivered_qty_on_day remove where negative\n",
    "2. closing_inventory_on_day remove where negative\n",
    "3. waste_value_on_day remove where negative\n",
    "4. **Removed:** Remove rows where (instore['stock_out_ind_on_day'] + instore['ranging_indicator_on_day']) != 1"
   ]
  },
  {
   "cell_type": "markdown",
   "metadata": {},
   "source": [
    "### Notes:\n",
    "* Could remove values in key columns that are more than 3 sd from mean. Investigate whether salse are possible by how many are available\n",
    "* Check in what cases you can sell more than the delivered quantity over the shelf life"
   ]
  },
  {
   "cell_type": "code",
   "execution_count": 41,
   "metadata": {},
   "outputs": [
    {
     "data": {
      "text/html": [
       "<div>\n",
       "<style scoped>\n",
       "    .dataframe tbody tr th:only-of-type {\n",
       "        vertical-align: middle;\n",
       "    }\n",
       "\n",
       "    .dataframe tbody tr th {\n",
       "        vertical-align: top;\n",
       "    }\n",
       "\n",
       "    .dataframe thead th {\n",
       "        text-align: right;\n",
       "    }\n",
       "</style>\n",
       "<table border=\"1\" class=\"dataframe\">\n",
       "  <thead>\n",
       "    <tr style=\"text-align: right;\">\n",
       "      <th></th>\n",
       "      <th>sales_value_on_day</th>\n",
       "      <th>delivered_qty_over_shelf_life</th>\n",
       "    </tr>\n",
       "  </thead>\n",
       "  <tbody>\n",
       "    <tr>\n",
       "      <th>0</th>\n",
       "      <td>30.00</td>\n",
       "      <td>20.0</td>\n",
       "    </tr>\n",
       "    <tr>\n",
       "      <th>6</th>\n",
       "      <td>59.80</td>\n",
       "      <td>0.0</td>\n",
       "    </tr>\n",
       "    <tr>\n",
       "      <th>8</th>\n",
       "      <td>110.25</td>\n",
       "      <td>44.0</td>\n",
       "    </tr>\n",
       "    <tr>\n",
       "      <th>9</th>\n",
       "      <td>18.00</td>\n",
       "      <td>0.0</td>\n",
       "    </tr>\n",
       "    <tr>\n",
       "      <th>10</th>\n",
       "      <td>31.50</td>\n",
       "      <td>8.0</td>\n",
       "    </tr>\n",
       "    <tr>\n",
       "      <th>...</th>\n",
       "      <td>...</td>\n",
       "      <td>...</td>\n",
       "    </tr>\n",
       "    <tr>\n",
       "      <th>2648437</th>\n",
       "      <td>30.55</td>\n",
       "      <td>18.0</td>\n",
       "    </tr>\n",
       "    <tr>\n",
       "      <th>2648439</th>\n",
       "      <td>55.00</td>\n",
       "      <td>48.0</td>\n",
       "    </tr>\n",
       "    <tr>\n",
       "      <th>2648455</th>\n",
       "      <td>33.00</td>\n",
       "      <td>32.0</td>\n",
       "    </tr>\n",
       "    <tr>\n",
       "      <th>2648496</th>\n",
       "      <td>20.00</td>\n",
       "      <td>18.0</td>\n",
       "    </tr>\n",
       "    <tr>\n",
       "      <th>2648521</th>\n",
       "      <td>72.00</td>\n",
       "      <td>60.0</td>\n",
       "    </tr>\n",
       "  </tbody>\n",
       "</table>\n",
       "<p>238125 rows × 2 columns</p>\n",
       "</div>"
      ],
      "text/plain": [
       "         sales_value_on_day  delivered_qty_over_shelf_life\n",
       "0                     30.00                           20.0\n",
       "6                     59.80                            0.0\n",
       "8                    110.25                           44.0\n",
       "9                     18.00                            0.0\n",
       "10                    31.50                            8.0\n",
       "...                     ...                            ...\n",
       "2648437               30.55                           18.0\n",
       "2648439               55.00                           48.0\n",
       "2648455               33.00                           32.0\n",
       "2648496               20.00                           18.0\n",
       "2648521               72.00                           60.0\n",
       "\n",
       "[238125 rows x 2 columns]"
      ]
     },
     "execution_count": 41,
     "metadata": {},
     "output_type": "execute_result"
    }
   ],
   "source": [
    "instore[instore['delivered_qty_over_shelf_life'] < instore['sales_value_on_day']][['sales_value_on_day','delivered_qty_over_shelf_life']]"
   ]
  },
  {
   "cell_type": "code",
   "execution_count": 42,
   "metadata": {},
   "outputs": [
    {
     "data": {
      "text/html": [
       "<div>\n",
       "<style scoped>\n",
       "    .dataframe tbody tr th:only-of-type {\n",
       "        vertical-align: middle;\n",
       "    }\n",
       "\n",
       "    .dataframe tbody tr th {\n",
       "        vertical-align: top;\n",
       "    }\n",
       "\n",
       "    .dataframe thead th {\n",
       "        text-align: right;\n",
       "    }\n",
       "</style>\n",
       "<table border=\"1\" class=\"dataframe\">\n",
       "  <thead>\n",
       "    <tr style=\"text-align: right;\">\n",
       "      <th></th>\n",
       "      <th>sales_value_on_day</th>\n",
       "      <th>delivered_qty_over_shelf_life</th>\n",
       "    </tr>\n",
       "  </thead>\n",
       "  <tbody>\n",
       "    <tr>\n",
       "      <th>60</th>\n",
       "      <td>371.0</td>\n",
       "      <td>112.0</td>\n",
       "    </tr>\n",
       "    <tr>\n",
       "      <th>99857</th>\n",
       "      <td>143.5</td>\n",
       "      <td>126.0</td>\n",
       "    </tr>\n",
       "    <tr>\n",
       "      <th>247586</th>\n",
       "      <td>161.0</td>\n",
       "      <td>182.0</td>\n",
       "    </tr>\n",
       "    <tr>\n",
       "      <th>293843</th>\n",
       "      <td>56.0</td>\n",
       "      <td>210.0</td>\n",
       "    </tr>\n",
       "    <tr>\n",
       "      <th>398557</th>\n",
       "      <td>185.5</td>\n",
       "      <td>238.0</td>\n",
       "    </tr>\n",
       "  </tbody>\n",
       "</table>\n",
       "</div>"
      ],
      "text/plain": [
       "        sales_value_on_day  delivered_qty_over_shelf_life\n",
       "60                   371.0                          112.0\n",
       "99857                143.5                          126.0\n",
       "247586               161.0                          182.0\n",
       "293843                56.0                          210.0\n",
       "398557               185.5                          238.0"
      ]
     },
     "execution_count": 42,
     "metadata": {},
     "output_type": "execute_result"
    }
   ],
   "source": [
    "store_1312 = instore[(instore['upc'] == 155915) & (instore['store_id'] == 1312)][['sales_value_on_day', 'delivered_qty_over_shelf_life']]\n",
    "store_1312.head()"
   ]
  },
  {
   "cell_type": "code",
   "execution_count": 43,
   "metadata": {},
   "outputs": [
    {
     "data": {
      "text/html": [
       "<div>\n",
       "<style scoped>\n",
       "    .dataframe tbody tr th:only-of-type {\n",
       "        vertical-align: middle;\n",
       "    }\n",
       "\n",
       "    .dataframe tbody tr th {\n",
       "        vertical-align: top;\n",
       "    }\n",
       "\n",
       "    .dataframe thead th {\n",
       "        text-align: right;\n",
       "    }\n",
       "</style>\n",
       "<table border=\"1\" class=\"dataframe\">\n",
       "  <thead>\n",
       "    <tr style=\"text-align: right;\">\n",
       "      <th></th>\n",
       "      <th>sales_value_on_day</th>\n",
       "      <th>delivered_qty_over_shelf_life</th>\n",
       "    </tr>\n",
       "  </thead>\n",
       "  <tbody>\n",
       "    <tr>\n",
       "      <th>60</th>\n",
       "      <td>371.0</td>\n",
       "      <td>112.0</td>\n",
       "    </tr>\n",
       "    <tr>\n",
       "      <th>99857</th>\n",
       "      <td>143.5</td>\n",
       "      <td>126.0</td>\n",
       "    </tr>\n",
       "  </tbody>\n",
       "</table>\n",
       "</div>"
      ],
      "text/plain": [
       "       sales_value_on_day  delivered_qty_over_shelf_life\n",
       "60                  371.0                          112.0\n",
       "99857               143.5                          126.0"
      ]
     },
     "execution_count": 43,
     "metadata": {},
     "output_type": "execute_result"
    }
   ],
   "source": [
    "store_1312[store_1312['sales_value_on_day'] > store_1312['delivered_qty_over_shelf_life']]"
   ]
  }
 ],
 "metadata": {
  "kernelspec": {
   "display_name": "Python 3",
   "language": "python",
   "name": "python3"
  },
  "language_info": {
   "codemirror_mode": {
    "name": "ipython",
    "version": 3
   },
   "file_extension": ".py",
   "mimetype": "text/x-python",
   "name": "python",
   "nbconvert_exporter": "python",
   "pygments_lexer": "ipython3",
   "version": "3.7.6"
  }
 },
 "nbformat": 4,
 "nbformat_minor": 4
}

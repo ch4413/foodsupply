{
 "cells": [
  {
   "cell_type": "markdown",
   "metadata": {},
   "source": [
    "### Data Cleaning"
   ]
  },
  {
   "cell_type": "markdown",
   "metadata": {},
   "source": [
    "### Steps: \n",
    "1. depot_delivered_qty_on_day remove where negative\n",
    "2. closing_inventory_on_day remove where negative\n",
    "3. waste_value_on_day remove where negative\n",
    "4. Remove rows where (instore['stock_out_ind_on_day'] + instore['ranging_indicator_on_day']) != 1"
   ]
  },
  {
   "cell_type": "code",
   "execution_count": 1,
   "metadata": {},
   "outputs": [],
   "source": [
    "import pandas as pd"
   ]
  },
  {
   "cell_type": "code",
   "execution_count": 2,
   "metadata": {},
   "outputs": [],
   "source": [
    "fore = pd.read_csv('../data/Case Study - Forecast Data.txt', sep='\\t', encoding='utf-16',\n",
    "                  parse_dates=['calendar_date'])"
   ]
  },
  {
   "cell_type": "code",
   "execution_count": 3,
   "metadata": {},
   "outputs": [],
   "source": [
    "depot = pd.read_csv('../data/Case Study - Depot Data.txt', sep='\\t', encoding='utf-16',\n",
    "                   parse_dates=['calendar_date'])"
   ]
  },
  {
   "cell_type": "code",
   "execution_count": 4,
   "metadata": {},
   "outputs": [],
   "source": [
    "instore = pd.read_csv('../data/Case Study - In Store Data.txt', sep='\\t', encoding='utf-16',\n",
    "                     parse_dates=['calendar_date'])"
   ]
  },
  {
   "cell_type": "code",
   "execution_count": 5,
   "metadata": {},
   "outputs": [],
   "source": [
    "cinv = pd.read_csv('../data/Case Study - Closing Inventory.txt', sep='\\t', encoding='utf-16',\n",
    "                   parse_dates=['calendar_date'])"
   ]
  },
  {
   "cell_type": "markdown",
   "metadata": {},
   "source": [
    "#### 1. depot_delivered_qty_on_day remove where negative"
   ]
  },
  {
   "cell_type": "code",
   "execution_count": 6,
   "metadata": {},
   "outputs": [],
   "source": [
    "depot_c = depot[~(depot['depot_delivered_qty_on_day'] < 0)]"
   ]
  },
  {
   "cell_type": "markdown",
   "metadata": {},
   "source": [
    "#### 2. closing_inventory_on_day remove where negative\n"
   ]
  },
  {
   "cell_type": "code",
   "execution_count": 7,
   "metadata": {},
   "outputs": [],
   "source": [
    "instore_c = instore[~(instore['closing_inventory_on_day'] < 0)]"
   ]
  },
  {
   "cell_type": "markdown",
   "metadata": {},
   "source": [
    "#### 3. waste_value_on_day remove where negative"
   ]
  },
  {
   "cell_type": "code",
   "execution_count": 8,
   "metadata": {},
   "outputs": [],
   "source": [
    "instore_c = instore_c[~(instore_c['waste_value_on_day'] < 0)]"
   ]
  },
  {
   "cell_type": "markdown",
   "metadata": {},
   "source": [
    "#### 4. Remove rows where (instore['stock_out_ind_on_day'] + instore['ranging_indicator_on_day']) != 1"
   ]
  },
  {
   "cell_type": "code",
   "execution_count": 9,
   "metadata": {},
   "outputs": [],
   "source": [
    "#(instore['stock_out_ind_on_day'] + instore['ranging_indicator_on_day']).isna().value_counts()"
   ]
  },
  {
   "cell_type": "code",
   "execution_count": 10,
   "metadata": {},
   "outputs": [],
   "source": [
    "# Use instore_c\n",
    "#instore_c = instore_c[(instore_c['stock_out_ind_on_day'] + instore_c['ranging_indicator_on_day'] == 1)]"
   ]
  },
  {
   "cell_type": "markdown",
   "metadata": {},
   "source": [
    "#### 5. **Added:** Remove rows with too much missing data: stock_out_ind_on_day, ranging_indicator_on_day, closing_inventory_on_day"
   ]
  },
  {
   "cell_type": "code",
   "execution_count": 16,
   "metadata": {},
   "outputs": [],
   "source": [
    "instore_c = instore_c[~(instore_c['stock_out_ind_on_day'].isna() | instore_c['ranging_indicator_on_day'].isna())]"
   ]
  },
  {
   "cell_type": "code",
   "execution_count": 17,
   "metadata": {},
   "outputs": [],
   "source": [
    "fore = fore[~fore['forecast_demand_on_day'].isna()]"
   ]
  },
  {
   "cell_type": "markdown",
   "metadata": {},
   "source": [
    "## Join data"
   ]
  },
  {
   "cell_type": "markdown",
   "metadata": {},
   "source": [
    "**Note:** No need to use `Closing Inventory`"
   ]
  },
  {
   "cell_type": "markdown",
   "metadata": {},
   "source": [
    "**Check mutual columns before joining to ensure clean joins**"
   ]
  },
  {
   "cell_type": "code",
   "execution_count": 18,
   "metadata": {},
   "outputs": [
    {
     "data": {
      "text/html": [
       "<div>\n",
       "<style scoped>\n",
       "    .dataframe tbody tr th:only-of-type {\n",
       "        vertical-align: middle;\n",
       "    }\n",
       "\n",
       "    .dataframe tbody tr th {\n",
       "        vertical-align: top;\n",
       "    }\n",
       "\n",
       "    .dataframe thead th {\n",
       "        text-align: right;\n",
       "    }\n",
       "</style>\n",
       "<table border=\"1\" class=\"dataframe\">\n",
       "  <thead>\n",
       "    <tr style=\"text-align: right;\">\n",
       "      <th></th>\n",
       "      <th>True</th>\n",
       "    </tr>\n",
       "  </thead>\n",
       "  <tbody>\n",
       "    <tr>\n",
       "      <th>upc</th>\n",
       "      <td>2648539</td>\n",
       "    </tr>\n",
       "    <tr>\n",
       "      <th>calendar_date</th>\n",
       "      <td>2648539</td>\n",
       "    </tr>\n",
       "    <tr>\n",
       "      <th>calendar_id</th>\n",
       "      <td>2648539</td>\n",
       "    </tr>\n",
       "    <tr>\n",
       "      <th>store_id</th>\n",
       "      <td>2648539</td>\n",
       "    </tr>\n",
       "    <tr>\n",
       "      <th>geography_id</th>\n",
       "      <td>2648539</td>\n",
       "    </tr>\n",
       "    <tr>\n",
       "      <th>shelf_life</th>\n",
       "      <td>2648539</td>\n",
       "    </tr>\n",
       "    <tr>\n",
       "      <th>units_per_tray</th>\n",
       "      <td>2648539</td>\n",
       "    </tr>\n",
       "  </tbody>\n",
       "</table>\n",
       "</div>"
      ],
      "text/plain": [
       "                   True\n",
       "upc             2648539\n",
       "calendar_date   2648539\n",
       "calendar_id     2648539\n",
       "store_id        2648539\n",
       "geography_id    2648539\n",
       "shelf_life      2648539\n",
       "units_per_tray  2648539"
      ]
     },
     "execution_count": 18,
     "metadata": {},
     "output_type": "execute_result"
    }
   ],
   "source": [
    "# Are the consistent columns the same in depot and instore\n",
    "mut_cols = list(depot.columns[depot.columns.isin(instore_c.columns)])\n",
    "(depot[mut_cols] == instore[mut_cols]).apply(lambda x: x.value_counts()).transpose()\n",
    "# or all(depot[mut_cols] == instore[mut_cols])\n",
    "# yes"
   ]
  },
  {
   "cell_type": "code",
   "execution_count": 19,
   "metadata": {},
   "outputs": [],
   "source": [
    "depot_cols = ['upc', 'calendar_date', 'store_id', 'geography_id', 'depot_delivered_qty_on_day',\n",
    "       'depot_delivered_qty_over_minus_2_day',\n",
    "       'depot_delivered_qty_over_shelf_life_plus_1',\n",
    "       'depot_lvl_required_qty_over_supplier_lead_time',\n",
    "       'depot_lvl_target_inventory_on_day', 'depot_ordered_qty_on_day',\n",
    "       'depot_ordered_qty_over_minus_2_day',\n",
    "       'depot_ordered_qty_over_shelf_life_plus_1',\n",
    "       'depot_ordered_qty_over_supplier_lead_time', 'depot_store_id']"
   ]
  },
  {
   "cell_type": "code",
   "execution_count": 20,
   "metadata": {},
   "outputs": [],
   "source": [
    "instorec_dep = instore_c.merge(depot[depot_cols], on=['upc', 'calendar_date', 'store_id', 'geography_id'],\n",
    "                              how='inner')"
   ]
  },
  {
   "cell_type": "code",
   "execution_count": 21,
   "metadata": {},
   "outputs": [
    {
     "data": {
      "text/plain": [
       "(1756624, 36)"
      ]
     },
     "execution_count": 21,
     "metadata": {},
     "output_type": "execute_result"
    }
   ],
   "source": [
    "instorec_dep.shape"
   ]
  },
  {
   "cell_type": "code",
   "execution_count": 22,
   "metadata": {},
   "outputs": [
    {
     "data": {
      "text/plain": [
       "True"
      ]
     },
     "execution_count": 22,
     "metadata": {},
     "output_type": "execute_result"
    }
   ],
   "source": [
    "# Are the consistent columns the same in depot and instore\n",
    "mut_cols = list(fore.columns[fore.columns.isin(instorec_dep.columns)])\n",
    "#(fore[mut_cols] == instorec_dep[mut_cols]).apply(lambda x: x.value_counts()).transpose()\n",
    "all(depot[mut_cols] == instore[mut_cols])\n",
    "# yes - no oddities around shelf life and tray size"
   ]
  },
  {
   "cell_type": "code",
   "execution_count": 23,
   "metadata": {},
   "outputs": [],
   "source": [
    "joined_data = instorec_dep.merge(fore.drop(columns=['calendar_id', 'shelf_life', 'units_per_tray'], axis=1),\n",
    "                    on=['upc', 'calendar_date', 'store_id', 'geography_id'])"
   ]
  },
  {
   "cell_type": "code",
   "execution_count": 24,
   "metadata": {},
   "outputs": [],
   "source": [
    "joined_data = joined_data.drop(['calendar_id'], axis=1)"
   ]
  },
  {
   "cell_type": "markdown",
   "metadata": {},
   "source": [
    "### Write out joined data"
   ]
  },
  {
   "cell_type": "code",
   "execution_count": 25,
   "metadata": {},
   "outputs": [],
   "source": [
    "assert joined_data.shape[0] < fore.shape[0]"
   ]
  },
  {
   "cell_type": "code",
   "execution_count": 27,
   "metadata": {},
   "outputs": [
    {
     "data": {
      "text/plain": [
       "(1750865, 62)"
      ]
     },
     "execution_count": 27,
     "metadata": {},
     "output_type": "execute_result"
    }
   ],
   "source": [
    "joined_data.shape"
   ]
  },
  {
   "cell_type": "code",
   "execution_count": 28,
   "metadata": {},
   "outputs": [],
   "source": [
    "joined_data.to_csv('../data/cleaned_prep.csv', index=False)"
   ]
  },
  {
   "cell_type": "markdown",
   "metadata": {},
   "source": [
    "**Note:** there may be some more to clean up..."
   ]
  },
  {
   "cell_type": "code",
   "execution_count": 30,
   "metadata": {},
   "outputs": [
    {
     "data": {
      "text/plain": [
       "False    1750865\n",
       "Name: forecast_demand_on_day, dtype: int64"
      ]
     },
     "execution_count": 30,
     "metadata": {},
     "output_type": "execute_result"
    }
   ],
   "source": [
    "joined_data['forecast_demand_on_day'].isna().value_counts()"
   ]
  }
 ],
 "metadata": {
  "kernelspec": {
   "display_name": "Python 3",
   "language": "python",
   "name": "python3"
  },
  "language_info": {
   "codemirror_mode": {
    "name": "ipython",
    "version": 3
   },
   "file_extension": ".py",
   "mimetype": "text/x-python",
   "name": "python",
   "nbconvert_exporter": "python",
   "pygments_lexer": "ipython3",
   "version": "3.7.6"
  }
 },
 "nbformat": 4,
 "nbformat_minor": 4
}

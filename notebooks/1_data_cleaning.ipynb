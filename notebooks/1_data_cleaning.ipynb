{
 "cells": [
  {
   "cell_type": "markdown",
   "metadata": {},
   "source": [
    "### Data Cleaning"
   ]
  },
  {
   "cell_type": "markdown",
   "metadata": {},
   "source": [
    "### Steps: \n",
    "1. depot_delivered_qty_on_day remove where negative\n",
    "2. closing_inventory_on_day remove where negative\n",
    "3. waste_value_on_day remove where negative\n",
    "4. Remove rows where (instore['stock_out_ind_on_day'] + instore['ranging_indicator_on_day']) != 1"
   ]
  },
  {
   "cell_type": "code",
   "execution_count": 1,
   "metadata": {},
   "outputs": [],
   "source": [
    "import pandas as pd"
   ]
  },
  {
   "cell_type": "code",
   "execution_count": 2,
   "metadata": {},
   "outputs": [],
   "source": [
    "fore = pd.read_csv('../data/Case Study - Forecast Data.txt', sep='\\t', encoding='utf-16',\n",
    "                  parse_dates=['calendar_date'])"
   ]
  },
  {
   "cell_type": "code",
   "execution_count": 3,
   "metadata": {},
   "outputs": [],
   "source": [
    "depot = pd.read_csv('../data/Case Study - Depot Data.txt', sep='\\t', encoding='utf-16',\n",
    "                   parse_dates=['calendar_date'])"
   ]
  },
  {
   "cell_type": "code",
   "execution_count": 4,
   "metadata": {},
   "outputs": [],
   "source": [
    "instore = pd.read_csv('../data/Case Study - In Store Data.txt', sep='\\t', encoding='utf-16',\n",
    "                     parse_dates=['calendar_date'])"
   ]
  },
  {
   "cell_type": "code",
   "execution_count": 5,
   "metadata": {},
   "outputs": [],
   "source": [
    "cinv = pd.read_csv('../data/Case Study - Closing Inventory.txt', sep='\\t', encoding='utf-16',\n",
    "                   parse_dates=['calendar_date'])"
   ]
  },
  {
   "cell_type": "markdown",
   "metadata": {},
   "source": [
    "#### 1. depot_delivered_qty_on_day remove where negative"
   ]
  },
  {
   "cell_type": "code",
   "execution_count": 6,
   "metadata": {},
   "outputs": [],
   "source": [
    "depot_c = depot[~(depot['depot_delivered_qty_on_day'] < 0)]"
   ]
  },
  {
   "cell_type": "markdown",
   "metadata": {},
   "source": [
    "#### 2. closing_inventory_on_day remove where negative\n"
   ]
  },
  {
   "cell_type": "code",
   "execution_count": 8,
   "metadata": {},
   "outputs": [],
   "source": [
    "instore_c = instore[~(instore['closing_inventory_on_day'] < 0)]"
   ]
  },
  {
   "cell_type": "markdown",
   "metadata": {},
   "source": [
    "#### 3. waste_value_on_day remove where negative"
   ]
  },
  {
   "cell_type": "code",
   "execution_count": 9,
   "metadata": {},
   "outputs": [],
   "source": [
    "instore_c = instore_c[~(instore_c['waste_value_on_day'] < 0)]"
   ]
  },
  {
   "cell_type": "markdown",
   "metadata": {},
   "source": [
    "#### 4. Remove rows where (instore['stock_out_ind_on_day'] + instore['ranging_indicator_on_day']) != 1"
   ]
  },
  {
   "cell_type": "code",
   "execution_count": 19,
   "metadata": {},
   "outputs": [
    {
     "data": {
      "text/plain": [
       "False    1792461\n",
       "True      856078\n",
       "dtype: int64"
      ]
     },
     "execution_count": 19,
     "metadata": {},
     "output_type": "execute_result"
    }
   ],
   "source": [
    "(instore['stock_out_ind_on_day'] + instore['ranging_indicator_on_day']).isna().value_counts()"
   ]
  },
  {
   "cell_type": "code",
   "execution_count": 20,
   "metadata": {},
   "outputs": [],
   "source": [
    "# Use instore_c\n",
    "instore_c = instore_c[(instore_c['stock_out_ind_on_day'] + instore_c['ranging_indicator_on_day'] == 1)]"
   ]
  },
  {
   "cell_type": "markdown",
   "metadata": {},
   "source": [
    "#### 5. **Added:** Remove rows with too much missing data: stock_out_ind_on_day, ranging_indicator_on_day, closing_inventory_on_day"
   ]
  },
  {
   "cell_type": "markdown",
   "metadata": {},
   "source": [
    "## Join data"
   ]
  },
  {
   "cell_type": "markdown",
   "metadata": {},
   "source": [
    "**Note:** No need to use `Closing Inventory`"
   ]
  },
  {
   "cell_type": "markdown",
   "metadata": {},
   "source": [
    "**Check mutual columns before joining to ensure clean joins**"
   ]
  },
  {
   "cell_type": "code",
   "execution_count": 23,
   "metadata": {},
   "outputs": [
    {
     "data": {
      "text/html": [
       "<div>\n",
       "<style scoped>\n",
       "    .dataframe tbody tr th:only-of-type {\n",
       "        vertical-align: middle;\n",
       "    }\n",
       "\n",
       "    .dataframe tbody tr th {\n",
       "        vertical-align: top;\n",
       "    }\n",
       "\n",
       "    .dataframe thead th {\n",
       "        text-align: right;\n",
       "    }\n",
       "</style>\n",
       "<table border=\"1\" class=\"dataframe\">\n",
       "  <thead>\n",
       "    <tr style=\"text-align: right;\">\n",
       "      <th></th>\n",
       "      <th>True</th>\n",
       "    </tr>\n",
       "  </thead>\n",
       "  <tbody>\n",
       "    <tr>\n",
       "      <th>upc</th>\n",
       "      <td>2648539</td>\n",
       "    </tr>\n",
       "    <tr>\n",
       "      <th>calendar_date</th>\n",
       "      <td>2648539</td>\n",
       "    </tr>\n",
       "    <tr>\n",
       "      <th>calendar_id</th>\n",
       "      <td>2648539</td>\n",
       "    </tr>\n",
       "    <tr>\n",
       "      <th>store_id</th>\n",
       "      <td>2648539</td>\n",
       "    </tr>\n",
       "    <tr>\n",
       "      <th>geography_id</th>\n",
       "      <td>2648539</td>\n",
       "    </tr>\n",
       "    <tr>\n",
       "      <th>shelf_life</th>\n",
       "      <td>2648539</td>\n",
       "    </tr>\n",
       "    <tr>\n",
       "      <th>units_per_tray</th>\n",
       "      <td>2648539</td>\n",
       "    </tr>\n",
       "  </tbody>\n",
       "</table>\n",
       "</div>"
      ],
      "text/plain": [
       "                   True\n",
       "upc             2648539\n",
       "calendar_date   2648539\n",
       "calendar_id     2648539\n",
       "store_id        2648539\n",
       "geography_id    2648539\n",
       "shelf_life      2648539\n",
       "units_per_tray  2648539"
      ]
     },
     "execution_count": 23,
     "metadata": {},
     "output_type": "execute_result"
    }
   ],
   "source": [
    "# Are the consistent columns the same in depot and instore\n",
    "mut_cols = list(depot.columns[depot.columns.isin(instore_c.columns)])\n",
    "(depot[mut_cols] == instore[mut_cols]).apply(lambda x: x.value_counts()).transpose()\n",
    "# or all(depot[mut_cols] == instore[mut_cols])\n",
    "# yes"
   ]
  },
  {
   "cell_type": "code",
   "execution_count": null,
   "metadata": {},
   "outputs": [],
   "source": []
  }
 ],
 "metadata": {
  "kernelspec": {
   "display_name": "Python 3",
   "language": "python",
   "name": "python3"
  },
  "language_info": {
   "codemirror_mode": {
    "name": "ipython",
    "version": 3
   },
   "file_extension": ".py",
   "mimetype": "text/x-python",
   "name": "python",
   "nbconvert_exporter": "python",
   "pygments_lexer": "ipython3",
   "version": "3.7.6"
  }
 },
 "nbformat": 4,
 "nbformat_minor": 4
}

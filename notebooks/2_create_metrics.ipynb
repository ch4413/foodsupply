{
 "cells": [
  {
   "cell_type": "markdown",
   "metadata": {},
   "source": [
    "### Create Metrics"
   ]
  },
  {
   "cell_type": "markdown",
   "metadata": {},
   "source": [
    "Apply logic from doc in `docs`"
   ]
  },
  {
   "cell_type": "code",
   "execution_count": 1,
   "metadata": {},
   "outputs": [],
   "source": [
    "import pandas as pd"
   ]
  },
  {
   "cell_type": "code",
   "execution_count": 2,
   "metadata": {},
   "outputs": [],
   "source": [
    "joined_data = pd.read_csv('../data/cleaned_prep.csv')"
   ]
  },
  {
   "cell_type": "markdown",
   "metadata": {},
   "source": [
    "#### Product Range"
   ]
  },
  {
   "cell_type": "code",
   "execution_count": 3,
   "metadata": {},
   "outputs": [],
   "source": [
    "# Waste qty > 0 on days when ranging indicator is 0\n",
    "joined_data['product_waste'] = (joined_data['waste_value_on_day'] > 0) & (joined_data['ranging_indicator_on_day'] == 0)\n"
   ]
  },
  {
   "cell_type": "code",
   "execution_count": 4,
   "metadata": {},
   "outputs": [],
   "source": [
    "# Stockout indicator 1 on a day when ranging indicator is 0\n",
    "joined_data['product_stockout'] = (joined_data['stock_out_ind_on_day'] == 1) & (joined_data['ranging_indicator_on_day'] == 0)"
   ]
  },
  {
   "cell_type": "code",
   "execution_count": 5,
   "metadata": {},
   "outputs": [
    {
     "data": {
      "text/plain": [
       "False    1750865\n",
       "Name: product_stockout, dtype: int64"
      ]
     },
     "execution_count": 5,
     "metadata": {},
     "output_type": "execute_result"
    }
   ],
   "source": [
    "joined_data['product_stockout'].value_counts()"
   ]
  },
  {
   "cell_type": "markdown",
   "metadata": {},
   "source": [
    "#### Depot Inaccurate"
   ]
  },
  {
   "cell_type": "code",
   "execution_count": 6,
   "metadata": {},
   "outputs": [],
   "source": [
    "# Received_units (store) > Allocation (store) Shelf life before and including waste event\n",
    "joined_data['depot_waste'] = (joined_data['delivered_qty_over_shelf_life'] > joined_data['allocated_qty_over_shelf_life'])\n"
   ]
  },
  {
   "cell_type": "code",
   "execution_count": 7,
   "metadata": {},
   "outputs": [],
   "source": [
    "# # Received_units (store) < Allocation (store) Allocation to store lead time before and including stockout\n",
    "# joined_data['depot_stockout'] = (joined_data['delivered_qty_over_shelf_life'] < joined_data['allocated_required_diff_high_qty_over_lead_time'])"
   ]
  },
  {
   "cell_type": "code",
   "execution_count": 8,
   "metadata": {},
   "outputs": [],
   "source": [
    "#(joined_data['depot_waste'] & joined_data['depot_stockout']).value_counts()"
   ]
  },
  {
   "cell_type": "markdown",
   "metadata": {},
   "source": [
    "#### Sales Forecast Error"
   ]
  },
  {
   "cell_type": "code",
   "execution_count": 9,
   "metadata": {},
   "outputs": [],
   "source": [
    "### Sales - Note: missing lost sales\n",
    "## Add in thresholds\n",
    "# Sales Forecast Error\n",
    "joined_data['forecast_waste'] = (\n",
    "    (joined_data['forecast_demand_qty_over_shelf_life'] - joined_data['sales_qty_over_shelf_life']) > \n",
    "    0.25*joined_data['forecast_demand_qty_over_shelf_life']\n",
    "    ) & (\n",
    "    (joined_data['forecast_demand_qty_over_shelf_life'] - joined_data['sales_qty_over_shelf_life']).abs() > 1\n",
    ")\n",
    "\n",
    "\n",
    "# Forecast Stockout\n",
    "joined_data['forecast_stockout'] = (\n",
    "    (joined_data['forecast_demand_qty_over_lead_time'] - joined_data['sales_qty_over_lead_time']) < \n",
    "    -1*0.25*joined_data['forecast_demand_qty_over_lead_time'] )& (\n",
    "    (joined_data['forecast_demand_qty_over_lead_time']- joined_data['sales_qty_over_lead_time']).abs() > 1\n",
    ")"
   ]
  },
  {
   "cell_type": "code",
   "execution_count": 10,
   "metadata": {},
   "outputs": [
    {
     "data": {
      "text/plain": [
       "False    1735744\n",
       "True       15121\n",
       "dtype: int64"
      ]
     },
     "execution_count": 10,
     "metadata": {},
     "output_type": "execute_result"
    }
   ],
   "source": [
    "(joined_data['forecast_stockout'] & joined_data['forecast_waste']).value_counts()"
   ]
  },
  {
   "cell_type": "markdown",
   "metadata": {},
   "source": [
    "#### Waste Prediction Error"
   ]
  },
  {
   "cell_type": "code",
   "execution_count": 11,
   "metadata": {},
   "outputs": [],
   "source": [
    "### Waste  - add in threshold\n",
    "joined_data['waste_prediction_waste'] = (\n",
    "    (joined_data['forecast_waste_qty_over_shelf_life'] - joined_data['waste_value_on_day']) > \n",
    "    0.25*joined_data['forecast_waste_qty_over_shelf_life']\n",
    ")"
   ]
  },
  {
   "cell_type": "code",
   "execution_count": 12,
   "metadata": {},
   "outputs": [],
   "source": [
    "### Stockout - add in threshold\n",
    "joined_data['waste_prediction_stockout'] = (\n",
    "    joined_data['forecast_waste_qty_over_lead_time'] - (joined_data['waste_value_on_day']) <\n",
    "    -1*0.25*joined_data['forecast_waste_qty_over_lead_time']\n",
    ")"
   ]
  },
  {
   "cell_type": "code",
   "execution_count": 13,
   "metadata": {},
   "outputs": [
    {
     "data": {
      "text/plain": [
       "False    1726633\n",
       "True       24232\n",
       "dtype: int64"
      ]
     },
     "execution_count": 13,
     "metadata": {},
     "output_type": "execute_result"
    }
   ],
   "source": [
    "(joined_data['waste_prediction_waste'] & joined_data['waste_prediction_stockout']).value_counts()"
   ]
  },
  {
   "cell_type": "markdown",
   "metadata": {},
   "source": [
    "#### Stockfile Adjustment"
   ]
  },
  {
   "cell_type": "code",
   "execution_count": 14,
   "metadata": {},
   "outputs": [],
   "source": [
    "### Stock\n",
    "# Stock file adjustment\n",
    "joined_data['stock_waste'] = (joined_data['stockfile_adjust_qty_on_day'] > 0) & (joined_data['stockfile_adjust_qty_at_plus_1_day'] > 0)\n",
    "\n",
    "# Stock had less stock than reported\n",
    "joined_data['stock_stockout'] = (joined_data['stockfile_adjust_qty_on_day'] < 0) & (\n",
    "joined_data['stockfile_adjust_qty_at_minus_1_day'] < 0)"
   ]
  },
  {
   "cell_type": "code",
   "execution_count": 15,
   "metadata": {},
   "outputs": [],
   "source": [
    "assert any(joined_data['stock_waste'] & joined_data['stock_stockout']) == False"
   ]
  },
  {
   "cell_type": "markdown",
   "metadata": {},
   "source": [
    "#### Negative Stockfile"
   ]
  },
  {
   "cell_type": "code",
   "execution_count": 16,
   "metadata": {},
   "outputs": [],
   "source": [
    "### Negative stockfile\n",
    "    \n",
    "joined_data['negative_stockfile'] = (joined_data['closing_inventory_on_day'] < 0) # missing day before data "
   ]
  },
  {
   "cell_type": "markdown",
   "metadata": {},
   "source": [
    "### Review Metrics"
   ]
  },
  {
   "cell_type": "code",
   "execution_count": 17,
   "metadata": {},
   "outputs": [],
   "source": [
    "metrics = ['product_waste', 'product_stockout', 'depot_waste', \n",
    "           'forecast_waste', 'forecast_stockout', 'waste_prediction_waste',\n",
    "          'waste_prediction_stockout', 'stock_waste', 'stock_stockout', 'negative_stockfile']"
   ]
  },
  {
   "cell_type": "code",
   "execution_count": 18,
   "metadata": {},
   "outputs": [
    {
     "data": {
      "text/html": [
       "<div>\n",
       "<style scoped>\n",
       "    .dataframe tbody tr th:only-of-type {\n",
       "        vertical-align: middle;\n",
       "    }\n",
       "\n",
       "    .dataframe tbody tr th {\n",
       "        vertical-align: top;\n",
       "    }\n",
       "\n",
       "    .dataframe thead th {\n",
       "        text-align: right;\n",
       "    }\n",
       "</style>\n",
       "<table border=\"1\" class=\"dataframe\">\n",
       "  <thead>\n",
       "    <tr style=\"text-align: right;\">\n",
       "      <th></th>\n",
       "      <th>False</th>\n",
       "      <th>True</th>\n",
       "    </tr>\n",
       "  </thead>\n",
       "  <tbody>\n",
       "    <tr>\n",
       "      <th>waste_prediction_waste</th>\n",
       "      <td>659930.0</td>\n",
       "      <td>1090935.0</td>\n",
       "    </tr>\n",
       "    <tr>\n",
       "      <th>forecast_stockout</th>\n",
       "      <td>1316231.0</td>\n",
       "      <td>434634.0</td>\n",
       "    </tr>\n",
       "    <tr>\n",
       "      <th>forecast_waste</th>\n",
       "      <td>1415386.0</td>\n",
       "      <td>335479.0</td>\n",
       "    </tr>\n",
       "    <tr>\n",
       "      <th>waste_prediction_stockout</th>\n",
       "      <td>1474967.0</td>\n",
       "      <td>275898.0</td>\n",
       "    </tr>\n",
       "    <tr>\n",
       "      <th>depot_waste</th>\n",
       "      <td>1706111.0</td>\n",
       "      <td>44754.0</td>\n",
       "    </tr>\n",
       "    <tr>\n",
       "      <th>stock_stockout</th>\n",
       "      <td>1750342.0</td>\n",
       "      <td>523.0</td>\n",
       "    </tr>\n",
       "    <tr>\n",
       "      <th>product_waste</th>\n",
       "      <td>1750583.0</td>\n",
       "      <td>282.0</td>\n",
       "    </tr>\n",
       "    <tr>\n",
       "      <th>stock_waste</th>\n",
       "      <td>1750635.0</td>\n",
       "      <td>230.0</td>\n",
       "    </tr>\n",
       "    <tr>\n",
       "      <th>product_stockout</th>\n",
       "      <td>1750865.0</td>\n",
       "      <td>NaN</td>\n",
       "    </tr>\n",
       "    <tr>\n",
       "      <th>negative_stockfile</th>\n",
       "      <td>1750865.0</td>\n",
       "      <td>NaN</td>\n",
       "    </tr>\n",
       "  </tbody>\n",
       "</table>\n",
       "</div>"
      ],
      "text/plain": [
       "                               False      True \n",
       "waste_prediction_waste      659930.0  1090935.0\n",
       "forecast_stockout          1316231.0   434634.0\n",
       "forecast_waste             1415386.0   335479.0\n",
       "waste_prediction_stockout  1474967.0   275898.0\n",
       "depot_waste                1706111.0    44754.0\n",
       "stock_stockout             1750342.0      523.0\n",
       "product_waste              1750583.0      282.0\n",
       "stock_waste                1750635.0      230.0\n",
       "product_stockout           1750865.0        NaN\n",
       "negative_stockfile         1750865.0        NaN"
      ]
     },
     "execution_count": 18,
     "metadata": {},
     "output_type": "execute_result"
    }
   ],
   "source": [
    "(joined_data[metrics].apply(lambda x: x.value_counts())\n",
    "                     .transpose()\n",
    "                     .sort_values(True, ascending=False))"
   ]
  },
  {
   "cell_type": "code",
   "execution_count": 19,
   "metadata": {},
   "outputs": [],
   "source": [
    "waste_slice = joined_data[joined_data['waste_prediction_waste']]"
   ]
  },
  {
   "cell_type": "code",
   "execution_count": 20,
   "metadata": {},
   "outputs": [
    {
     "data": {
      "text/plain": [
       "1          0.06\n",
       "2          0.01\n",
       "3          0.45\n",
       "4          2.37\n",
       "7          0.07\n",
       "           ... \n",
       "1750860    0.59\n",
       "1750861    1.67\n",
       "1750862    0.30\n",
       "1750863    2.52\n",
       "1750864    0.96\n",
       "Name: forecast_waste_qty_over_lead_time, Length: 1090935, dtype: float64"
      ]
     },
     "execution_count": 20,
     "metadata": {},
     "output_type": "execute_result"
    }
   ],
   "source": [
    "waste_slice['forecast_waste_qty_over_lead_time']"
   ]
  },
  {
   "cell_type": "code",
   "execution_count": 21,
   "metadata": {},
   "outputs": [
    {
     "data": {
      "text/plain": [
       "0.00      1042766\n",
       "1.00         3606\n",
       "4.00         3187\n",
       "3.00         3012\n",
       "2.00         2839\n",
       "           ...   \n",
       "23.80           1\n",
       "176.00          1\n",
       "96.00           1\n",
       "6.83            1\n",
       "0.26            1\n",
       "Name: waste_value_on_day, Length: 895, dtype: int64"
      ]
     },
     "execution_count": 21,
     "metadata": {},
     "output_type": "execute_result"
    }
   ],
   "source": [
    "waste_slice['waste_value_on_day'].value_counts()"
   ]
  },
  {
   "cell_type": "markdown",
   "metadata": {},
   "source": [
    "### Save out data"
   ]
  },
  {
   "cell_type": "code",
   "execution_count": 22,
   "metadata": {},
   "outputs": [],
   "source": [
    "joined_data.to_csv('../data/supply_metrics.csv', index=False)"
   ]
  }
 ],
 "metadata": {
  "kernelspec": {
   "display_name": "Python 3",
   "language": "python",
   "name": "python3"
  },
  "language_info": {
   "codemirror_mode": {
    "name": "ipython",
    "version": 3
   },
   "file_extension": ".py",
   "mimetype": "text/x-python",
   "name": "python",
   "nbconvert_exporter": "python",
   "pygments_lexer": "ipython3",
   "version": "3.7.6"
  }
 },
 "nbformat": 4,
 "nbformat_minor": 4
}

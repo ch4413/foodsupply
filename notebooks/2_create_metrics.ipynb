{
 "cells": [
  {
   "cell_type": "markdown",
   "metadata": {},
   "source": [
    "### Create Metrics"
   ]
  },
  {
   "cell_type": "markdown",
   "metadata": {},
   "source": [
    "Apply logic from doc in `docs`"
   ]
  },
  {
   "cell_type": "code",
   "execution_count": 1,
   "metadata": {},
   "outputs": [],
   "source": [
    "import pandas as pd"
   ]
  },
  {
   "cell_type": "code",
   "execution_count": 80,
   "metadata": {},
   "outputs": [],
   "source": [
    "joined_data = pd.read_csv('../data/cleaned_prep.csv')"
   ]
  },
  {
   "cell_type": "markdown",
   "metadata": {},
   "source": [
    "#### Product Range"
   ]
  },
  {
   "cell_type": "code",
   "execution_count": 81,
   "metadata": {},
   "outputs": [],
   "source": [
    "# Waste qty > 0 on days when ranging indicator is 0\n",
    "joined_data['product_waste'] = (joined_data['waste_value_on_day'] > 0) & (joined_data['ranging_indicator_on_day'] == 0)"
   ]
  },
  {
   "cell_type": "code",
   "execution_count": 82,
   "metadata": {},
   "outputs": [],
   "source": [
    "# Stockout indicator 1 on a day when ranging indicator is 0\n",
    "joined_data['product_stockout'] = (joined_data['stock_out_ind_on_day'] == 1) & (joined_data['ranging_indicator_on_day'] == 0)"
   ]
  },
  {
   "cell_type": "markdown",
   "metadata": {},
   "source": [
    "#### Depot Inaccurate"
   ]
  },
  {
   "cell_type": "code",
   "execution_count": 83,
   "metadata": {},
   "outputs": [],
   "source": [
    "# Received_units (store) > Allocation (store) Shelf life before and including waste event\n",
    "joined_data['depot_waste'] = (joined_data['delivered_qty_over_shelf_life'] > joined_data['allocated_qty_over_shelf_life'])"
   ]
  },
  {
   "cell_type": "code",
   "execution_count": 84,
   "metadata": {},
   "outputs": [],
   "source": [
    "# Received_units (store) < Allocation (store) Allocation to store lead time before and including stockout\n",
    "joined_data['depot_stockout'] = (joined_data['delivered_qty_over_shelf_life'] < joined_data['allocated_required_diff_high_qty_over_lead_time'])"
   ]
  },
  {
   "cell_type": "code",
   "execution_count": 85,
   "metadata": {},
   "outputs": [
    {
     "data": {
      "text/plain": [
       "False    1749092\n",
       "True        1773\n",
       "dtype: int64"
      ]
     },
     "execution_count": 85,
     "metadata": {},
     "output_type": "execute_result"
    }
   ],
   "source": [
    "(joined_data['depot_waste'] & joined_data['depot_stockout']).value_counts()"
   ]
  },
  {
   "cell_type": "markdown",
   "metadata": {},
   "source": [
    "#### Sales Forecast Error"
   ]
  },
  {
   "cell_type": "code",
   "execution_count": 86,
   "metadata": {},
   "outputs": [],
   "source": [
    "### Sales - Note: missing lost sales\n",
    "## Add in thresholds\n",
    "# Sales Forecast Error\n",
    "joined_data['forecast_waste'] = (\n",
    "    0.75*joined_data['forecast_demand_qty_over_shelf_life'] > joined_data['sales_qty_over_shelf_life']\n",
    "    ) & (\n",
    "    (joined_data['forecast_demand_qty_over_shelf_life'] - joined_data['sales_qty_over_shelf_life']).abs() > 1\n",
    ")\n",
    "\n",
    "\n",
    "# Forecast Stockout\n",
    "joined_data['forecast_stockout'] = (\n",
    "    1.25*joined_data['forecast_demand_qty_over_lead_time'] < joined_data['sales_qty_over_lead_time'])  & (\n",
    "    (joined_data['forecast_demand_qty_over_lead_time']- joined_data['sales_qty_over_lead_time']).abs() > 1\n",
    ")"
   ]
  },
  {
   "cell_type": "code",
   "execution_count": 87,
   "metadata": {},
   "outputs": [
    {
     "data": {
      "text/plain": [
       "False    1735767\n",
       "True       15098\n",
       "dtype: int64"
      ]
     },
     "execution_count": 87,
     "metadata": {},
     "output_type": "execute_result"
    }
   ],
   "source": [
    "(joined_data['forecast_stockout'] & joined_data['forecast_waste']).value_counts()"
   ]
  },
  {
   "cell_type": "markdown",
   "metadata": {},
   "source": [
    "#### Waste Prediction Error"
   ]
  },
  {
   "cell_type": "code",
   "execution_count": 88,
   "metadata": {},
   "outputs": [],
   "source": [
    "### Waste  - add in threshold\n",
    "joined_data['waste_prediction_waste'] = (\n",
    "    0.75*joined_data['forecast_waste_qty_over_shelf_life'] > joined_data['waste_value_on_day']\n",
    ")"
   ]
  },
  {
   "cell_type": "code",
   "execution_count": 89,
   "metadata": {},
   "outputs": [],
   "source": [
    "### Stockout - add in threshold\n",
    "joined_data['waste_prediction_stockout'] = (\n",
    "    1.25*joined_data['forecast_waste_qty_over_lead_time'] < (joined_data['waste_value_on_day']) \n",
    ")"
   ]
  },
  {
   "cell_type": "code",
   "execution_count": 90,
   "metadata": {},
   "outputs": [
    {
     "data": {
      "text/plain": [
       "False    1726660\n",
       "True       24205\n",
       "dtype: int64"
      ]
     },
     "execution_count": 90,
     "metadata": {},
     "output_type": "execute_result"
    }
   ],
   "source": [
    "(joined_data['waste_prediction_waste'] & joined_data['waste_prediction_stockout']).value_counts()"
   ]
  },
  {
   "cell_type": "markdown",
   "metadata": {},
   "source": [
    "#### Stockfile Adjustment"
   ]
  },
  {
   "cell_type": "code",
   "execution_count": 91,
   "metadata": {},
   "outputs": [],
   "source": [
    "### Stock\n",
    "# Stock file adjustment\n",
    "joined_data['stock_waste'] = (joined_data['stockfile_adjust_qty_on_day'] > 0) & (joined_data['stockfile_adjust_qty_at_plus_1_day'] > 0)\n",
    "\n",
    "# Stock had less stock than reported\n",
    "joined_data['stock_stockout'] = (joined_data['stockfile_adjust_qty_on_day'] < 0) & (\n",
    "joined_data['stockfile_adjust_qty_at_minus_1_day'] < 0)"
   ]
  },
  {
   "cell_type": "code",
   "execution_count": 92,
   "metadata": {},
   "outputs": [],
   "source": [
    "assert any(joined_data['stock_waste'] & joined_data['stock_stockout']) == False"
   ]
  },
  {
   "cell_type": "markdown",
   "metadata": {},
   "source": [
    "#### Negative Stockfile"
   ]
  },
  {
   "cell_type": "code",
   "execution_count": 93,
   "metadata": {},
   "outputs": [],
   "source": [
    "### Negative stockfile\n",
    "    \n",
    "joined_data['negative_stockfile'] = (joined_data['closing_inventory_on_day'] < 0) # missing day before data "
   ]
  },
  {
   "cell_type": "markdown",
   "metadata": {},
   "source": [
    "### Review Metrics"
   ]
  },
  {
   "cell_type": "code",
   "execution_count": 94,
   "metadata": {},
   "outputs": [],
   "source": [
    "metrics = ['product_waste', 'product_stockout', 'depot_waste', 'depot_stockout', \n",
    "           'forecast_waste', 'forecast_stockout', 'waste_prediction_waste',\n",
    "          'waste_prediction_stockout', 'stock_waste', 'stock_stockout', 'negative_stockfile']"
   ]
  },
  {
   "cell_type": "code",
   "execution_count": 95,
   "metadata": {},
   "outputs": [
    {
     "data": {
      "text/html": [
       "<div>\n",
       "<style scoped>\n",
       "    .dataframe tbody tr th:only-of-type {\n",
       "        vertical-align: middle;\n",
       "    }\n",
       "\n",
       "    .dataframe tbody tr th {\n",
       "        vertical-align: top;\n",
       "    }\n",
       "\n",
       "    .dataframe thead th {\n",
       "        text-align: right;\n",
       "    }\n",
       "</style>\n",
       "<table border=\"1\" class=\"dataframe\">\n",
       "  <thead>\n",
       "    <tr style=\"text-align: right;\">\n",
       "      <th></th>\n",
       "      <th>False</th>\n",
       "      <th>True</th>\n",
       "    </tr>\n",
       "  </thead>\n",
       "  <tbody>\n",
       "    <tr>\n",
       "      <th>waste_prediction_waste</th>\n",
       "      <td>659932.0</td>\n",
       "      <td>1090933.0</td>\n",
       "    </tr>\n",
       "    <tr>\n",
       "      <th>forecast_stockout</th>\n",
       "      <td>1316657.0</td>\n",
       "      <td>434208.0</td>\n",
       "    </tr>\n",
       "    <tr>\n",
       "      <th>forecast_waste</th>\n",
       "      <td>1415386.0</td>\n",
       "      <td>335479.0</td>\n",
       "    </tr>\n",
       "    <tr>\n",
       "      <th>waste_prediction_stockout</th>\n",
       "      <td>1475008.0</td>\n",
       "      <td>275857.0</td>\n",
       "    </tr>\n",
       "    <tr>\n",
       "      <th>depot_stockout</th>\n",
       "      <td>1648337.0</td>\n",
       "      <td>102528.0</td>\n",
       "    </tr>\n",
       "    <tr>\n",
       "      <th>depot_waste</th>\n",
       "      <td>1706111.0</td>\n",
       "      <td>44754.0</td>\n",
       "    </tr>\n",
       "    <tr>\n",
       "      <th>stock_stockout</th>\n",
       "      <td>1750342.0</td>\n",
       "      <td>523.0</td>\n",
       "    </tr>\n",
       "    <tr>\n",
       "      <th>product_waste</th>\n",
       "      <td>1750583.0</td>\n",
       "      <td>282.0</td>\n",
       "    </tr>\n",
       "    <tr>\n",
       "      <th>stock_waste</th>\n",
       "      <td>1750635.0</td>\n",
       "      <td>230.0</td>\n",
       "    </tr>\n",
       "    <tr>\n",
       "      <th>product_stockout</th>\n",
       "      <td>1750865.0</td>\n",
       "      <td>NaN</td>\n",
       "    </tr>\n",
       "    <tr>\n",
       "      <th>negative_stockfile</th>\n",
       "      <td>1750865.0</td>\n",
       "      <td>NaN</td>\n",
       "    </tr>\n",
       "  </tbody>\n",
       "</table>\n",
       "</div>"
      ],
      "text/plain": [
       "                               False      True \n",
       "waste_prediction_waste      659932.0  1090933.0\n",
       "forecast_stockout          1316657.0   434208.0\n",
       "forecast_waste             1415386.0   335479.0\n",
       "waste_prediction_stockout  1475008.0   275857.0\n",
       "depot_stockout             1648337.0   102528.0\n",
       "depot_waste                1706111.0    44754.0\n",
       "stock_stockout             1750342.0      523.0\n",
       "product_waste              1750583.0      282.0\n",
       "stock_waste                1750635.0      230.0\n",
       "product_stockout           1750865.0        NaN\n",
       "negative_stockfile         1750865.0        NaN"
      ]
     },
     "execution_count": 95,
     "metadata": {},
     "output_type": "execute_result"
    }
   ],
   "source": [
    "(joined_data[metrics].apply(lambda x: x.value_counts())\n",
    "                     .transpose()\n",
    "                     .sort_values(True, ascending=False))"
   ]
  },
  {
   "cell_type": "code",
   "execution_count": 98,
   "metadata": {},
   "outputs": [],
   "source": [
    "waste_slice = joined_data[joined_data['waste_prediction_waste']]"
   ]
  },
  {
   "cell_type": "code",
   "execution_count": 99,
   "metadata": {},
   "outputs": [
    {
     "data": {
      "text/plain": [
       "1          0.06\n",
       "2          0.01\n",
       "3          0.45\n",
       "4          2.37\n",
       "7          0.07\n",
       "           ... \n",
       "1750860    0.59\n",
       "1750861    1.67\n",
       "1750862    0.30\n",
       "1750863    2.52\n",
       "1750864    0.96\n",
       "Name: forecast_waste_qty_over_lead_time, Length: 1090933, dtype: float64"
      ]
     },
     "execution_count": 99,
     "metadata": {},
     "output_type": "execute_result"
    }
   ],
   "source": [
    "waste_slice['forecast_waste_qty_over_lead_time']"
   ]
  },
  {
   "cell_type": "code",
   "execution_count": 101,
   "metadata": {},
   "outputs": [
    {
     "data": {
      "text/plain": [
       "0.00      1042766\n",
       "1.00         3606\n",
       "4.00         3187\n",
       "3.00         3012\n",
       "2.00         2839\n",
       "           ...   \n",
       "23.80           1\n",
       "176.00          1\n",
       "96.00           1\n",
       "6.83            1\n",
       "0.26            1\n",
       "Name: waste_value_on_day, Length: 895, dtype: int64"
      ]
     },
     "execution_count": 101,
     "metadata": {},
     "output_type": "execute_result"
    }
   ],
   "source": [
    "waste_slice['waste_value_on_day'].value_counts()"
   ]
  }
 ],
 "metadata": {
  "kernelspec": {
   "display_name": "Python 3",
   "language": "python",
   "name": "python3"
  },
  "language_info": {
   "codemirror_mode": {
    "name": "ipython",
    "version": 3
   },
   "file_extension": ".py",
   "mimetype": "text/x-python",
   "name": "python",
   "nbconvert_exporter": "python",
   "pygments_lexer": "ipython3",
   "version": "3.7.6"
  }
 },
 "nbformat": 4,
 "nbformat_minor": 4
}

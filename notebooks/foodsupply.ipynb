{
 "cells": [
  {
   "cell_type": "markdown",
   "metadata": {},
   "source": [
    "### Simple Solution"
   ]
  },
  {
   "cell_type": "code",
   "execution_count": 1,
   "metadata": {},
   "outputs": [],
   "source": [
    "import pandas as pd"
   ]
  },
  {
   "cell_type": "markdown",
   "metadata": {},
   "source": [
    "#### 1. Forecast: We start with a forecast\n",
    "For each store and item:\n",
    "\n",
    "Calculation:\n",
    "* Forecast - stockfile  = amount_to_purchase\n",
    "\n",
    "Problem:\n",
    "* The stockfile is unreliable. **Note:** Look at where stockfile is recorded.\n",
    "* Suppliers under and over-deliver\n",
    "\n",
    "Limitation:\n",
    "* amount_to_purchase can only be in tray sizes.\n",
    "* Must order enough to cover delivery period as suppliers can't deliver every day. **Note:** Check the range of delivery periods.\n",
    "\n",
    "#### 2. Depot: Supplier delivers to the depots\n",
    "\n",
    "Problem:\n",
    "* There will be a difference between the shipped amount from a depot and the amount arriving at a store\n",
    "\n",
    "Limitation:\n",
    "* The allocation to a shop is limited by the supply to the depot.\n",
    "\n",
    "#### 3. In Store: Products arrive at the store\n",
    "\n",
    "Problem:\n",
    "* Delivered amount can differ from depot shipping amount - incorrectly picked\n",
    "\n",
    "#### 4. Closing Inventory:\n",
    "\n",
    "Closing inventory is also taken in store and all its fields are contained in the In Store data.\n",
    "\n",
    "**Note:** Check if they are the same. If same, discard, closing inventory. If not, give measure of difference and check with company why there are two and which is most reliable."
   ]
  },
  {
   "cell_type": "code",
   "execution_count": 2,
   "metadata": {},
   "outputs": [],
   "source": [
    "fore = pd.read_csv('Downloads/Case Study - Forecast Data.txt', sep='\\t', encoding='utf-16',\n",
    "                  parse_dates=['calendar_date'])"
   ]
  },
  {
   "cell_type": "code",
   "execution_count": 3,
   "metadata": {},
   "outputs": [],
   "source": [
    "depot = pd.read_csv('Downloads/Case Study - Depot Data.txt', sep='\\t', encoding='utf-16',\n",
    "                   parse_dates=['calendar_date'])"
   ]
  },
  {
   "cell_type": "code",
   "execution_count": 4,
   "metadata": {},
   "outputs": [],
   "source": [
    "instore = pd.read_csv('Downloads/Case Study - In Store Data.txt', sep='\\t', encoding='utf-16',\n",
    "                     parse_dates=['calendar_date'])"
   ]
  },
  {
   "cell_type": "code",
   "execution_count": 5,
   "metadata": {},
   "outputs": [],
   "source": [
    "cinv = pd.read_csv('Downloads/Case Study - Closing Inventory.txt', sep='\\t', encoding='utf-16',\n",
    "                   parse_dates=['calendar_date'])"
   ]
  },
  {
   "cell_type": "markdown",
   "metadata": {},
   "source": [
    "### Data checks"
   ]
  },
  {
   "cell_type": "markdown",
   "metadata": {},
   "source": [
    "Check keys: the key is made of `upc`, `calendar_date`, `store_id`, `geography_id`\n",
    "\n",
    "* Which products are in all files? Only include products which we have complete data set for\n",
    "* Do store IDs appear in mulitple geographys?\n",
    "* Is `calendar_date` consistent across all files. Only include date range where we have all data."
   ]
  },
  {
   "cell_type": "code",
   "execution_count": 6,
   "metadata": {},
   "outputs": [
    {
     "data": {
      "text/plain": [
       "True"
      ]
     },
     "execution_count": 6,
     "metadata": {},
     "output_type": "execute_result"
    }
   ],
   "source": [
    "fore.shape[0] == depot.shape[0] == cinv.shape[0] == instore.shape[0]"
   ]
  },
  {
   "cell_type": "markdown",
   "metadata": {},
   "source": [
    "Same number of rows in all slices"
   ]
  },
  {
   "cell_type": "markdown",
   "metadata": {},
   "source": [
    "#### Date range"
   ]
  },
  {
   "cell_type": "code",
   "execution_count": 7,
   "metadata": {},
   "outputs": [],
   "source": [
    "def return_daterange(df):\n",
    "    return df['calendar_date'].min(), df['calendar_date'].max()"
   ]
  },
  {
   "cell_type": "code",
   "execution_count": 8,
   "metadata": {},
   "outputs": [
    {
     "data": {
      "text/plain": [
       "(Timestamp('2018-01-08 00:00:00'), Timestamp('2018-12-07 00:00:00'))"
      ]
     },
     "execution_count": 8,
     "metadata": {},
     "output_type": "execute_result"
    }
   ],
   "source": [
    "return_daterange(fore)"
   ]
  },
  {
   "cell_type": "code",
   "execution_count": 9,
   "metadata": {},
   "outputs": [
    {
     "data": {
      "text/plain": [
       "(Timestamp('2018-01-08 00:00:00'), Timestamp('2018-12-07 00:00:00'))"
      ]
     },
     "execution_count": 9,
     "metadata": {},
     "output_type": "execute_result"
    }
   ],
   "source": [
    "return_daterange(instore)"
   ]
  },
  {
   "cell_type": "markdown",
   "metadata": {},
   "source": [
    "#### Stores in multiple geographies?"
   ]
  },
  {
   "cell_type": "code",
   "execution_count": 10,
   "metadata": {},
   "outputs": [
    {
     "data": {
      "text/plain": [
       "True    623\n",
       "Name: geography_id, dtype: int64"
      ]
     },
     "execution_count": 10,
     "metadata": {},
     "output_type": "execute_result"
    }
   ],
   "source": [
    "(fore.groupby('store_id')['geography_id'].nunique() == 1).value_counts()"
   ]
  },
  {
   "cell_type": "code",
   "execution_count": 11,
   "metadata": {},
   "outputs": [
    {
     "data": {
      "text/plain": [
       "True    623\n",
       "Name: geography_id, dtype: int64"
      ]
     },
     "execution_count": 11,
     "metadata": {},
     "output_type": "execute_result"
    }
   ],
   "source": [
    "(cinv.groupby('store_id')['geography_id'].nunique() == 1).value_counts()"
   ]
  },
  {
   "cell_type": "code",
   "execution_count": 12,
   "metadata": {},
   "outputs": [
    {
     "data": {
      "text/plain": [
       "True    623\n",
       "Name: geography_id, dtype: int64"
      ]
     },
     "execution_count": 12,
     "metadata": {},
     "output_type": "execute_result"
    }
   ],
   "source": [
    "(depot.groupby('store_id')['geography_id'].nunique() == 1).value_counts()"
   ]
  },
  {
   "cell_type": "code",
   "execution_count": 13,
   "metadata": {},
   "outputs": [
    {
     "data": {
      "text/plain": [
       "(143, 1)"
      ]
     },
     "execution_count": 13,
     "metadata": {},
     "output_type": "execute_result"
    }
   ],
   "source": [
    "pd.merge(pd.DataFrame(fore['upc'].drop_duplicates()), pd.DataFrame(depot['upc'].drop_duplicates()), how='outer').shape"
   ]
  },
  {
   "cell_type": "markdown",
   "metadata": {},
   "source": [
    "All files have:\n",
    "* dates between 08.01.2018 and 07.12.2018\n",
    "* Store IDs that only one appear in one geography\n",
    "* 143 products"
   ]
  },
  {
   "cell_type": "markdown",
   "metadata": {},
   "source": [
    "#### Is Closing Inv the same In Store?"
   ]
  },
  {
   "cell_type": "code",
   "execution_count": 14,
   "metadata": {},
   "outputs": [
    {
     "data": {
      "text/html": [
       "<div>\n",
       "<style scoped>\n",
       "    .dataframe tbody tr th:only-of-type {\n",
       "        vertical-align: middle;\n",
       "    }\n",
       "\n",
       "    .dataframe tbody tr th {\n",
       "        vertical-align: top;\n",
       "    }\n",
       "\n",
       "    .dataframe thead th {\n",
       "        text-align: right;\n",
       "    }\n",
       "</style>\n",
       "<table border=\"1\" class=\"dataframe\">\n",
       "  <thead>\n",
       "    <tr style=\"text-align: right;\">\n",
       "      <th></th>\n",
       "      <th>False</th>\n",
       "      <th>True</th>\n",
       "    </tr>\n",
       "  </thead>\n",
       "  <tbody>\n",
       "    <tr>\n",
       "      <th>upc</th>\n",
       "      <td>NaN</td>\n",
       "      <td>2648539.0</td>\n",
       "    </tr>\n",
       "    <tr>\n",
       "      <th>calendar_date</th>\n",
       "      <td>NaN</td>\n",
       "      <td>2648539.0</td>\n",
       "    </tr>\n",
       "    <tr>\n",
       "      <th>calendar_id</th>\n",
       "      <td>NaN</td>\n",
       "      <td>2648539.0</td>\n",
       "    </tr>\n",
       "    <tr>\n",
       "      <th>store_id</th>\n",
       "      <td>NaN</td>\n",
       "      <td>2648539.0</td>\n",
       "    </tr>\n",
       "    <tr>\n",
       "      <th>geography_id</th>\n",
       "      <td>NaN</td>\n",
       "      <td>2648539.0</td>\n",
       "    </tr>\n",
       "    <tr>\n",
       "      <th>shelf_life</th>\n",
       "      <td>NaN</td>\n",
       "      <td>2648539.0</td>\n",
       "    </tr>\n",
       "    <tr>\n",
       "      <th>units_per_tray</th>\n",
       "      <td>NaN</td>\n",
       "      <td>2648539.0</td>\n",
       "    </tr>\n",
       "    <tr>\n",
       "      <th>closing_inventory_min_neg_over_shelf_life_minus_2_days</th>\n",
       "      <td>2554345.0</td>\n",
       "      <td>94194.0</td>\n",
       "    </tr>\n",
       "    <tr>\n",
       "      <th>closing_inventory_neg_count_over_1_day</th>\n",
       "      <td>NaN</td>\n",
       "      <td>2648539.0</td>\n",
       "    </tr>\n",
       "    <tr>\n",
       "      <th>closing_inventory_neg_count_over_shelf_life_minus_2_days</th>\n",
       "      <td>NaN</td>\n",
       "      <td>2648539.0</td>\n",
       "    </tr>\n",
       "    <tr>\n",
       "      <th>closing_inventory_on_day</th>\n",
       "      <td>856078.0</td>\n",
       "      <td>1792461.0</td>\n",
       "    </tr>\n",
       "  </tbody>\n",
       "</table>\n",
       "</div>"
      ],
      "text/plain": [
       "                                                        False      True \n",
       "upc                                                       NaN  2648539.0\n",
       "calendar_date                                             NaN  2648539.0\n",
       "calendar_id                                               NaN  2648539.0\n",
       "store_id                                                  NaN  2648539.0\n",
       "geography_id                                              NaN  2648539.0\n",
       "shelf_life                                                NaN  2648539.0\n",
       "units_per_tray                                            NaN  2648539.0\n",
       "closing_inventory_min_neg_over_shelf_life_minus...  2554345.0    94194.0\n",
       "closing_inventory_neg_count_over_1_day                    NaN  2648539.0\n",
       "closing_inventory_neg_count_over_shelf_life_min...        NaN  2648539.0\n",
       "closing_inventory_on_day                             856078.0  1792461.0"
      ]
     },
     "execution_count": 14,
     "metadata": {},
     "output_type": "execute_result"
    }
   ],
   "source": [
    "(cinv == instore[cinv.columns]).apply(lambda x: x.value_counts()).transpose()"
   ]
  },
  {
   "cell_type": "markdown",
   "metadata": {},
   "source": [
    "**Note:** Closing Inventory and In Store are identical except for:\n",
    "* closing_inventory_min_neg_over_shelf_life_minus_2_days\n",
    "* closing_inventory_on_day\n",
    "\n",
    "Join these to final data with `cinv` prefix"
   ]
  },
  {
   "cell_type": "code",
   "execution_count": 15,
   "metadata": {},
   "outputs": [],
   "source": [
    "cinv = cinv.rename(columns={'closing_inventory_min_neg_over_shelf_life_minus_2_days' :\n",
    "                           'cinv_closing_inventory_min_neg_over_shelf_life_minus_2_days',\n",
    "                           'closing_inventory_on_day' : \n",
    "                           'cinv_closing_inventory_on_day'})"
   ]
  },
  {
   "cell_type": "code",
   "execution_count": 16,
   "metadata": {},
   "outputs": [],
   "source": [
    "cinv_cols = ['upc', 'calendar_date', 'store_id', 'geography_id', 'cinv_closing_inventory_min_neg_over_shelf_life_minus_2_days',\n",
    "            'cinv_closing_inventory_on_day']\n",
    "join_cols = ['upc', 'calendar_date', 'store_id', 'geography_id']\n",
    "instore_c = instore.merge(cinv[cinv_cols], on=join_cols).drop(['calendar_id'], axis=1)"
   ]
  },
  {
   "cell_type": "code",
   "execution_count": 17,
   "metadata": {},
   "outputs": [
    {
     "data": {
      "text/html": [
       "<div>\n",
       "<style scoped>\n",
       "    .dataframe tbody tr th:only-of-type {\n",
       "        vertical-align: middle;\n",
       "    }\n",
       "\n",
       "    .dataframe tbody tr th {\n",
       "        vertical-align: top;\n",
       "    }\n",
       "\n",
       "    .dataframe thead th {\n",
       "        text-align: right;\n",
       "    }\n",
       "</style>\n",
       "<table border=\"1\" class=\"dataframe\">\n",
       "  <thead>\n",
       "    <tr style=\"text-align: right;\">\n",
       "      <th></th>\n",
       "      <th>True</th>\n",
       "    </tr>\n",
       "  </thead>\n",
       "  <tbody>\n",
       "    <tr>\n",
       "      <th>upc</th>\n",
       "      <td>2648539</td>\n",
       "    </tr>\n",
       "    <tr>\n",
       "      <th>calendar_date</th>\n",
       "      <td>2648539</td>\n",
       "    </tr>\n",
       "    <tr>\n",
       "      <th>store_id</th>\n",
       "      <td>2648539</td>\n",
       "    </tr>\n",
       "    <tr>\n",
       "      <th>geography_id</th>\n",
       "      <td>2648539</td>\n",
       "    </tr>\n",
       "    <tr>\n",
       "      <th>shelf_life</th>\n",
       "      <td>2648539</td>\n",
       "    </tr>\n",
       "    <tr>\n",
       "      <th>units_per_tray</th>\n",
       "      <td>2648539</td>\n",
       "    </tr>\n",
       "  </tbody>\n",
       "</table>\n",
       "</div>"
      ],
      "text/plain": [
       "                   True\n",
       "upc             2648539\n",
       "calendar_date   2648539\n",
       "store_id        2648539\n",
       "geography_id    2648539\n",
       "shelf_life      2648539\n",
       "units_per_tray  2648539"
      ]
     },
     "execution_count": 17,
     "metadata": {},
     "output_type": "execute_result"
    }
   ],
   "source": [
    "# Are the consistent columns the same in depot and instore\n",
    "mut_cols = list(depot.columns[depot.columns.isin(instore_c.columns)])\n",
    "(depot[mut_cols] == instore[mut_cols]).apply(lambda x: x.value_counts()).transpose()\n",
    "# or all(depot[mut_cols] == instore[mut_cols])\n",
    "# yes"
   ]
  },
  {
   "cell_type": "code",
   "execution_count": 19,
   "metadata": {},
   "outputs": [],
   "source": [
    "depot_cols = ['upc', 'calendar_date', 'store_id', 'geography_id', 'depot_delivered_qty_on_day',\n",
    "       'depot_delivered_qty_over_minus_2_day',\n",
    "       'depot_delivered_qty_over_shelf_life_plus_1',\n",
    "       'depot_lvl_required_qty_over_supplier_lead_time',\n",
    "       'depot_lvl_target_inventory_on_day', 'depot_ordered_qty_on_day',\n",
    "       'depot_ordered_qty_over_minus_2_day',\n",
    "       'depot_ordered_qty_over_shelf_life_plus_1',\n",
    "       'depot_ordered_qty_over_supplier_lead_time', 'depot_store_id']"
   ]
  },
  {
   "cell_type": "code",
   "execution_count": 20,
   "metadata": {},
   "outputs": [],
   "source": [
    "instorec_dep = instore_c.merge(depot[depot_cols], on=['upc', 'calendar_date', 'store_id', 'geography_id'])"
   ]
  },
  {
   "cell_type": "markdown",
   "metadata": {},
   "source": [
    "#### Check same columns forecast"
   ]
  },
  {
   "cell_type": "code",
   "execution_count": 22,
   "metadata": {},
   "outputs": [
    {
     "data": {
      "text/plain": [
       "True"
      ]
     },
     "execution_count": 22,
     "metadata": {},
     "output_type": "execute_result"
    }
   ],
   "source": [
    "# Are the consistent columns the same in depot and instore\n",
    "mut_cols = list(fore.columns[fore.columns.isin(instorec_dep.columns)])\n",
    "#(fore[mut_cols] == instorec_dep[mut_cols]).apply(lambda x: x.value_counts()).transpose()\n",
    "all(depot[mut_cols] == instore[mut_cols])\n",
    "# yes - no oddities around shelf life and tray size"
   ]
  },
  {
   "cell_type": "code",
   "execution_count": 23,
   "metadata": {},
   "outputs": [],
   "source": [
    "joined_data = instorec_dep.merge(fore.drop(columns=['calendar_id', 'shelf_life', 'units_per_tray'], axis=1),\n",
    "                    on=['upc', 'calendar_date', 'store_id', 'geography_id'])"
   ]
  },
  {
   "cell_type": "markdown",
   "metadata": {},
   "source": [
    "### Assert"
   ]
  },
  {
   "cell_type": "code",
   "execution_count": 24,
   "metadata": {},
   "outputs": [],
   "source": [
    "assert joined_data.shape[0] == fore.shape[0] == depot.shape[0] == cinv.shape[0] == instore.shape[0]"
   ]
  },
  {
   "cell_type": "markdown",
   "metadata": {},
   "source": [
    "**Stop:** Write quick data Dictionary and review values"
   ]
  },
  {
   "cell_type": "code",
   "execution_count": 25,
   "metadata": {},
   "outputs": [],
   "source": [
    "joined_data.to_csv('/Users/chughes/Documents/Projects/Newton Europe/joined_data.csv', index=False)"
   ]
  },
  {
   "cell_type": "code",
   "execution_count": 26,
   "metadata": {},
   "outputs": [],
   "source": [
    "pd.DataFrame(joined_data.columns.transpose()).to_excel(\n",
    "    '/Users/chughes/Documents/Projects/Newton Europe/data_dict.xlsx', index=False)"
   ]
  },
  {
   "cell_type": "markdown",
   "metadata": {},
   "source": [
    "### Logic"
   ]
  },
  {
   "cell_type": "code",
   "execution_count": 27,
   "metadata": {},
   "outputs": [],
   "source": [
    "# Waste qty > 0 on days when ranging indicator is 0"
   ]
  },
  {
   "cell_type": "code",
   "execution_count": 44,
   "metadata": {},
   "outputs": [],
   "source": [
    "# Waste qty > 0 on days when ranging indicator is 0\n",
    "joined_data['product_waste'] = (joined_data['waste_value_on_day'] > 0) & (joined_data['ranging_indicator_on_day'] == 0)"
   ]
  },
  {
   "cell_type": "code",
   "execution_count": 48,
   "metadata": {},
   "outputs": [],
   "source": [
    "# Stockout indicator 1 on a day when ranging indicator is 0\n",
    "joined_data['product_stockout'] = (joined_data['stock_out_ind_on_day'] == 1) & (joined_data['ranging_indicator_on_day'] == 0)"
   ]
  },
  {
   "cell_type": "code",
   "execution_count": 55,
   "metadata": {},
   "outputs": [
    {
     "data": {
      "text/plain": [
       "0           True\n",
       "1          False\n",
       "2          False\n",
       "3          False\n",
       "4          False\n",
       "           ...  \n",
       "2648534    False\n",
       "2648535    False\n",
       "2648536    False\n",
       "2648537    False\n",
       "2648538    False\n",
       "Length: 2648539, dtype: bool"
      ]
     },
     "execution_count": 55,
     "metadata": {},
     "output_type": "execute_result"
    }
   ],
   "source": [
    "# Received_units (store) > Allocation (store) Shelf life before and including waste event\n",
    "joined_data['delivered_qty_over_shelf_life'] > joined_data['allocated_qty_over_shelf_life']"
   ]
  },
  {
   "cell_type": "code",
   "execution_count": 61,
   "metadata": {},
   "outputs": [
    {
     "data": {
      "text/plain": [
       "0          False\n",
       "1          False\n",
       "2          False\n",
       "3          False\n",
       "4          False\n",
       "           ...  \n",
       "2648534    False\n",
       "2648535    False\n",
       "2648536    False\n",
       "2648537    False\n",
       "2648538    False\n",
       "Length: 2648539, dtype: bool"
      ]
     },
     "execution_count": 61,
     "metadata": {},
     "output_type": "execute_result"
    }
   ],
   "source": [
    "# Received_units (store) < Allocation (store) Allocation to store lead time before and including stockout\n",
    "(joined_data['delivered_qty_over_shelf_life'] < joined_data['allocated_required_diff_high_qty_over_lead_time'])"
   ]
  },
  {
   "cell_type": "code",
   "execution_count": 79,
   "metadata": {},
   "outputs": [],
   "source": [
    "### Sales\n",
    "# Sales Forecast Error\n",
    "joined_data['forecast_waste'] = (((joined_data['forecast_demand_qty_over_shelf_life'] - joined_data['sales_qty_over_shelf_life'])) > (\n",
    "    0.75*joined_data['forecast_demand_qty_over_shelf_life'])) & (\n",
    "    (joined_data['forecast_demand_qty_over_shelf_life'] - joined_data['sales_qty_over_shelf_life']).abs() > 1\n",
    ")\n",
    "\n",
    "\n",
    "# Forecast Stockout\n",
    "joined_data['forecast_stockout'] = ((joined_data['forecast_demand_qty_over_lead_time'] - joined_data['sales_qty_over_lead_time']) < (\n",
    "    1.25*joined_data['forecast_demand_qty_over_lead_time'])) & (\n",
    "    (joined_data['forecast_demand_qty_over_lead_time']- joined_data['sales_qty_over_lead_time']).abs() > 1\n",
    ")"
   ]
  },
  {
   "cell_type": "code",
   "execution_count": 82,
   "metadata": {},
   "outputs": [],
   "source": [
    "### Waste\n",
    "joined_data['waste_waste'] = ((joined_data['forecast_waste_qty_over_shelf_life'] - joined_data['waste_value_on_day']) > (\n",
    "    0.75*joined_data['forecast_waste_qty_over_shelf_life']))"
   ]
  },
  {
   "cell_type": "code",
   "execution_count": 83,
   "metadata": {},
   "outputs": [],
   "source": [
    "joined_data['waste_stockout'] = (\n",
    "    joined_data['forecast_waste_qty_over_lead_time'] < (joined_data['waste_value_on_day'] - 0.75*joined_data['forecast_waste_qty_over_lead_time']) \n",
    ")"
   ]
  },
  {
   "cell_type": "code",
   "execution_count": 84,
   "metadata": {},
   "outputs": [],
   "source": [
    "### Stock\n",
    "# Stock file adjustment\n",
    "joined_data['stock_waste'] = (joined_data['stockfile_adjust_qty_on_day'] > 0) & (joined_data['stockfile_adjust_qty_at_plus_1_day'] > 0)\n",
    "\n",
    "# Stock had less stock than reported\n",
    "joined_data['stock_stockout'] = (joined_data['stockfile_adjust_qty_on_day'] < 0) & (\n",
    "joined_data['stockfile_adjust_qty_at_minus_1_day'] < 0)"
   ]
  },
  {
   "cell_type": "code",
   "execution_count": null,
   "metadata": {},
   "outputs": [],
   "source": [
    "### Negative stockfile\n",
    "    \n",
    "(joined_data['closing_inventory_on_day'] < 0) & (joined_data['clos'] < 0)"
   ]
  },
  {
   "cell_type": "code",
   "execution_count": 90,
   "metadata": {},
   "outputs": [
    {
     "data": {
      "text/plain": [
       "True     2554345\n",
       "False      94194\n",
       "Name: closing_inventory_min_neg_over_shelf_life_minus_2_days, dtype: int64"
      ]
     },
     "execution_count": 90,
     "metadata": {},
     "output_type": "execute_result"
    }
   ],
   "source": [
    "joined_data['closing_inventory_min_neg_over_shelf_life_minus_2_days'].isna().value_counts()"
   ]
  },
  {
   "cell_type": "code",
   "execution_count": 93,
   "metadata": {},
   "outputs": [
    {
     "data": {
      "text/plain": [
       "0     2554345\n",
       "1       72726\n",
       "2       14511\n",
       "3        3832\n",
       "4        1395\n",
       "5         485\n",
       "8         393\n",
       "6         377\n",
       "7         210\n",
       "9         179\n",
       "13         33\n",
       "10         24\n",
       "11         16\n",
       "12         13\n",
       "Name: closing_inventory_neg_count_over_shelf_life_minus_2_days, dtype: int64"
      ]
     },
     "execution_count": 93,
     "metadata": {},
     "output_type": "execute_result"
    }
   ],
   "source": [
    "joined_data['closing_inventory_neg_count_over_shelf_life_minus_2_days'].value_counts()"
   ]
  },
  {
   "cell_type": "code",
   "execution_count": 88,
   "metadata": {},
   "outputs": [
    {
     "data": {
      "text/html": [
       "<div>\n",
       "<style scoped>\n",
       "    .dataframe tbody tr th:only-of-type {\n",
       "        vertical-align: middle;\n",
       "    }\n",
       "\n",
       "    .dataframe tbody tr th {\n",
       "        vertical-align: top;\n",
       "    }\n",
       "\n",
       "    .dataframe thead th {\n",
       "        text-align: right;\n",
       "    }\n",
       "</style>\n",
       "<table border=\"1\" class=\"dataframe\">\n",
       "  <thead>\n",
       "    <tr style=\"text-align: right;\">\n",
       "      <th></th>\n",
       "      <th>closing_inventory_min_neg_over_shelf_life_minus_2_days</th>\n",
       "      <th>closing_inventory_neg_count_over_shelf_life_minus_2_days</th>\n",
       "    </tr>\n",
       "  </thead>\n",
       "  <tbody>\n",
       "    <tr>\n",
       "      <th>0</th>\n",
       "      <td>NaN</td>\n",
       "      <td>0</td>\n",
       "    </tr>\n",
       "    <tr>\n",
       "      <th>1</th>\n",
       "      <td>NaN</td>\n",
       "      <td>0</td>\n",
       "    </tr>\n",
       "    <tr>\n",
       "      <th>2</th>\n",
       "      <td>NaN</td>\n",
       "      <td>0</td>\n",
       "    </tr>\n",
       "    <tr>\n",
       "      <th>3</th>\n",
       "      <td>NaN</td>\n",
       "      <td>0</td>\n",
       "    </tr>\n",
       "    <tr>\n",
       "      <th>4</th>\n",
       "      <td>NaN</td>\n",
       "      <td>0</td>\n",
       "    </tr>\n",
       "    <tr>\n",
       "      <th>...</th>\n",
       "      <td>...</td>\n",
       "      <td>...</td>\n",
       "    </tr>\n",
       "    <tr>\n",
       "      <th>2648534</th>\n",
       "      <td>NaN</td>\n",
       "      <td>0</td>\n",
       "    </tr>\n",
       "    <tr>\n",
       "      <th>2648535</th>\n",
       "      <td>NaN</td>\n",
       "      <td>0</td>\n",
       "    </tr>\n",
       "    <tr>\n",
       "      <th>2648536</th>\n",
       "      <td>NaN</td>\n",
       "      <td>0</td>\n",
       "    </tr>\n",
       "    <tr>\n",
       "      <th>2648537</th>\n",
       "      <td>NaN</td>\n",
       "      <td>0</td>\n",
       "    </tr>\n",
       "    <tr>\n",
       "      <th>2648538</th>\n",
       "      <td>NaN</td>\n",
       "      <td>0</td>\n",
       "    </tr>\n",
       "  </tbody>\n",
       "</table>\n",
       "<p>2648539 rows × 2 columns</p>\n",
       "</div>"
      ],
      "text/plain": [
       "         closing_inventory_min_neg_over_shelf_life_minus_2_days  \\\n",
       "0                                                      NaN        \n",
       "1                                                      NaN        \n",
       "2                                                      NaN        \n",
       "3                                                      NaN        \n",
       "4                                                      NaN        \n",
       "...                                                    ...        \n",
       "2648534                                                NaN        \n",
       "2648535                                                NaN        \n",
       "2648536                                                NaN        \n",
       "2648537                                                NaN        \n",
       "2648538                                                NaN        \n",
       "\n",
       "         closing_inventory_neg_count_over_shelf_life_minus_2_days  \n",
       "0                                                        0         \n",
       "1                                                        0         \n",
       "2                                                        0         \n",
       "3                                                        0         \n",
       "4                                                        0         \n",
       "...                                                    ...         \n",
       "2648534                                                  0         \n",
       "2648535                                                  0         \n",
       "2648536                                                  0         \n",
       "2648537                                                  0         \n",
       "2648538                                                  0         \n",
       "\n",
       "[2648539 rows x 2 columns]"
      ]
     },
     "execution_count": 88,
     "metadata": {},
     "output_type": "execute_result"
    }
   ],
   "source": [
    "joined_data[['closing_inventory_min_neg_over_shelf_life_minus_2_days','closing_inventory_neg_count_over_shelf_life_minus_2_days']]"
   ]
  }
 ],
 "metadata": {
  "kernelspec": {
   "display_name": "Python 3",
   "language": "python",
   "name": "python3"
  },
  "language_info": {
   "codemirror_mode": {
    "name": "ipython",
    "version": 3
   },
   "file_extension": ".py",
   "mimetype": "text/x-python",
   "name": "python",
   "nbconvert_exporter": "python",
   "pygments_lexer": "ipython3",
   "version": "3.7.6"
  }
 },
 "nbformat": 4,
 "nbformat_minor": 4
}

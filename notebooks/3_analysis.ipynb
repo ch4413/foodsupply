{
 "cells": [
  {
   "cell_type": "markdown",
   "metadata": {},
   "source": [
    "### Lightweight Analysis"
   ]
  },
  {
   "cell_type": "code",
   "execution_count": 129,
   "metadata": {},
   "outputs": [],
   "source": [
    "import pandas as pd\n",
    "import seaborn as sns"
   ]
  },
  {
   "cell_type": "code",
   "execution_count": 2,
   "metadata": {},
   "outputs": [],
   "source": [
    "supply_metrics = pd.read_csv('../data/supply_metrics.csv')"
   ]
  },
  {
   "cell_type": "markdown",
   "metadata": {},
   "source": [
    "### Review Metrics"
   ]
  },
  {
   "cell_type": "code",
   "execution_count": 9,
   "metadata": {},
   "outputs": [],
   "source": [
    "metrics = ['product_waste', 'product_stockout', 'depot_waste', \n",
    "           'forecast_waste', 'forecast_stockout', 'waste_prediction_waste',\n",
    "          'waste_prediction_stockout', 'stock_waste', 'stock_stockout', 'negative_stockfile']"
   ]
  },
  {
   "cell_type": "code",
   "execution_count": 10,
   "metadata": {},
   "outputs": [],
   "source": [
    "top100 = pd.Series(supply_metrics['upc'].value_counts()[(supply_metrics['upc'].value_counts() > 12400)].index)"
   ]
  },
  {
   "cell_type": "code",
   "execution_count": 11,
   "metadata": {},
   "outputs": [
    {
     "data": {
      "text/plain": [
       "(1750865, 72)"
      ]
     },
     "execution_count": 11,
     "metadata": {},
     "output_type": "execute_result"
    }
   ],
   "source": [
    "supply_metrics.shape"
   ]
  },
  {
   "cell_type": "code",
   "execution_count": 12,
   "metadata": {},
   "outputs": [],
   "source": [
    "top100_metrics = supply_metrics[supply_metrics['upc'].isin(top100)]"
   ]
  },
  {
   "cell_type": "code",
   "execution_count": 13,
   "metadata": {},
   "outputs": [
    {
     "data": {
      "text/plain": [
       "(1336855, 72)"
      ]
     },
     "execution_count": 13,
     "metadata": {},
     "output_type": "execute_result"
    }
   ],
   "source": [
    "top100_metrics.shape"
   ]
  },
  {
   "cell_type": "code",
   "execution_count": 82,
   "metadata": {},
   "outputs": [],
   "source": [
    "store2000 = pd.Series(supply_metrics['store_id'].value_counts()[(supply_metrics['store_id'].value_counts() > 2000)].index)"
   ]
  },
  {
   "cell_type": "code",
   "execution_count": 83,
   "metadata": {},
   "outputs": [],
   "source": [
    "final_data = supply_metrics[supply_metrics['upc'].isin(top100) & supply_metrics['store_id'].isin(store2000)]"
   ]
  },
  {
   "cell_type": "markdown",
   "metadata": {},
   "source": [
    "### Save out final data"
   ]
  },
  {
   "cell_type": "code",
   "execution_count": 24,
   "metadata": {},
   "outputs": [],
   "source": [
    "final_data.to_csv('../data/final_data.csv', index=False)"
   ]
  },
  {
   "cell_type": "markdown",
   "metadata": {},
   "source": [
    "### Which metrics are important?"
   ]
  },
  {
   "cell_type": "code",
   "execution_count": 85,
   "metadata": {},
   "outputs": [],
   "source": [
    "table = (final_data[metrics].apply(lambda x: x.value_counts())\n",
    "                     .transpose()\n",
    "                     .sort_values(True, ascending=False)).reset_index()\n",
    "\n",
    "table = table.rename(columns={'index':'Metric', True:'Occurrence'})\n",
    "table['Occurrence'] = table['Occurrence'].fillna(0)\n",
    "table = table.drop([False], axis=1)\n",
    "table['Percentage (%)'] = table['Occurrence'].apply(lambda x: round(100*(x / table['Occurrence'].sum()), 1))"
   ]
  },
  {
   "cell_type": "code",
   "execution_count": 86,
   "metadata": {},
   "outputs": [],
   "source": [
    "table.to_csv('../data/metric_occurrence.csv', index=False)"
   ]
  },
  {
   "cell_type": "code",
   "execution_count": 87,
   "metadata": {},
   "outputs": [
    {
     "data": {
      "text/html": [
       "<div>\n",
       "<style scoped>\n",
       "    .dataframe tbody tr th:only-of-type {\n",
       "        vertical-align: middle;\n",
       "    }\n",
       "\n",
       "    .dataframe tbody tr th {\n",
       "        vertical-align: top;\n",
       "    }\n",
       "\n",
       "    .dataframe thead th {\n",
       "        text-align: right;\n",
       "    }\n",
       "</style>\n",
       "<table border=\"1\" class=\"dataframe\">\n",
       "  <thead>\n",
       "    <tr style=\"text-align: right;\">\n",
       "      <th></th>\n",
       "      <th>Metric</th>\n",
       "      <th>Occurrence</th>\n",
       "      <th>Percentage (%)</th>\n",
       "    </tr>\n",
       "  </thead>\n",
       "  <tbody>\n",
       "    <tr>\n",
       "      <th>0</th>\n",
       "      <td>waste_prediction_waste</td>\n",
       "      <td>786352.0</td>\n",
       "      <td>47.8</td>\n",
       "    </tr>\n",
       "    <tr>\n",
       "      <th>1</th>\n",
       "      <td>forecast_stockout</td>\n",
       "      <td>341758.0</td>\n",
       "      <td>20.8</td>\n",
       "    </tr>\n",
       "    <tr>\n",
       "      <th>2</th>\n",
       "      <td>forecast_waste</td>\n",
       "      <td>247849.0</td>\n",
       "      <td>15.1</td>\n",
       "    </tr>\n",
       "    <tr>\n",
       "      <th>3</th>\n",
       "      <td>waste_prediction_stockout</td>\n",
       "      <td>232626.0</td>\n",
       "      <td>14.1</td>\n",
       "    </tr>\n",
       "    <tr>\n",
       "      <th>4</th>\n",
       "      <td>depot_waste</td>\n",
       "      <td>36052.0</td>\n",
       "      <td>2.2</td>\n",
       "    </tr>\n",
       "  </tbody>\n",
       "</table>\n",
       "</div>"
      ],
      "text/plain": [
       "                      Metric  Occurrence  Percentage (%)\n",
       "0     waste_prediction_waste    786352.0            47.8\n",
       "1          forecast_stockout    341758.0            20.8\n",
       "2             forecast_waste    247849.0            15.1\n",
       "3  waste_prediction_stockout    232626.0            14.1\n",
       "4                depot_waste     36052.0             2.2"
      ]
     },
     "execution_count": 87,
     "metadata": {},
     "output_type": "execute_result"
    }
   ],
   "source": [
    "table.head()"
   ]
  },
  {
   "cell_type": "markdown",
   "metadata": {},
   "source": [
    "#### How much waste?"
   ]
  },
  {
   "cell_type": "code",
   "execution_count": 90,
   "metadata": {},
   "outputs": [],
   "source": [
    "waste_fore = table['Metric'][table['Metric'].str.contains('(^(forecast|waste))')]"
   ]
  },
  {
   "cell_type": "code",
   "execution_count": 91,
   "metadata": {},
   "outputs": [
    {
     "data": {
      "text/plain": [
       "0.9776730362482678"
      ]
     },
     "execution_count": 91,
     "metadata": {},
     "output_type": "execute_result"
    }
   ],
   "source": [
    "table[table['Metric'].isin(waste_fore)]['Occurrence'].sum() / table['Occurrence'].sum()"
   ]
  },
  {
   "cell_type": "markdown",
   "metadata": {},
   "source": [
    "### Waste Prediction Waste"
   ]
  },
  {
   "cell_type": "code",
   "execution_count": 92,
   "metadata": {},
   "outputs": [],
   "source": [
    "waste_slice = final_data[final_data['waste_prediction_waste']]"
   ]
  },
  {
   "cell_type": "code",
   "execution_count": 23,
   "metadata": {},
   "outputs": [
    {
     "data": {
      "text/plain": [
       "0.00     750690\n",
       "4.00       3035\n",
       "2.50       2759\n",
       "3.00       2610\n",
       "1.00       2414\n",
       "          ...  \n",
       "13.25         1\n",
       "18.60         1\n",
       "0.34          1\n",
       "18.90         1\n",
       "62.50         1\n",
       "Name: waste_value_on_day, Length: 354, dtype: int64"
      ]
     },
     "execution_count": 23,
     "metadata": {},
     "output_type": "execute_result"
    }
   ],
   "source": [
    "waste_slice['waste_value_on_day'].value_counts()"
   ]
  },
  {
   "cell_type": "code",
   "execution_count": 97,
   "metadata": {},
   "outputs": [
    {
     "data": {
      "text/plain": [
       "0.9546488086760128"
      ]
     },
     "execution_count": 97,
     "metadata": {},
     "output_type": "execute_result"
    }
   ],
   "source": [
    "750690 / waste_slice.shape[0]"
   ]
  },
  {
   "cell_type": "markdown",
   "metadata": {},
   "source": [
    "### By region by day"
   ]
  },
  {
   "cell_type": "code",
   "execution_count": 104,
   "metadata": {},
   "outputs": [
    {
     "data": {
      "text/plain": [
       "['product_waste',\n",
       " 'product_stockout',\n",
       " 'depot_waste',\n",
       " 'forecast_waste',\n",
       " 'forecast_stockout',\n",
       " 'waste_prediction_waste',\n",
       " 'waste_prediction_stockout',\n",
       " 'stock_waste',\n",
       " 'stock_stockout',\n",
       " 'negative_stockfile']"
      ]
     },
     "execution_count": 104,
     "metadata": {},
     "output_type": "execute_result"
    }
   ],
   "source": [
    "metrics"
   ]
  },
  {
   "cell_type": "code",
   "execution_count": 173,
   "metadata": {},
   "outputs": [],
   "source": [
    "lookup = final_data.groupby('depot_store_id')['store_id'].nunique().reset_index()\n",
    "lookup['depot_store_id'] = lookup['depot_store_id'].astype('int').astype('category')\n",
    "lookup = lookup.rename(columns = {'store_id':'no_of_stores'})"
   ]
  },
  {
   "cell_type": "code",
   "execution_count": 180,
   "metadata": {},
   "outputs": [
    {
     "name": "stderr",
     "output_type": "stream",
     "text": [
      "/opt/anaconda3/lib/python3.7/site-packages/ipykernel_launcher.py:1: SettingWithCopyWarning: \n",
      "A value is trying to be set on a copy of a slice from a DataFrame.\n",
      "Try using .loc[row_indexer,col_indexer] = value instead\n",
      "\n",
      "See the caveats in the documentation: https://pandas.pydata.org/pandas-docs/stable/user_guide/indexing.html#returning-a-view-versus-a-copy\n",
      "  \"\"\"Entry point for launching an IPython kernel.\n"
     ]
    }
   ],
   "source": [
    "final_data['depot_store_id'] = final_data['depot_store_id'].astype('int').astype('category')"
   ]
  },
  {
   "cell_type": "code",
   "execution_count": 181,
   "metadata": {},
   "outputs": [
    {
     "data": {
      "text/html": [
       "<div>\n",
       "<style scoped>\n",
       "    .dataframe tbody tr th:only-of-type {\n",
       "        vertical-align: middle;\n",
       "    }\n",
       "\n",
       "    .dataframe tbody tr th {\n",
       "        vertical-align: top;\n",
       "    }\n",
       "\n",
       "    .dataframe thead th {\n",
       "        text-align: right;\n",
       "    }\n",
       "</style>\n",
       "<table border=\"1\" class=\"dataframe\">\n",
       "  <thead>\n",
       "    <tr style=\"text-align: right;\">\n",
       "      <th></th>\n",
       "      <th>upc</th>\n",
       "      <th>calendar_date</th>\n",
       "      <th>store_id</th>\n",
       "      <th>geography_id</th>\n",
       "      <th>shelf_life</th>\n",
       "      <th>units_per_tray</th>\n",
       "      <th>cal_gross_sales_qty_on_day</th>\n",
       "      <th>closing_inventory_min_neg_over_shelf_life_minus_2_days</th>\n",
       "      <th>closing_inventory_neg_count_over_1_day</th>\n",
       "      <th>closing_inventory_neg_count_over_shelf_life_minus_2_days</th>\n",
       "      <th>...</th>\n",
       "      <th>product_stockout</th>\n",
       "      <th>depot_waste</th>\n",
       "      <th>forecast_waste</th>\n",
       "      <th>forecast_stockout</th>\n",
       "      <th>waste_prediction_waste</th>\n",
       "      <th>waste_prediction_stockout</th>\n",
       "      <th>stock_waste</th>\n",
       "      <th>stock_stockout</th>\n",
       "      <th>negative_stockfile</th>\n",
       "      <th>no_of_stores</th>\n",
       "    </tr>\n",
       "  </thead>\n",
       "  <tbody>\n",
       "    <tr>\n",
       "      <th>0</th>\n",
       "      <td>464345</td>\n",
       "      <td>2018-07-07</td>\n",
       "      <td>2061</td>\n",
       "      <td>6729</td>\n",
       "      <td>6</td>\n",
       "      <td>10</td>\n",
       "      <td>12.0</td>\n",
       "      <td>NaN</td>\n",
       "      <td>0</td>\n",
       "      <td>0</td>\n",
       "      <td>...</td>\n",
       "      <td>False</td>\n",
       "      <td>True</td>\n",
       "      <td>False</td>\n",
       "      <td>True</td>\n",
       "      <td>False</td>\n",
       "      <td>False</td>\n",
       "      <td>False</td>\n",
       "      <td>False</td>\n",
       "      <td>False</td>\n",
       "      <td>62</td>\n",
       "    </tr>\n",
       "    <tr>\n",
       "      <th>1</th>\n",
       "      <td>313643</td>\n",
       "      <td>2018-07-07</td>\n",
       "      <td>3777</td>\n",
       "      <td>678</td>\n",
       "      <td>8</td>\n",
       "      <td>22</td>\n",
       "      <td>49.0</td>\n",
       "      <td>NaN</td>\n",
       "      <td>0</td>\n",
       "      <td>0</td>\n",
       "      <td>...</td>\n",
       "      <td>False</td>\n",
       "      <td>False</td>\n",
       "      <td>False</td>\n",
       "      <td>True</td>\n",
       "      <td>True</td>\n",
       "      <td>False</td>\n",
       "      <td>False</td>\n",
       "      <td>False</td>\n",
       "      <td>False</td>\n",
       "      <td>62</td>\n",
       "    </tr>\n",
       "    <tr>\n",
       "      <th>2</th>\n",
       "      <td>558006</td>\n",
       "      <td>2018-07-07</td>\n",
       "      <td>2157</td>\n",
       "      <td>3279</td>\n",
       "      <td>5</td>\n",
       "      <td>6</td>\n",
       "      <td>3.0</td>\n",
       "      <td>NaN</td>\n",
       "      <td>0</td>\n",
       "      <td>0</td>\n",
       "      <td>...</td>\n",
       "      <td>False</td>\n",
       "      <td>False</td>\n",
       "      <td>False</td>\n",
       "      <td>True</td>\n",
       "      <td>False</td>\n",
       "      <td>False</td>\n",
       "      <td>False</td>\n",
       "      <td>False</td>\n",
       "      <td>False</td>\n",
       "      <td>62</td>\n",
       "    </tr>\n",
       "    <tr>\n",
       "      <th>3</th>\n",
       "      <td>593441</td>\n",
       "      <td>2018-07-07</td>\n",
       "      <td>2097</td>\n",
       "      <td>6864</td>\n",
       "      <td>3</td>\n",
       "      <td>8</td>\n",
       "      <td>7.0</td>\n",
       "      <td>NaN</td>\n",
       "      <td>0</td>\n",
       "      <td>0</td>\n",
       "      <td>...</td>\n",
       "      <td>False</td>\n",
       "      <td>False</td>\n",
       "      <td>False</td>\n",
       "      <td>False</td>\n",
       "      <td>False</td>\n",
       "      <td>False</td>\n",
       "      <td>False</td>\n",
       "      <td>False</td>\n",
       "      <td>False</td>\n",
       "      <td>62</td>\n",
       "    </tr>\n",
       "    <tr>\n",
       "      <th>4</th>\n",
       "      <td>558020</td>\n",
       "      <td>2018-07-07</td>\n",
       "      <td>4828</td>\n",
       "      <td>936</td>\n",
       "      <td>5</td>\n",
       "      <td>6</td>\n",
       "      <td>2.0</td>\n",
       "      <td>NaN</td>\n",
       "      <td>0</td>\n",
       "      <td>0</td>\n",
       "      <td>...</td>\n",
       "      <td>False</td>\n",
       "      <td>False</td>\n",
       "      <td>False</td>\n",
       "      <td>False</td>\n",
       "      <td>False</td>\n",
       "      <td>False</td>\n",
       "      <td>False</td>\n",
       "      <td>False</td>\n",
       "      <td>False</td>\n",
       "      <td>62</td>\n",
       "    </tr>\n",
       "    <tr>\n",
       "      <th>...</th>\n",
       "      <td>...</td>\n",
       "      <td>...</td>\n",
       "      <td>...</td>\n",
       "      <td>...</td>\n",
       "      <td>...</td>\n",
       "      <td>...</td>\n",
       "      <td>...</td>\n",
       "      <td>...</td>\n",
       "      <td>...</td>\n",
       "      <td>...</td>\n",
       "      <td>...</td>\n",
       "      <td>...</td>\n",
       "      <td>...</td>\n",
       "      <td>...</td>\n",
       "      <td>...</td>\n",
       "      <td>...</td>\n",
       "      <td>...</td>\n",
       "      <td>...</td>\n",
       "      <td>...</td>\n",
       "      <td>...</td>\n",
       "      <td>...</td>\n",
       "    </tr>\n",
       "    <tr>\n",
       "      <th>1334778</th>\n",
       "      <td>434515</td>\n",
       "      <td>2018-08-06</td>\n",
       "      <td>8714</td>\n",
       "      <td>1425</td>\n",
       "      <td>7</td>\n",
       "      <td>12</td>\n",
       "      <td>5.0</td>\n",
       "      <td>NaN</td>\n",
       "      <td>0</td>\n",
       "      <td>0</td>\n",
       "      <td>...</td>\n",
       "      <td>False</td>\n",
       "      <td>False</td>\n",
       "      <td>False</td>\n",
       "      <td>True</td>\n",
       "      <td>True</td>\n",
       "      <td>False</td>\n",
       "      <td>False</td>\n",
       "      <td>False</td>\n",
       "      <td>False</td>\n",
       "      <td>68</td>\n",
       "    </tr>\n",
       "    <tr>\n",
       "      <th>1334779</th>\n",
       "      <td>427722</td>\n",
       "      <td>2018-08-06</td>\n",
       "      <td>1432</td>\n",
       "      <td>6100</td>\n",
       "      <td>5</td>\n",
       "      <td>12</td>\n",
       "      <td>9.0</td>\n",
       "      <td>NaN</td>\n",
       "      <td>0</td>\n",
       "      <td>0</td>\n",
       "      <td>...</td>\n",
       "      <td>False</td>\n",
       "      <td>False</td>\n",
       "      <td>False</td>\n",
       "      <td>False</td>\n",
       "      <td>False</td>\n",
       "      <td>True</td>\n",
       "      <td>False</td>\n",
       "      <td>False</td>\n",
       "      <td>False</td>\n",
       "      <td>68</td>\n",
       "    </tr>\n",
       "    <tr>\n",
       "      <th>1334780</th>\n",
       "      <td>301428</td>\n",
       "      <td>2018-08-06</td>\n",
       "      <td>2545</td>\n",
       "      <td>567</td>\n",
       "      <td>2</td>\n",
       "      <td>7</td>\n",
       "      <td>11.0</td>\n",
       "      <td>NaN</td>\n",
       "      <td>0</td>\n",
       "      <td>0</td>\n",
       "      <td>...</td>\n",
       "      <td>False</td>\n",
       "      <td>False</td>\n",
       "      <td>False</td>\n",
       "      <td>False</td>\n",
       "      <td>False</td>\n",
       "      <td>True</td>\n",
       "      <td>False</td>\n",
       "      <td>False</td>\n",
       "      <td>False</td>\n",
       "      <td>68</td>\n",
       "    </tr>\n",
       "    <tr>\n",
       "      <th>1334781</th>\n",
       "      <td>466769</td>\n",
       "      <td>2018-08-06</td>\n",
       "      <td>8714</td>\n",
       "      <td>1425</td>\n",
       "      <td>5</td>\n",
       "      <td>12</td>\n",
       "      <td>16.0</td>\n",
       "      <td>NaN</td>\n",
       "      <td>0</td>\n",
       "      <td>0</td>\n",
       "      <td>...</td>\n",
       "      <td>False</td>\n",
       "      <td>False</td>\n",
       "      <td>False</td>\n",
       "      <td>True</td>\n",
       "      <td>True</td>\n",
       "      <td>False</td>\n",
       "      <td>False</td>\n",
       "      <td>False</td>\n",
       "      <td>False</td>\n",
       "      <td>68</td>\n",
       "    </tr>\n",
       "    <tr>\n",
       "      <th>1334782</th>\n",
       "      <td>650403</td>\n",
       "      <td>2018-08-06</td>\n",
       "      <td>1454</td>\n",
       "      <td>6139</td>\n",
       "      <td>7</td>\n",
       "      <td>12</td>\n",
       "      <td>2.0</td>\n",
       "      <td>NaN</td>\n",
       "      <td>0</td>\n",
       "      <td>0</td>\n",
       "      <td>...</td>\n",
       "      <td>False</td>\n",
       "      <td>False</td>\n",
       "      <td>True</td>\n",
       "      <td>False</td>\n",
       "      <td>True</td>\n",
       "      <td>False</td>\n",
       "      <td>False</td>\n",
       "      <td>False</td>\n",
       "      <td>False</td>\n",
       "      <td>68</td>\n",
       "    </tr>\n",
       "  </tbody>\n",
       "</table>\n",
       "<p>1334783 rows × 73 columns</p>\n",
       "</div>"
      ],
      "text/plain": [
       "            upc calendar_date  store_id  geography_id  shelf_life  \\\n",
       "0        464345    2018-07-07      2061          6729           6   \n",
       "1        313643    2018-07-07      3777           678           8   \n",
       "2        558006    2018-07-07      2157          3279           5   \n",
       "3        593441    2018-07-07      2097          6864           3   \n",
       "4        558020    2018-07-07      4828           936           5   \n",
       "...         ...           ...       ...           ...         ...   \n",
       "1334778  434515    2018-08-06      8714          1425           7   \n",
       "1334779  427722    2018-08-06      1432          6100           5   \n",
       "1334780  301428    2018-08-06      2545           567           2   \n",
       "1334781  466769    2018-08-06      8714          1425           5   \n",
       "1334782  650403    2018-08-06      1454          6139           7   \n",
       "\n",
       "         units_per_tray  cal_gross_sales_qty_on_day  \\\n",
       "0                    10                        12.0   \n",
       "1                    22                        49.0   \n",
       "2                     6                         3.0   \n",
       "3                     8                         7.0   \n",
       "4                     6                         2.0   \n",
       "...                 ...                         ...   \n",
       "1334778              12                         5.0   \n",
       "1334779              12                         9.0   \n",
       "1334780               7                        11.0   \n",
       "1334781              12                        16.0   \n",
       "1334782              12                         2.0   \n",
       "\n",
       "         closing_inventory_min_neg_over_shelf_life_minus_2_days  \\\n",
       "0                                                      NaN        \n",
       "1                                                      NaN        \n",
       "2                                                      NaN        \n",
       "3                                                      NaN        \n",
       "4                                                      NaN        \n",
       "...                                                    ...        \n",
       "1334778                                                NaN        \n",
       "1334779                                                NaN        \n",
       "1334780                                                NaN        \n",
       "1334781                                                NaN        \n",
       "1334782                                                NaN        \n",
       "\n",
       "         closing_inventory_neg_count_over_1_day  \\\n",
       "0                                             0   \n",
       "1                                             0   \n",
       "2                                             0   \n",
       "3                                             0   \n",
       "4                                             0   \n",
       "...                                         ...   \n",
       "1334778                                       0   \n",
       "1334779                                       0   \n",
       "1334780                                       0   \n",
       "1334781                                       0   \n",
       "1334782                                       0   \n",
       "\n",
       "         closing_inventory_neg_count_over_shelf_life_minus_2_days  ...  \\\n",
       "0                                                        0         ...   \n",
       "1                                                        0         ...   \n",
       "2                                                        0         ...   \n",
       "3                                                        0         ...   \n",
       "4                                                        0         ...   \n",
       "...                                                    ...         ...   \n",
       "1334778                                                  0         ...   \n",
       "1334779                                                  0         ...   \n",
       "1334780                                                  0         ...   \n",
       "1334781                                                  0         ...   \n",
       "1334782                                                  0         ...   \n",
       "\n",
       "         product_stockout  depot_waste  forecast_waste  forecast_stockout  \\\n",
       "0                   False         True           False               True   \n",
       "1                   False        False           False               True   \n",
       "2                   False        False           False               True   \n",
       "3                   False        False           False              False   \n",
       "4                   False        False           False              False   \n",
       "...                   ...          ...             ...                ...   \n",
       "1334778             False        False           False               True   \n",
       "1334779             False        False           False              False   \n",
       "1334780             False        False           False              False   \n",
       "1334781             False        False           False               True   \n",
       "1334782             False        False            True              False   \n",
       "\n",
       "         waste_prediction_waste  waste_prediction_stockout  stock_waste  \\\n",
       "0                         False                      False        False   \n",
       "1                          True                      False        False   \n",
       "2                         False                      False        False   \n",
       "3                         False                      False        False   \n",
       "4                         False                      False        False   \n",
       "...                         ...                        ...          ...   \n",
       "1334778                    True                      False        False   \n",
       "1334779                   False                       True        False   \n",
       "1334780                   False                       True        False   \n",
       "1334781                    True                      False        False   \n",
       "1334782                    True                      False        False   \n",
       "\n",
       "         stock_stockout  negative_stockfile  no_of_stores  \n",
       "0                 False               False            62  \n",
       "1                 False               False            62  \n",
       "2                 False               False            62  \n",
       "3                 False               False            62  \n",
       "4                 False               False            62  \n",
       "...                 ...                 ...           ...  \n",
       "1334778           False               False            68  \n",
       "1334779           False               False            68  \n",
       "1334780           False               False            68  \n",
       "1334781           False               False            68  \n",
       "1334782           False               False            68  \n",
       "\n",
       "[1334783 rows x 73 columns]"
      ]
     },
     "execution_count": 181,
     "metadata": {},
     "output_type": "execute_result"
    }
   ],
   "source": [
    "final_data.merge(lookup, on='depot_store_id')"
   ]
  },
  {
   "cell_type": "code",
   "execution_count": 182,
   "metadata": {},
   "outputs": [],
   "source": [
    "sum_flags = final_data.groupby(['calendar_date','depot_store_id'])[metrics].apply(lambda x: x.sum()).reset_index()\n",
    "sum_flags['depot_store_id'] = sum_flags['depot_store_id'].astype('int').astype('category')"
   ]
  },
  {
   "cell_type": "code",
   "execution_count": 188,
   "metadata": {},
   "outputs": [],
   "source": [
    "sum_flags = sum_flags.merge(lookup, on='depot_store_id')"
   ]
  },
  {
   "cell_type": "code",
   "execution_count": 192,
   "metadata": {},
   "outputs": [],
   "source": [
    "sum_flags['normalised_waste_pred'] = sum_flags['waste_prediction_waste'] / sum_flags['no_of_stores']"
   ]
  },
  {
   "cell_type": "code",
   "execution_count": 155,
   "metadata": {},
   "outputs": [],
   "source": [
    "import matplotlib.pyplot as plt"
   ]
  },
  {
   "cell_type": "code",
   "execution_count": 156,
   "metadata": {},
   "outputs": [],
   "source": [
    "import matplotlib"
   ]
  },
  {
   "cell_type": "code",
   "execution_count": 206,
   "metadata": {},
   "outputs": [],
   "source": [
    "sum_flags_filter = sum_flags[sum_flags['depot_store_id'].isin([3942, 5212])]"
   ]
  },
  {
   "cell_type": "code",
   "execution_count": 208,
   "metadata": {},
   "outputs": [
    {
     "data": {
      "text/plain": [
       "[]"
      ]
     },
     "execution_count": 208,
     "metadata": {},
     "output_type": "execute_result"
    },
    {
     "data": {
      "image/png": "[encoded data removed]",
      "text/plain": [
       "<Figure size 432x288 with 1 Axes>"
      ]
     },
     "metadata": {},
     "output_type": "display_data"
    }
   ],
   "source": [
    "sns.set_context(\"paper\")\n",
    "sns.axes_style(\"whitegrid\")\n",
    "sns.set_style(\"ticks\",{\"xtick.major.size\":8,\n",
    "                       \"ytick.major.size\":8})\n",
    "ax = sns.lineplot(x=\"calendar_date\", y=\"normalised_waste_pred\",\n",
    "                     hue=\"depot_store_id\",\n",
    "                     data=sum_flags_filter)\n",
    "plt.title(\"Average Waste Predictions Errors by depot\")\n",
    "plt.ylabel(\"Waste Prediction Error Count\")\n",
    "plt.xlabel(\"Days in July\")\n",
    "plt.xticks(sum_flags['calendar_date'], rotation='90')\n",
    "plt.plot()"
   ]
  },
  {
   "cell_type": "code",
   "execution_count": null,
   "metadata": {},
   "outputs": [],
   "source": [
    "ax = sns.countplot(x=\"Column\", data=ds)\n",
    "\n",
    "ax.set_xticklabels(ax.get_xticklabels(), rotation=40, ha=\"right\")\n",
    "plt.tight_layout()\n",
    "plt.show()"
   ]
  },
  {
   "cell_type": "code",
   "execution_count": 126,
   "metadata": {},
   "outputs": [
    {
     "data": {
      "text/html": [
       "<div>\n",
       "<style scoped>\n",
       "    .dataframe tbody tr th:only-of-type {\n",
       "        vertical-align: middle;\n",
       "    }\n",
       "\n",
       "    .dataframe tbody tr th {\n",
       "        vertical-align: top;\n",
       "    }\n",
       "\n",
       "    .dataframe thead th {\n",
       "        text-align: right;\n",
       "    }\n",
       "</style>\n",
       "<table border=\"1\" class=\"dataframe\">\n",
       "  <thead>\n",
       "    <tr style=\"text-align: right;\">\n",
       "      <th></th>\n",
       "      <th>calendar_date</th>\n",
       "      <th>depot_store_id</th>\n",
       "      <th>waste_prediction_waste</th>\n",
       "    </tr>\n",
       "  </thead>\n",
       "  <tbody>\n",
       "    <tr>\n",
       "      <th>0</th>\n",
       "      <td>2018-07-07</td>\n",
       "      <td>3942.0</td>\n",
       "      <td>2218</td>\n",
       "    </tr>\n",
       "    <tr>\n",
       "      <th>1</th>\n",
       "      <td>2018-07-07</td>\n",
       "      <td>5173.0</td>\n",
       "      <td>2994</td>\n",
       "    </tr>\n",
       "    <tr>\n",
       "      <th>2</th>\n",
       "      <td>2018-07-07</td>\n",
       "      <td>5212.0</td>\n",
       "      <td>2933</td>\n",
       "    </tr>\n",
       "    <tr>\n",
       "      <th>3</th>\n",
       "      <td>2018-07-07</td>\n",
       "      <td>5380.0</td>\n",
       "      <td>1572</td>\n",
       "    </tr>\n",
       "    <tr>\n",
       "      <th>4</th>\n",
       "      <td>2018-07-07</td>\n",
       "      <td>5652.0</td>\n",
       "      <td>2230</td>\n",
       "    </tr>\n",
       "    <tr>\n",
       "      <th>...</th>\n",
       "      <td>...</td>\n",
       "      <td>...</td>\n",
       "      <td>...</td>\n",
       "    </tr>\n",
       "    <tr>\n",
       "      <th>243</th>\n",
       "      <td>2018-08-06</td>\n",
       "      <td>5380.0</td>\n",
       "      <td>2265</td>\n",
       "    </tr>\n",
       "    <tr>\n",
       "      <th>244</th>\n",
       "      <td>2018-08-06</td>\n",
       "      <td>5652.0</td>\n",
       "      <td>2724</td>\n",
       "    </tr>\n",
       "    <tr>\n",
       "      <th>245</th>\n",
       "      <td>2018-08-06</td>\n",
       "      <td>5908.0</td>\n",
       "      <td>3247</td>\n",
       "    </tr>\n",
       "    <tr>\n",
       "      <th>246</th>\n",
       "      <td>2018-08-06</td>\n",
       "      <td>5966.0</td>\n",
       "      <td>3648</td>\n",
       "    </tr>\n",
       "    <tr>\n",
       "      <th>247</th>\n",
       "      <td>2018-08-06</td>\n",
       "      <td>6567.0</td>\n",
       "      <td>4098</td>\n",
       "    </tr>\n",
       "  </tbody>\n",
       "</table>\n",
       "<p>248 rows × 3 columns</p>\n",
       "</div>"
      ],
      "text/plain": [
       "    calendar_date  depot_store_id  waste_prediction_waste\n",
       "0      2018-07-07          3942.0                    2218\n",
       "1      2018-07-07          5173.0                    2994\n",
       "2      2018-07-07          5212.0                    2933\n",
       "3      2018-07-07          5380.0                    1572\n",
       "4      2018-07-07          5652.0                    2230\n",
       "..            ...             ...                     ...\n",
       "243    2018-08-06          5380.0                    2265\n",
       "244    2018-08-06          5652.0                    2724\n",
       "245    2018-08-06          5908.0                    3247\n",
       "246    2018-08-06          5966.0                    3648\n",
       "247    2018-08-06          6567.0                    4098\n",
       "\n",
       "[248 rows x 3 columns]"
      ]
     },
     "execution_count": 126,
     "metadata": {},
     "output_type": "execute_result"
    }
   ],
   "source": [
    "sum_flags[['calendar_date', 'depot_store_id', 'waste_prediction_waste']]"
   ]
  },
  {
   "cell_type": "code",
   "execution_count": null,
   "metadata": {},
   "outputs": [],
   "source": []
  }
 ],
 "metadata": {
  "kernelspec": {
   "display_name": "Python 3",
   "language": "python",
   "name": "python3"
  },
  "language_info": {
   "codemirror_mode": {
    "name": "ipython",
    "version": 3
   },
   "file_extension": ".py",
   "mimetype": "text/x-python",
   "name": "python",
   "nbconvert_exporter": "python",
   "pygments_lexer": "ipython3",
   "version": "3.7.6"
  }
 },
 "nbformat": 4,
 "nbformat_minor": 4
}
